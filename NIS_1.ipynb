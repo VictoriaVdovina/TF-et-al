{
 "cells": [
  {
   "cell_type": "code",
   "execution_count": 1,
   "metadata": {},
   "outputs": [],
   "source": [
    "#18.Реализовать записную книжку, осуществляющую хранение персональной информации (фамилия, имя, возраст, пол, номер телефона). Обеспечить сортировку записей по фамилии и поиск по возрасту.\n",
    "class Person:\n",
    "    def __init__(self,surname,name,age,gender,tel):\n",
    "        self.surname = surname\n",
    "        self.name = name\n",
    "        self.age = age\n",
    "        self.gender = gender\n",
    "        self.tel = tel\n",
    "\n",
    "    def get_inf(self):\n",
    "        print('Surname:', self.surname)\n",
    "        print('Name:', self.name)\n",
    "        print('Age', self.age)\n",
    "        print('Gender:', self.gender)\n",
    "        print('Tel:', self.tel)\n",
    "\n",
    "    def __repr__(self):\n",
    "        return(self.name + \" \" + self.surname + \"-\" + str(self.age) + \"-\" + self.gender + \"-\" + self.tel)"
   ]
  },
  {
   "cell_type": "code",
   "execution_count": 2,
   "metadata": {},
   "outputs": [],
   "source": [
    "people = [] # список людей \n",
    "\n",
    "person1 = Person(\"Petrov\",\"Ivan\", 49, \"male\", \"89469023456\")\n",
    "person2 = Person(\"Ivanov\",\"Petr\",34, \"male\", \"89469023456\")\n",
    "person3 = Person(\"Petrova\",\"Ivanna\",23, \"female\", \"89469023456\")\n",
    "\n",
    "#добавляем людей в список\n",
    "people.append(person1)\n",
    "people.append(person2)\n",
    "people.append(person3)"
   ]
  },
  {
   "cell_type": "code",
   "execution_count": 5,
   "metadata": {},
   "outputs": [
    {
     "name": "stdout",
     "output_type": "stream",
     "text": [
      "Age:49\n",
      "Surname: Petrov\n",
      "Name: Ivan\n",
      "Age 49\n",
      "Gender: male\n",
      "Tel: 89469023456\n"
     ]
    }
   ],
   "source": [
    "# осуществление поиска абонента по возрасту \n",
    "def get_by_age(data):\n",
    "    input_age = input(\"Age:\")\n",
    "    for i in data:\n",
    "        if i.age == int(input_age):\n",
    "            i.get_inf()\n",
    "\n",
    "get_by_age(people)"
   ]
  },
  {
   "cell_type": "code",
   "execution_count": 6,
   "metadata": {},
   "outputs": [
    {
     "name": "stdout",
     "output_type": "stream",
     "text": [
      "[Petr Ivanov-34-male-89469023456, Ivan Petrov-49-male-89469023456, Ivanna Petrova-23-female-89469023456]\n"
     ]
    }
   ],
   "source": [
    "# сортировка абонентов по фамилии \n",
    "def sort_by_surname(person):\n",
    "    return person.surname\n",
    "\n",
    "sort = sorted(people, key = sort_by_surname)\n",
    "print(sort)\n"
   ]
  }
 ],
 "metadata": {
  "kernelspec": {
   "display_name": "Python 3",
   "language": "python",
   "name": "python3"
  },
  "language_info": {
   "codemirror_mode": {
    "name": "ipython",
    "version": 3
   },
   "file_extension": ".py",
   "mimetype": "text/x-python",
   "name": "python",
   "nbconvert_exporter": "python",
   "pygments_lexer": "ipython3",
   "version": "3.6.4"
  }
 },
 "nbformat": 4,
 "nbformat_minor": 2
}
