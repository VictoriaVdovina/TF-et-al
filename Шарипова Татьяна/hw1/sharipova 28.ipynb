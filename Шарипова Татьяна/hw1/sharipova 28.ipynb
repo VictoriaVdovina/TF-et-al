{
 "cells": [
  {
   "cell_type": "markdown",
   "metadata": {},
   "source": [
    "# Задача 28\n",
    "### Выполнила Татьяна Шарипова"
   ]
  },
  {
   "cell_type": "markdown",
   "metadata": {},
   "source": [
    "Задан список приобретаемых в магазине товаров (не более 100), для каждого из которых указаны наименование, числовой шифр (до 9 знаков), цена, количество, единица измерения (шт., кг, л.). Реализовать подсчет стоимости по каждой позиции и общей суммы, поиск по шифру, сортировку по наименованию и стоимости."
   ]
  },
  {
   "cell_type": "code",
   "execution_count": 1,
   "metadata": {},
   "outputs": [],
   "source": [
    "class Product:\n",
    "    def __init__(self, name, price, amount, unit):\n",
    "        self.name = name\n",
    "        self.price = price\n",
    "        self.amount = amount\n",
    "        self.unit = unit\n",
    "    \n",
    "    def __str__(self):\n",
    "        return self.name+' '+str(self.price)+' '+str(self.amount)+' '+self.unit"
   ]
  },
  {
   "cell_type": "code",
   "execution_count": 2,
   "metadata": {},
   "outputs": [],
   "source": [
    "with open('input.txt', 'r') as f:\n",
    "    lines = f.read().split('\\n')"
   ]
  },
  {
   "cell_type": "code",
   "execution_count": 3,
   "metadata": {},
   "outputs": [],
   "source": [
    "products={}\n",
    "names,prices=[],[]\n",
    "for line in lines:\n",
    "    lst = line.split(' ')\n",
    "    products[lst[1]] = Product(lst[0], round(float(lst[2]), 2), round(float(lst[3]), 2), lst[4])\n",
    "    names.append(lst[0])\n",
    "    prices.append(round(float(lst[2]), 2))"
   ]
  },
  {
   "cell_type": "code",
   "execution_count": 4,
   "metadata": {},
   "outputs": [
    {
     "name": "stdout",
     "output_type": "stream",
     "text": [
      "1: lemon 84.0 10.0 kg\n",
      "11: apple 90.0 1.2 kg\n",
      "111: orange 96.0 0.6 kg\n",
      "11111: tomato 108.0 3.0 kg\n",
      "111111: potato 114.0 1.0 kg\n",
      "1111111: cucumber 120.0 7.0 kg\n",
      "029: candy 90.0 23.0 pieces\n",
      "029029: chupa-chups 95.0 17.0 pieces\n",
      "841: honey 340.0 2.0 pieces\n",
      "9378: water 10.0 235.0 l\n",
      "93789378: juice 128.0 710.0 l\n"
     ]
    }
   ],
   "source": [
    "for key in products:\n",
    "    print(key+':', products[key])"
   ]
  },
  {
   "cell_type": "code",
   "execution_count": 5,
   "metadata": {},
   "outputs": [],
   "source": [
    "def count_sum(product):\n",
    "    return round(product.amount*product.price, 2)"
   ]
  },
  {
   "cell_type": "code",
   "execution_count": 6,
   "metadata": {},
   "outputs": [],
   "source": [
    "def count_general_sum(products):\n",
    "    s = 0\n",
    "    for key in products:\n",
    "        s += count_sum(products[key])\n",
    "    return s"
   ]
  },
  {
   "cell_type": "markdown",
   "metadata": {},
   "source": [
    "Реализовать подсчет стоимости по каждой позиции:"
   ]
  },
  {
   "cell_type": "code",
   "execution_count": 7,
   "metadata": {},
   "outputs": [
    {
     "name": "stdout",
     "output_type": "stream",
     "text": [
      "lemon 840.0 rub\n",
      "apple 108.0 rub\n",
      "orange 57.6 rub\n",
      "tomato 324.0 rub\n",
      "potato 114.0 rub\n",
      "cucumber 840.0 rub\n",
      "candy 2070.0 rub\n",
      "chupa-chups 1615.0 rub\n",
      "honey 680.0 rub\n",
      "water 2350.0 rub\n",
      "juice 90880.0 rub\n"
     ]
    }
   ],
   "source": [
    "for key in products:\n",
    "    print(products[key].name, count_sum(products[key]), 'rub')"
   ]
  },
  {
   "cell_type": "markdown",
   "metadata": {},
   "source": [
    "и общей суммы:"
   ]
  },
  {
   "cell_type": "code",
   "execution_count": 8,
   "metadata": {},
   "outputs": [
    {
     "name": "stdout",
     "output_type": "stream",
     "text": [
      "general = 99878.6 rub\n"
     ]
    }
   ],
   "source": [
    "print('general =', count_general_sum(products), 'rub')"
   ]
  },
  {
   "cell_type": "markdown",
   "metadata": {},
   "source": [
    "поиск по шифру:"
   ]
  },
  {
   "cell_type": "code",
   "execution_count": 9,
   "metadata": {},
   "outputs": [
    {
     "name": "stdout",
     "output_type": "stream",
     "text": [
      "111\n",
      "orange\n"
     ]
    }
   ],
   "source": [
    "code = input()\n",
    "if code in products:\n",
    "    print(products[code].name)\n",
    "else:\n",
    "    print('there is no product with that code')"
   ]
  },
  {
   "cell_type": "markdown",
   "metadata": {},
   "source": [
    "сортировку по наименованию:"
   ]
  },
  {
   "cell_type": "code",
   "execution_count": 10,
   "metadata": {},
   "outputs": [
    {
     "name": "stdout",
     "output_type": "stream",
     "text": [
      "apple 90.0 1.2 kg\n",
      "candy 90.0 23.0 pieces\n",
      "chupa-chups 95.0 17.0 pieces\n",
      "cucumber 120.0 7.0 kg\n",
      "honey 340.0 2.0 pieces\n",
      "juice 128.0 710.0 l\n",
      "lemon 84.0 10.0 kg\n",
      "orange 96.0 0.6 kg\n",
      "potato 114.0 1.0 kg\n",
      "tomato 108.0 3.0 kg\n",
      "water 10.0 235.0 l\n"
     ]
    }
   ],
   "source": [
    "used_keys=[]\n",
    "sorted_names = sorted(names)\n",
    "for i in sorted_names:    \n",
    "    for key in products:\n",
    "        if products[key].name == i and key not in used_keys:\n",
    "            used_keys.append(key)\n",
    "            print(products[key])"
   ]
  },
  {
   "cell_type": "markdown",
   "metadata": {},
   "source": [
    " и стоимости:"
   ]
  },
  {
   "cell_type": "code",
   "execution_count": 11,
   "metadata": {},
   "outputs": [
    {
     "name": "stdout",
     "output_type": "stream",
     "text": [
      "water 10.0 235.0 l\n",
      "lemon 84.0 10.0 kg\n",
      "apple 90.0 1.2 kg\n",
      "candy 90.0 23.0 pieces\n",
      "chupa-chups 95.0 17.0 pieces\n",
      "orange 96.0 0.6 kg\n",
      "tomato 108.0 3.0 kg\n",
      "potato 114.0 1.0 kg\n",
      "cucumber 120.0 7.0 kg\n",
      "juice 128.0 710.0 l\n",
      "honey 340.0 2.0 pieces\n"
     ]
    }
   ],
   "source": [
    "used_keys=[]\n",
    "sorted_prices = sorted(prices)\n",
    "for i in sorted_prices:    \n",
    "    for key in products:\n",
    "        if products[key].price == i and key not in used_keys:\n",
    "            used_keys.append(key)\n",
    "            print(products[key])"
   ]
  }
 ],
 "metadata": {
  "kernelspec": {
   "display_name": "Python 3",
   "language": "python",
   "name": "python3"
  },
  "language_info": {
   "codemirror_mode": {
    "name": "ipython",
    "version": 3
   },
   "file_extension": ".py",
   "mimetype": "text/x-python",
   "name": "python",
   "nbconvert_exporter": "python",
   "pygments_lexer": "ipython3",
   "version": "3.6.4"
  }
 },
 "nbformat": 4,
 "nbformat_minor": 2
}
