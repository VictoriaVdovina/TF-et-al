{
 "cells": [
  {
   "cell_type": "markdown",
   "metadata": {},
   "source": [
    "### Шарипова Т. \n",
    "**Формула 2. **"
   ]
  },
  {
   "cell_type": "markdown",
   "metadata": {},
   "source": [
    "$$a^3 - 3a + b + 2ab - x$$"
   ]
  },
  {
   "cell_type": "code",
   "execution_count": 1,
   "metadata": {},
   "outputs": [
    {
     "name": "stderr",
     "output_type": "stream",
     "text": [
      "/home/tanya/anaconda3/lib/python3.6/site-packages/h5py/__init__.py:36: FutureWarning: Conversion of the second argument of issubdtype from `float` to `np.floating` is deprecated. In future, it will be treated as `np.float64 == np.dtype(float).type`.\n",
      "  from ._conv import register_converters as _register_converters\n"
     ]
    }
   ],
   "source": [
    "import tensorflow as tf"
   ]
  },
  {
   "cell_type": "code",
   "execution_count": 2,
   "metadata": {},
   "outputs": [],
   "source": [
    "a = tf.placeholder(tf.int32)    #указали тип плейсхолдера\n",
    "b = tf.placeholder(tf.int32)\n",
    "x = tf.placeholder(tf.int32)\n",
    "\n",
    "c = tf.Variable(3)\n",
    "d = tf.Variable(2)\n",
    "\n",
    "f = tf.add(tf.add(tf.add(tf.add(tf.multiply(a, tf.multiply(a, a)), -tf.multiply(c, a)), b), tf.multiply(d, tf.multiply(a, b))), -x)"
   ]
  },
  {
   "cell_type": "code",
   "execution_count": 3,
   "metadata": {},
   "outputs": [],
   "source": [
    "ab = [(1, 1), (0, 10), (3, 0)]\n",
    "xs = [-10, 0, 10]"
   ]
  },
  {
   "cell_type": "code",
   "execution_count": 4,
   "metadata": {},
   "outputs": [],
   "source": [
    "init = tf.global_variables_initializer()"
   ]
  },
  {
   "cell_type": "code",
   "execution_count": 5,
   "metadata": {},
   "outputs": [
    {
     "name": "stdout",
     "output_type": "stream",
     "text": [
      "\n",
      "a = 1; b = 1\n",
      "x =-10; result = 11\n",
      "x =0; result = 1\n",
      "x =10; result = -9\n",
      "\n",
      "a = 0; b = 10\n",
      "x =-10; result = 20\n",
      "x =0; result = 10\n",
      "x =10; result = 0\n",
      "\n",
      "a = 3; b = 0\n",
      "x =-10; result = 28\n",
      "x =0; result = 18\n",
      "x =10; result = 8\n"
     ]
    }
   ],
   "source": [
    "for v1, v2 in ab:\n",
    "    print('\\na = ' + str(v1) + '; b = ' + str(v2))\n",
    "    for i in xs:\n",
    "        with tf.Session() as sess: \n",
    "            init.run()\n",
    "            result = sess.run(f, feed_dict={a: v1, b: v2, x: i})    \n",
    "            print('x =' + str(i) + '; result = ' + str(result))"
   ]
  },
  {
   "cell_type": "code",
   "execution_count": null,
   "metadata": {},
   "outputs": [],
   "source": []
  }
 ],
 "metadata": {
  "kernelspec": {
   "display_name": "Python 3",
   "language": "python",
   "name": "python3"
  },
  "language_info": {
   "codemirror_mode": {
    "name": "ipython",
    "version": 3
   },
   "file_extension": ".py",
   "mimetype": "text/x-python",
   "name": "python",
   "nbconvert_exporter": "python",
   "pygments_lexer": "ipython3",
   "version": "3.6.4"
  }
 },
 "nbformat": 4,
 "nbformat_minor": 2
}
