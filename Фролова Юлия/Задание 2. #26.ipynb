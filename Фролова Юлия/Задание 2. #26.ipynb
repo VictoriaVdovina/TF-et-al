{
 "cells": [
  {
   "cell_type": "markdown",
   "metadata": {},
   "source": [
    "# 8x*3y*(-5y) - 7x^2*4y"
   ]
  },
  {
   "cell_type": "markdown",
   "metadata": {},
   "source": [
    "## Operation"
   ]
  },
  {
   "cell_type": "code",
   "execution_count": 1,
   "metadata": {},
   "outputs": [],
   "source": [
    "class Operation():\n",
    "      \n",
    "    def __init__(self, input_nodes = []):\n",
    "        \n",
    "        self.input_nodes = input_nodes \n",
    "        self.output_nodes = [] \n",
    "        \n",
    "        \n",
    "        for node in input_nodes:\n",
    "            node.output_nodes.append(self)\n",
    "        \n",
    "        \n",
    "        _default_graph.operations.append(self)\n",
    "  \n",
    "    def compute(self):\n",
    "        \n",
    "        pass"
   ]
  },
  {
   "cell_type": "markdown",
   "metadata": {},
   "source": [
    "## Example Operations\n",
    "\n",
    "### Addition"
   ]
  },
  {
   "cell_type": "code",
   "execution_count": 2,
   "metadata": {},
   "outputs": [],
   "source": [
    "class add(Operation):\n",
    "    \n",
    "    def __init__(self, x, y):\n",
    "         \n",
    "        super().__init__([x, y])\n",
    "\n",
    "    def compute(self, x_var, y_var):\n",
    "         \n",
    "        self.inputs = [x_var, y_var]\n",
    "        return x_var + y_var"
   ]
  },
  {
   "cell_type": "markdown",
   "metadata": {},
   "source": [
    "### Subtraction"
   ]
  },
  {
   "cell_type": "code",
   "execution_count": 3,
   "metadata": {},
   "outputs": [],
   "source": [
    "class subtraction(Operation):\n",
    "    \n",
    "    def __init__(self, x, y):\n",
    "         \n",
    "        super().__init__([x, y])\n",
    "\n",
    "    def compute(self, x_var, y_var):\n",
    "         \n",
    "        self.inputs = [x_var, y_var]\n",
    "        return x_var - y_var"
   ]
  },
  {
   "cell_type": "markdown",
   "metadata": {},
   "source": [
    "### Multiplication"
   ]
  },
  {
   "cell_type": "code",
   "execution_count": 4,
   "metadata": {},
   "outputs": [],
   "source": [
    "class multiply(Operation):\n",
    "     \n",
    "    def __init__(self, a, b):\n",
    "        \n",
    "        super().__init__([a, b])\n",
    "    \n",
    "    def compute(self, a_var, b_var):\n",
    "         \n",
    "        self.inputs = [a_var, b_var]\n",
    "        return a_var * b_var"
   ]
  },
  {
   "cell_type": "markdown",
   "metadata": {},
   "source": [
    "### Power of 2"
   ]
  },
  {
   "cell_type": "code",
   "execution_count": 5,
   "metadata": {},
   "outputs": [],
   "source": [
    "class second_power(Operation):\n",
    "     \n",
    "    def __init__(self, a):\n",
    "        \n",
    "        super().__init__([a])\n",
    "    \n",
    "    def compute(self, a_var):\n",
    "         \n",
    "        self.inputs = [a_var]\n",
    "        return a_var ** 2"
   ]
  },
  {
   "cell_type": "code",
   "execution_count": 6,
   "metadata": {},
   "outputs": [],
   "source": [
    "import numpy as np"
   ]
  },
  {
   "cell_type": "markdown",
   "metadata": {},
   "source": [
    "## Placeholders"
   ]
  },
  {
   "cell_type": "code",
   "execution_count": 7,
   "metadata": {},
   "outputs": [],
   "source": [
    "class Placeholder():\n",
    "    \n",
    "    def __init__(self):\n",
    "        \n",
    "        self.output_nodes = []\n",
    "        \n",
    "        _default_graph.placeholders.append(self)"
   ]
  },
  {
   "cell_type": "markdown",
   "metadata": {},
   "source": [
    "## Variables"
   ]
  },
  {
   "cell_type": "code",
   "execution_count": 8,
   "metadata": {},
   "outputs": [],
   "source": [
    "class Variable():\n",
    "    \n",
    "    def __init__(self, initial_value = None):\n",
    "        \n",
    "        self.value = initial_value\n",
    "        self.output_nodes = []\n",
    "        \n",
    "         \n",
    "        _default_graph.variables.append(self)"
   ]
  },
  {
   "cell_type": "markdown",
   "metadata": {},
   "source": [
    "## Graph"
   ]
  },
  {
   "cell_type": "code",
   "execution_count": 9,
   "metadata": {},
   "outputs": [],
   "source": [
    "class Graph():\n",
    "    \n",
    "    \n",
    "    def __init__(self):\n",
    "        \n",
    "        self.operations = []\n",
    "        self.placeholders = []\n",
    "        self.variables = []\n",
    "        \n",
    "    def set_as_default(self):\n",
    "        \n",
    "        global _default_graph\n",
    "        _default_graph = self"
   ]
  },
  {
   "cell_type": "markdown",
   "metadata": {},
   "source": [
    "8x*3y*(-5y) - 7x^2*4y"
   ]
  },
  {
   "cell_type": "code",
   "execution_count": 10,
   "metadata": {},
   "outputs": [],
   "source": [
    "g = Graph()"
   ]
  },
  {
   "cell_type": "code",
   "execution_count": 11,
   "metadata": {},
   "outputs": [],
   "source": [
    "g.set_as_default()"
   ]
  },
  {
   "cell_type": "code",
   "execution_count": 12,
   "metadata": {},
   "outputs": [],
   "source": [
    "a = Variable(8)\n",
    "b = Variable(3)\n",
    "c = Variable(-5)\n",
    "d = Variable(7)\n",
    "e = Variable(4)"
   ]
  },
  {
   "cell_type": "code",
   "execution_count": 13,
   "metadata": {},
   "outputs": [],
   "source": [
    "y = Placeholder()\n",
    "x = Placeholder()"
   ]
  },
  {
   "cell_type": "markdown",
   "metadata": {},
   "source": [
    "Left part"
   ]
  },
  {
   "cell_type": "code",
   "execution_count": 14,
   "metadata": {},
   "outputs": [],
   "source": [
    "f = multiply(a,x)\n",
    "g = multiply(b,y)\n",
    "h = multiply(c,y)\n",
    "m = multiply(f,g)\n",
    "n = multiply(m,h)"
   ]
  },
  {
   "cell_type": "markdown",
   "metadata": {},
   "source": [
    "Right part"
   ]
  },
  {
   "cell_type": "code",
   "execution_count": 15,
   "metadata": {},
   "outputs": [],
   "source": [
    "j = second_power(x)\n",
    "i = multiply(e,y)\n",
    "k = multiply(d,j)\n",
    "l = multiply(k, i)\n",
    "z = subtraction(n,l)"
   ]
  },
  {
   "cell_type": "markdown",
   "metadata": {},
   "source": [
    "## Session"
   ]
  },
  {
   "cell_type": "markdown",
   "metadata": {},
   "source": [
    "### Traversing Operation Nodes"
   ]
  },
  {
   "cell_type": "code",
   "execution_count": 16,
   "metadata": {},
   "outputs": [],
   "source": [
    "def traverse_postorder(operation):\n",
    "    \n",
    "    nodes_postorder = []\n",
    "    def recurse(node):\n",
    "        if isinstance(node, Operation):\n",
    "            for input_node in node.input_nodes:\n",
    "                recurse(input_node)\n",
    "        nodes_postorder.append(node)\n",
    "\n",
    "    recurse(operation)\n",
    "    return nodes_postorder"
   ]
  },
  {
   "cell_type": "code",
   "execution_count": 17,
   "metadata": {},
   "outputs": [],
   "source": [
    "class Session:\n",
    "    \n",
    "    def run(self, operation, feed_dict = {}):\n",
    "        \n",
    "        nodes_postorder = traverse_postorder(operation)\n",
    "        \n",
    "        for node in nodes_postorder:\n",
    "\n",
    "            if type(node) == Placeholder:\n",
    "                \n",
    "                node.output = feed_dict[node]\n",
    "                \n",
    "            elif type(node) == Variable:\n",
    "                \n",
    "                node.output = node.value\n",
    "                \n",
    "            else: \n",
    "                \n",
    "                node.inputs = [input_node.output for input_node in node.input_nodes]\n",
    "\n",
    "                 \n",
    "                node.output = node.compute(*node.inputs)\n",
    "                \n",
    "            if type(node.output) == list:\n",
    "                node.output = np.array(node.output)\n",
    "        \n",
    "        return operation.output"
   ]
  },
  {
   "cell_type": "code",
   "execution_count": 18,
   "metadata": {},
   "outputs": [],
   "source": [
    "sess = Session()"
   ]
  },
  {
   "cell_type": "code",
   "execution_count": 19,
   "metadata": {},
   "outputs": [],
   "source": [
    "result = sess.run(operation=z,feed_dict={x:[3, -3, 4, -5], y:[2, -2, -1, 7]})"
   ]
  },
  {
   "cell_type": "code",
   "execution_count": 20,
   "metadata": {},
   "outputs": [
    {
     "data": {
      "text/plain": [
       "array([-1944,  1944,   -32, 24500])"
      ]
     },
     "execution_count": 20,
     "metadata": {},
     "output_type": "execute_result"
    }
   ],
   "source": [
    "result"
   ]
  }
 ],
 "metadata": {
  "kernelspec": {
   "display_name": "Python 3",
   "language": "python",
   "name": "python3"
  },
  "language_info": {
   "codemirror_mode": {
    "name": "ipython",
    "version": 3
   },
   "file_extension": ".py",
   "mimetype": "text/x-python",
   "name": "python",
   "nbconvert_exporter": "python",
   "pygments_lexer": "ipython3",
   "version": "3.6.4"
  }
 },
 "nbformat": 4,
 "nbformat_minor": 2
}
