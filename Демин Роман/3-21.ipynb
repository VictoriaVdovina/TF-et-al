{
 "cells": [
  {
   "cell_type": "code",
   "execution_count": 18,
   "metadata": {},
   "outputs": [],
   "source": [
    "# Задание 21. 2m^6 + 5m^6 - 8m^6 - 11m^6\n",
    "\n",
    "import tensorflow as tf"
   ]
  },
  {
   "cell_type": "code",
   "execution_count": 19,
   "metadata": {},
   "outputs": [],
   "source": [
    "a = tf.constant(2.0)\n",
    "b = tf.constant(5.0)\n",
    "c = tf.constant(-8.0)\n",
    "d = tf.constant(-11.0)"
   ]
  },
  {
   "cell_type": "code",
   "execution_count": 20,
   "metadata": {},
   "outputs": [
    {
     "data": {
      "text/plain": [
       "<tensorflow.python.framework.ops.Graph at 0x3619bc0eb8>"
      ]
     },
     "execution_count": 20,
     "metadata": {},
     "output_type": "execute_result"
    }
   ],
   "source": [
    "tf.get_default_graph()"
   ]
  },
  {
   "cell_type": "code",
   "execution_count": 21,
   "metadata": {},
   "outputs": [
    {
     "name": "stdout",
     "output_type": "stream",
     "text": [
      "<tensorflow.python.framework.ops.Graph object at 0x0000003619F8D128>\n"
     ]
    }
   ],
   "source": [
    "graph = tf.Graph()\n",
    "print(graph)"
   ]
  },
  {
   "cell_type": "code",
   "execution_count": 22,
   "metadata": {},
   "outputs": [],
   "source": [
    "m = tf.placeholder(tf.float32)  # есть также упрощенный вариант приведения графа к виду -12m^6 (tf.constant = -12 <multiply> m6)\n",
    "\n",
    "m2 = tf.multiply(m, m)\n",
    "m3 = tf.multiply(m2, m)     \n",
    "m4 = tf.multiply(m3, m) \n",
    "m5 = tf.multiply(m4, m)\n",
    "m6 = tf.multiply(m5, m) #m^6\n",
    "\n",
    "first = tf.multiply(a, m6) #2m^6  \n",
    "second = tf.multiply(b, m6) #5m^6\n",
    "third = tf.multiply(c, m6) #-8m^6\n",
    "forth = tf.multiply(d, m6) #-11m^6\n",
    "\n",
    "final1 = tf.add(first, second) #2m^6+5m^6\n",
    "final2 = tf.add(final1,third) #2m^6+5m^6-8m^6\n",
    "final3 = tf.add(final2,forth) #2m^6+5m^6-8m^6-11m^6"
   ]
  },
  {
   "cell_type": "code",
   "execution_count": 23,
   "metadata": {},
   "outputs": [
    {
     "name": "stderr",
     "output_type": "stream",
     "text": [
      "C:\\Anaconda\\lib\\site-packages\\tensorflow\\python\\client\\session.py:1645: UserWarning: An interactive session is already active. This can cause out-of-memory errors in some cases. You must explicitly call `InteractiveSession.close()` to release resources held by the other session(s).\n",
      "  warnings.warn('An interactive session is already active. This can '\n"
     ]
    }
   ],
   "source": [
    "sess = tf.InteractiveSession()"
   ]
  },
  {
   "cell_type": "code",
   "execution_count": 24,
   "metadata": {},
   "outputs": [
    {
     "name": "stdout",
     "output_type": "stream",
     "text": [
      "Trial 1\n",
      "Res1:  -12.0\n"
     ]
    }
   ],
   "source": [
    "print('Trial 1')\n",
    "res1 = sess.run(final3, feed_dict={m:1})\n",
    "print('Res1: ',res1)"
   ]
  },
  {
   "cell_type": "code",
   "execution_count": 25,
   "metadata": {},
   "outputs": [
    {
     "name": "stdout",
     "output_type": "stream",
     "text": [
      "Check Res1:  -12\n"
     ]
    }
   ],
   "source": [
    "res1_1 = 2*(1**6) + 5*(1**6) - 8*(1**6) - 11*(1**6)\n",
    "print('Check Res1: ',res1_1)"
   ]
  },
  {
   "cell_type": "code",
   "execution_count": 26,
   "metadata": {},
   "outputs": [
    {
     "name": "stdout",
     "output_type": "stream",
     "text": [
      "Trial 2\n",
      "Res2:  -768.0\n"
     ]
    }
   ],
   "source": [
    "print('Trial 2')\n",
    "res2 = sess.run(final3, feed_dict={m:2})\n",
    "print('Res2: ',res2)"
   ]
  },
  {
   "cell_type": "code",
   "execution_count": 27,
   "metadata": {},
   "outputs": [
    {
     "name": "stdout",
     "output_type": "stream",
     "text": [
      "Check Res2:  -768\n"
     ]
    }
   ],
   "source": [
    "res2_2 = 2*(2**6) + 5*(2**6) - 8*(2**6) - 11*(2**6)\n",
    "print('Check Res2: ',res2_2)"
   ]
  },
  {
   "cell_type": "code",
   "execution_count": 28,
   "metadata": {},
   "outputs": [],
   "source": [
    "sess.close()"
   ]
  },
  {
   "cell_type": "code",
   "execution_count": null,
   "metadata": {},
   "outputs": [],
   "source": []
  }
 ],
 "metadata": {
  "kernelspec": {
   "display_name": "Python 3",
   "language": "python",
   "name": "python3"
  },
  "language_info": {
   "codemirror_mode": {
    "name": "ipython",
    "version": 3
   },
   "file_extension": ".py",
   "mimetype": "text/x-python",
   "name": "python",
   "nbconvert_exporter": "python",
   "pygments_lexer": "ipython3",
   "version": "3.6.5"
  }
 },
 "nbformat": 4,
 "nbformat_minor": 2
}
