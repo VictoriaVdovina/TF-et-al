{
 "cells": [
  {
   "cell_type": "code",
   "execution_count": 0,
   "metadata": {},
   "outputs": [],
   "source": [
    "import random\n",
    "import math\n",
    "import matplotlib.pyplot as plt\n",
    "n=2\n",
    "m=10"
   ]
  },
  {
   "cell_type": "code",
   "execution_count": 0,
   "metadata": {},
   "outputs": [],
   "source": [
    "def rotate(A,B,C):\n",
    "  return (B[0]-A[0])*(C[1]-B[1])-(B[1]-A[1])*(C[0]-B[0])"
   ]
  },
  {
   "cell_type": "code",
   "execution_count": 0,
   "metadata": {},
   "outputs": [],
   "source": [
    "def curve(A):\n",
    "    n = len(A) # число точек\n",
    "    P = [x for x in range(0, n)]\n",
    "    for i in range(1,n):\n",
    "        if A[P[i]][0]<A[P[0]][0]: # если P[i]-ая точка лежит левее P[0]-ой точки\n",
    "            P[i], P[0] = P[0], P[i] # меняем местами номера этих точек \n",
    "    for i in range(2,n):\n",
    "        j = i\n",
    "        while j>1 and (rotate(A[P[0]],A[P[j-1]],A[P[j]])<0): \n",
    "            P[j], P[j-1] = P[j-1], P[j]\n",
    "            j -= 1\n",
    "    return(P)"
   ]
  },
  {
   "cell_type": "code",
   "execution_count": 0,
   "metadata": {},
   "outputs": [],
   "source": [
    "def distance(A,B):\n",
    "  dist = math.sqrt((A[0]-B[0])**2+(A[1]-B[1])**2)\n",
    "  return dist"
   ]
  },
  {
   "cell_type": "code",
   "execution_count": 0,
   "metadata": {},
   "outputs": [],
   "source": [
    "coords = [[random.randrange(0, 10000, 1) for j in range(n)] for i in range(m)]"
   ]
  },
  {
   "cell_type": "code",
   "execution_count": 76,
   "metadata": {},
   "outputs": [
    {
     "name": "stdout",
     "output_type": "stream",
     "text": [
      "[[355, 7777], [6292, 4122], [6318, 6234], [1758, 2607], [2012, 8918], [6706, 8870], [2549, 4675], [9528, 5881], [316, 8842], [5742, 1916]]\n"
     ]
    }
   ],
   "source": [
    "print(coords)"
   ]
  },
  {
   "cell_type": "code",
   "execution_count": 77,
   "metadata": {},
   "outputs": [
    {
     "data": {
      "text/plain": [
       "[8, 0, 3, 6, 9, 1, 2, 7, 5, 4]"
      ]
     },
     "execution_count": 77,
     "output_type": "execute_result",
     "metadata": {}
    }
   ],
   "source": [
    "k = curve(coords)\n",
    "k"
   ]
  },
  {
   "cell_type": "code",
   "execution_count": 78,
   "metadata": {},
   "outputs": [
    {
     "data": {
      "text/plain": [
       "[[316, 8842],\n",
       " [355, 7777],\n",
       " [1758, 2607],\n",
       " [2549, 4675],\n",
       " [5742, 1916],\n",
       " [6292, 4122],\n",
       " [6318, 6234],\n",
       " [9528, 5881],\n",
       " [6706, 8870],\n",
       " [2012, 8918]]"
      ]
     },
     "execution_count": 78,
     "output_type": "execute_result",
     "metadata": {}
    }
   ],
   "source": [
    "new_coords = []\n",
    "for i in k:\n",
    "  new_coords.append(coords[i])\n",
    "new_coords"
   ]
  },
  {
   "cell_type": "code",
   "execution_count": 79,
   "metadata": {},
   "outputs": [
    {
     "data": {
      "text/plain": [
       "[<matplotlib.lines.Line2D at 0x7f2f9a3fa6d8>]"
      ]
     },
     "execution_count": 79,
     "output_type": "execute_result",
     "metadata": {}
    },
    {
     "data": {
      "image/png": "[encoded data removed]"
     },
     "output_type": "display_data",
     "metadata": {}
    }
   ],
   "source": [
    "plt.plot(*zip(*(new_coords)))"
   ]
  },
  {
   "cell_type": "code",
   "execution_count": 80,
   "metadata": {},
   "outputs": [
    {
     "name": "stdout",
     "output_type": "stream",
     "text": [
      "1065.7138452699205\n"
     ]
    }
   ],
   "source": [
    "min_dist = distance(new_coords[0],new_coords[1])\n",
    "for i in range(len(new_coords)-1):\n",
    "  dist = distance(new_coords[i],new_coords[i+1])\n",
    "  if(min_dist > dist):\n",
    "    min_dist = dist    \n",
    "print(min_dist)"
   ]
  }
 ],
 "metadata": {
  "colab": {
   "name": "nine.ipynb",
   "version": "0.3.2",
   "provenance": []
  },
  "kernelspec": {
   "name": "python3",
   "display_name": "Python 3"
  }
 },
 "nbformat": 4,
 "nbformat_minor": 0
}
