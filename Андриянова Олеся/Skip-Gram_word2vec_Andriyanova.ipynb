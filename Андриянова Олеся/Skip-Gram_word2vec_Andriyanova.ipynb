{
 "cells": [
  {
   "cell_type": "markdown",
   "metadata": {},
   "source": [
    "# Skip-gram word2vec\n",
    "\n",
    "In this notebook, I'll lead you through using TensorFlow to implement the word2vec algorithm using the skip-gram architecture. By implementing this, you'll learn about embedding words for use in natural language processing. This will come in handy when dealing with things like machine translation.\n",
    "\n",
    "## Readings\n",
    "\n",
    "Here are the resources I used to build this notebook. I suggest reading these either beforehand or while you're working on this material.\n",
    "\n",
    "* A really good [conceptual overview](http://mccormickml.com/2016/04/19/word2vec-tutorial-the-skip-gram-model/) of word2vec from Chris McCormick \n",
    "* [First word2vec paper](https://arxiv.org/pdf/1301.3781.pdf) from Mikolov et al.\n",
    "* [NIPS paper](http://papers.nips.cc/paper/5021-distributed-representations-of-words-and-phrases-and-their-compositionality.pdf) with improvements for word2vec also from Mikolov et al.\n",
    "* An [implementation of word2vec](http://www.thushv.com/natural_language_processing/word2vec-part-1-nlp-with-deep-learning-with-tensorflow-skip-gram/) from Thushan Ganegedara\n",
    "* TensorFlow [word2vec tutorial](https://www.tensorflow.org/tutorials/word2vec)\n",
    "\n",
    "## Word embeddings\n",
    "\n",
    "When you're dealing with words in text, you end up with tens of thousands of classes to predict, one for each word. Trying to one-hot encode these words is massively inefficient, you'll have one element set to 1 and the other 50,000 set to 0. The matrix multiplication going into the first hidden layer will have almost all of the resulting values be zero. This a huge waste of computation. \n",
    "\n",
    "![one-hot encodings](assets/one_hot_encoding.png)\n",
    "\n",
    "To solve this problem and greatly increase the efficiency of our networks, we use what are called embeddings. Embeddings are just a fully connected layer like you've seen before. We call this layer the embedding layer and the weights are embedding weights. We skip the multiplication into the embedding layer by instead directly grabbing the hidden layer values from the weight matrix. We can do this because the multiplication of a one-hot encoded vector with a matrix returns the row of the matrix corresponding the index of the \"on\" input unit.\n",
    "\n",
    "![lookup](assets/lookup_matrix.png)\n",
    "\n",
    "Instead of doing the matrix multiplication, we use the weight matrix as a lookup table. We encode the words as integers, for example \"heart\" is encoded as 958, \"mind\" as 18094. Then to get hidden layer values for \"heart\", you just take the 958th row of the embedding matrix. This process is called an **embedding lookup** and the number of hidden units is the **embedding dimension**.\n",
    "\n",
    "<img src='assets/tokenize_lookup.png' width=500>\n",
    " \n",
    "There is nothing magical going on here. The embedding lookup table is just a weight matrix. The embedding layer is just a hidden layer. The lookup is just a shortcut for the matrix multiplication. The lookup table is trained just like any weight matrix as well.\n",
    "\n",
    "Embeddings aren't only used for words of course. You can use them for any model where you have a massive number of classes. A particular type of model called **Word2Vec** uses the embedding layer to find vector representations of words that contain semantic meaning.\n",
    "\n"
   ]
  },
  {
   "cell_type": "markdown",
   "metadata": {},
   "source": [
    "## Word2Vec\n",
    "\n",
    "The word2vec algorithm finds much more efficient representations by finding vectors that represent the words. These vectors also contain semantic information about the words. Words that show up in similar contexts, such as \"black\", \"white\", and \"red\" will have vectors near each other. There are two architectures for implementing word2vec, CBOW (Continuous Bag-Of-Words) and Skip-gram.\n",
    "\n",
    "<img src=\"assets/word2vec_architectures.png\" width=\"500\">\n",
    "\n",
    "In this implementation, we'll be using the skip-gram architecture because it performs better than CBOW. Here, we pass in a word and try to predict the words surrounding it in the text. In this way, we can train the network to learn representations for words that show up in similar contexts.\n",
    "\n",
    "First up, importing packages."
   ]
  },
  {
   "cell_type": "code",
   "execution_count": 1,
   "metadata": {},
   "outputs": [
    {
     "name": "stderr",
     "output_type": "stream",
     "text": [
      "C:\\programs\\anaconda\\lib\\site-packages\\h5py\\__init__.py:36: FutureWarning: Conversion of the second argument of issubdtype from `float` to `np.floating` is deprecated. In future, it will be treated as `np.float64 == np.dtype(float).type`.\n",
      "  from ._conv import register_converters as _register_converters\n"
     ]
    }
   ],
   "source": [
    "import time\n",
    "\n",
    "import numpy as np\n",
    "import tensorflow as tf\n",
    "\n",
    "import utils"
   ]
  },
  {
   "cell_type": "markdown",
   "metadata": {},
   "source": [
    "Load the [text8 dataset](http://mattmahoney.net/dc/textdata.html), a file of cleaned up Wikipedia articles from Matt Mahoney. The next cell will download the data set to the `data` folder. Then you can extract it and delete the archive file to save storage space."
   ]
  },
  {
   "cell_type": "code",
   "execution_count": 2,
   "metadata": {},
   "outputs": [],
   "source": [
    "from urllib.request import urlretrieve\n",
    "from os.path import isfile, isdir\n",
    "from tqdm import tqdm\n",
    "import zipfile\n",
    "\n",
    "dataset_folder_path = 'data'\n",
    "dataset_filename = 'text8.zip'\n",
    "dataset_name = 'Text8 Dataset'\n",
    "\n",
    "class DLProgress(tqdm):\n",
    "    last_block = 0\n",
    "\n",
    "    def hook(self, block_num=1, block_size=1, total_size=None):\n",
    "        self.total = total_size\n",
    "        self.update((block_num - self.last_block) * block_size)\n",
    "        self.last_block = block_num\n",
    "\n",
    "if not isfile(dataset_filename):\n",
    "    with DLProgress(unit='B', unit_scale=True, miniters=1, desc=dataset_name) as pbar:\n",
    "        urlretrieve(\n",
    "            'http://mattmahoney.net/dc/text8.zip',\n",
    "            dataset_filename,\n",
    "            pbar.hook)\n",
    "\n",
    "if not isdir(dataset_folder_path):\n",
    "    with zipfile.ZipFile(dataset_filename) as zip_ref:\n",
    "        zip_ref.extractall(dataset_folder_path)\n",
    "        \n",
    "with open('data/text8') as f:\n",
    "    text = f.read()"
   ]
  },
  {
   "cell_type": "markdown",
   "metadata": {},
   "source": [
    "## Preprocessing\n",
    "\n",
    "Here I'm fixing up the text to make training easier. This comes from the `utils` module I wrote. The `preprocess` function coverts any punctuation into tokens, so a period is changed to ` <PERIOD> `. In this data set, there aren't any periods, but it will help in other NLP problems. I'm also removing all words that show up five or fewer times in the dataset. This will greatly reduce issues due to noise in the data and improve the quality of the vector representations. If you want to write your own functions for this stuff, go for it."
   ]
  },
  {
   "cell_type": "code",
   "execution_count": 3,
   "metadata": {},
   "outputs": [
    {
     "name": "stdout",
     "output_type": "stream",
     "text": [
      "['anarchism', 'originated', 'as', 'a', 'term', 'of', 'abuse', 'first', 'used', 'against', 'early', 'working', 'class', 'radicals', 'including', 'the', 'diggers', 'of', 'the', 'english', 'revolution', 'and', 'the', 'sans', 'culottes', 'of', 'the', 'french', 'revolution', 'whilst']\n"
     ]
    }
   ],
   "source": [
    "words = utils.preprocess(text)\n",
    "print(words[:30])"
   ]
  },
  {
   "cell_type": "code",
   "execution_count": 4,
   "metadata": {},
   "outputs": [
    {
     "name": "stdout",
     "output_type": "stream",
     "text": [
      "Total words: 16680599\n",
      "Unique words: 63641\n"
     ]
    }
   ],
   "source": [
    "print(\"Total words: {}\".format(len(words)))\n",
    "print(\"Unique words: {}\".format(len(set(words))))"
   ]
  },
  {
   "cell_type": "markdown",
   "metadata": {},
   "source": [
    "And here I'm creating dictionaries to convert words to integers and backwards, integers to words. The integers are assigned in descending frequency order, so the most frequent word (\"the\") is given the integer 0 and the next most frequent is 1 and so on. The words are converted to integers and stored in the list `int_words`."
   ]
  },
  {
   "cell_type": "code",
   "execution_count": 5,
   "metadata": {},
   "outputs": [],
   "source": [
    "vocab_to_int, int_to_vocab = utils.create_lookup_tables(words)\n",
    "int_words = [vocab_to_int[word] for word in words]"
   ]
  },
  {
   "cell_type": "markdown",
   "metadata": {},
   "source": [
    "## Subsampling\n",
    "\n",
    "Words that show up often such as \"the\", \"of\", and \"for\" don't provide much context to the nearby words. If we discard some of them, we can remove some of the noise from our data and in return get faster training and better representations. This process is called subsampling by Mikolov. For each word $w_i$ in the training set, we'll discard it with probability given by \n",
    "\n",
    "$$ P(w_i) = 1 - \\sqrt{\\frac{t}{f(w_i)}} $$\n",
    "\n",
    "where $t$ is a threshold parameter and $f(w_i)$ is the frequency of word $w_i$ in the total dataset.\n",
    "\n",
    "I'm going to leave this up to you as an exercise. This is more of a programming challenge, than about deep learning specifically. But, being able to prepare your data for your network is an important skill to have. Check out my solution to see how I did it.\n",
    "\n",
    "> **Exercise:** Implement subsampling for the words in `int_words`. That is, go through `int_words` and discard each word given the probablility $P(w_i)$ shown above. Note that $P(w_i)$ is the probability that a word is discarded. Assign the subsampled data to `train_words`."
   ]
  },
  {
   "cell_type": "code",
   "execution_count": 6,
   "metadata": {},
   "outputs": [
    {
     "data": {
      "text/plain": [
       "3080"
      ]
     },
     "execution_count": 6,
     "metadata": {},
     "output_type": "execute_result"
    }
   ],
   "source": [
    "int_words[1]"
   ]
  },
  {
   "cell_type": "code",
   "execution_count": 7,
   "metadata": {},
   "outputs": [],
   "source": [
    "from collections import Counter\n",
    "import random\n",
    "from math import sqrt\n",
    "\n",
    "freqs = Counter(int_words)\n",
    "corp_len=len(int_words)\n",
    "t = random.uniform(0, 0.00003)\n",
    "P_compare = random.uniform(0.5, 1)\n",
    "\n",
    "word_counts = {word:(1-sqrt(t/(freqs[word]/corp_len))) for word in int_words}\n",
    "train_words = [word for word in int_words if word_counts[word]<P_compare]"
   ]
  },
  {
   "cell_type": "code",
   "execution_count": 8,
   "metadata": {},
   "outputs": [
    {
     "data": {
      "text/plain": [
       "(5123175, 16680599)"
      ]
     },
     "execution_count": 8,
     "metadata": {},
     "output_type": "execute_result"
    }
   ],
   "source": [
    "len(train_words), corp_len"
   ]
  },
  {
   "cell_type": "markdown",
   "metadata": {},
   "source": [
    "## Making batches"
   ]
  },
  {
   "cell_type": "markdown",
   "metadata": {},
   "source": [
    "Now that our data is in good shape, we need to get it into the proper form to pass it into our network. With the skip-gram architecture, for each word in the text, we want to grab all the words in a window around that word, with size $C$. \n",
    "\n",
    "From [Mikolov et al.](https://arxiv.org/pdf/1301.3781.pdf): \n",
    "\n",
    "\"Since the more distant words are usually less related to the current word than those close to it, we give less weight to the distant words by sampling less from those words in our training examples... If we choose $C = 5$, for each training word we will select randomly a number $R$ in range $< 1; C >$, and then use $R$ words from history and $R$ words from the future of the current word as correct labels.\"\n",
    "\n",
    "> **Exercise:** Implement a function `get_target` that receives a list of words, an index, and a window size, then returns a list of words in the window around the index. Make sure to use the algorithm described above, where you choose a random number of words from the window."
   ]
  },
  {
   "cell_type": "code",
   "execution_count": 9,
   "metadata": {},
   "outputs": [],
   "source": [
    "def get_target(words, idx, window_size=5):\n",
    "    ''' Get a list of words in a window around an index. '''\n",
    "    r = random.randint(1,window_size+1)\n",
    "    start_ind = idx-r if r>=idx else 0\n",
    "    end_ind = idx+r\n",
    "    \n",
    "    return set(words[start_ind:idx] + words[idx+1:end_ind])"
   ]
  },
  {
   "cell_type": "markdown",
   "metadata": {},
   "source": [
    "Here's a function that returns batches for our network. The idea is that it grabs `batch_size` words from a words list. Then for each of those words, it gets the target words in the window. I haven't found a way to pass in a random number of target words and get it to work with the architecture, so I make one row per input-target pair. This is a generator function by the way, helps save memory."
   ]
  },
  {
   "cell_type": "code",
   "execution_count": 10,
   "metadata": {},
   "outputs": [],
   "source": [
    "def get_batches(words, batch_size, window_size=5):\n",
    "    ''' Create a generator of word batches as a tuple (inputs, targets) '''\n",
    "    \n",
    "    n_batches = len(words)//batch_size\n",
    "    \n",
    "    # only full batches\n",
    "    words = words[:n_batches*batch_size]\n",
    "    \n",
    "    for idx in range(0, len(words), batch_size):\n",
    "        x, y = [], []\n",
    "        batch = words[idx:idx+batch_size]\n",
    "        for ii in range(len(batch)):\n",
    "            batch_x = batch[ii]\n",
    "            batch_y = get_target(batch, ii, window_size)\n",
    "            y.extend(batch_y)\n",
    "            x.extend([batch_x]*len(batch_y))\n",
    "        yield x, y\n",
    "    "
   ]
  },
  {
   "cell_type": "markdown",
   "metadata": {},
   "source": [
    "## Building the graph\n",
    "\n",
    "From [Chris McCormick's blog](http://mccormickml.com/2016/04/19/word2vec-tutorial-the-skip-gram-model/), we can see the general structure of our network.\n",
    "![embedding_network](./assets/skip_gram_net_arch.png)\n",
    "\n",
    "The input words are passed in as integers. This will go into a hidden layer of linear units, then into a softmax layer. We'll use the softmax layer to make a prediction like normal.\n",
    "\n",
    "The idea here is to train the hidden layer weight matrix to find efficient representations for our words. We can discard the softmax layer becuase we don't really care about making predictions with this network. We just want the embedding matrix so we can use it in other networks we build from the dataset.\n",
    "\n",
    "I'm going to have you build the graph in stages now. First off, creating the `inputs` and `labels` placeholders like normal.\n",
    "\n",
    "> **Exercise:** Assign `inputs` and `labels` using `tf.placeholder`. We're going to be passing in integers, so set the data types to `tf.int32`. The batches we're passing in will have varying sizes, so set the batch sizes to [`None`]. To make things work later, you'll need to set the second dimension of `labels` to `None` or `1`."
   ]
  },
  {
   "cell_type": "code",
   "execution_count": 11,
   "metadata": {},
   "outputs": [],
   "source": [
    "train_graph = tf.Graph()\n",
    "with train_graph.as_default():\n",
    "    inputs = tf.placeholder(tf.int32, shape=[None], name='inputs')\n",
    "    labels = tf.placeholder(tf.int32, shape=[None,1], name='labels')"
   ]
  },
  {
   "cell_type": "markdown",
   "metadata": {},
   "source": [
    "## Embedding\n",
    "\n"
   ]
  },
  {
   "cell_type": "markdown",
   "metadata": {
    "collapsed": true
   },
   "source": [
    "The embedding matrix has a size of the number of words by the number of units in the hidden layer. So, if you have 10,000 words and 300 hidden units, the matrix will have size $10,000 \\times 300$. Remember that we're using tokenized data for our inputs, usually as integers, where the number of tokens is the number of words in our vocabulary.\n",
    "\n",
    "\n",
    "> **Exercise:** Tensorflow provides a convenient function [`tf.nn.embedding_lookup`](https://www.tensorflow.org/api_docs/python/tf/nn/embedding_lookup) that does this lookup for us. You pass in the embedding matrix and a tensor of integers, then it returns rows in the matrix corresponding to those integers. Below, set the number of embedding features you'll use (200 is a good start), create the embedding matrix variable, and use `tf.nn.embedding_lookup` to get the embedding tensors. For the embedding matrix, I suggest you initialize it with a uniform random numbers between -1 and 1 using [tf.random_uniform](https://www.tensorflow.org/api_docs/python/tf/random_uniform)."
   ]
  },
  {
   "cell_type": "code",
   "execution_count": 12,
   "metadata": {},
   "outputs": [],
   "source": [
    "n_vocab = len(int_to_vocab)\n",
    "n_embed =  200\n",
    "with train_graph.as_default():\n",
    "    embedding = tf.Variable(tf.random_uniform((n_vocab, n_embed), -1, 1))\n",
    "    embed = tf.nn.embedding_lookup(embedding, inputs, name='embed')"
   ]
  },
  {
   "cell_type": "code",
   "execution_count": 13,
   "metadata": {},
   "outputs": [
    {
     "data": {
      "text/plain": [
       "<tf.Variable 'Variable:0' shape=(63641, 200) dtype=float32_ref>"
      ]
     },
     "execution_count": 13,
     "metadata": {},
     "output_type": "execute_result"
    }
   ],
   "source": [
    "embedding"
   ]
  },
  {
   "cell_type": "markdown",
   "metadata": {},
   "source": [
    "## Negative sampling\n",
    "\n"
   ]
  },
  {
   "cell_type": "markdown",
   "metadata": {},
   "source": [
    "For every example we give the network, we train it using the output from the softmax layer. That means for each input, we're making very small changes to millions of weights even though we only have one true example. This makes training the network very inefficient. We can approximate the loss from the softmax layer by only updating a small subset of all the weights at once. We'll update the weights for the correct label, but only a small number of incorrect labels. This is called [\"negative sampling\"](http://papers.nips.cc/paper/5021-distributed-representations-of-words-and-phrases-and-their-compositionality.pdf). Tensorflow has a convenient function to do this, [`tf.nn.sampled_softmax_loss`](https://www.tensorflow.org/api_docs/python/tf/nn/sampled_softmax_loss).\n",
    "\n",
    "> **Exercise:** Below, create weights and biases for the softmax layer. Then, use [`tf.nn.sampled_softmax_loss`](https://www.tensorflow.org/api_docs/python/tf/nn/sampled_softmax_loss) to calculate the loss. Be sure to read the documentation to figure out how it works."
   ]
  },
  {
   "cell_type": "code",
   "execution_count": 14,
   "metadata": {},
   "outputs": [],
   "source": [
    "# Number of negative labels to sample\n",
    "n_sampled = 100\n",
    "with train_graph.as_default():\n",
    "    softmax_w = tf.Variable(tf.truncated_normal([n_vocab,n_embed],\n",
    "                      stddev=1.0 / sqrt(n_embed)))\n",
    "    softmax_b = tf.Variable(np.zeros((n_vocab), dtype='float32'))\n",
    "    \n",
    "    # Calculate the loss using negative sampling\n",
    "    loss = tf.nn.sampled_softmax_loss(weights=softmax_w, biases=softmax_b, labels=labels, \n",
    "                                      inputs = embed, num_sampled=n_sampled, num_classes=n_vocab) \n",
    "    \n",
    "    cost = tf.reduce_mean(loss)\n",
    "    optimizer = tf.train.AdamOptimizer().minimize(cost)"
   ]
  },
  {
   "cell_type": "markdown",
   "metadata": {},
   "source": [
    "## Validation\n",
    "\n",
    "This code is from Thushan Ganegedara's implementation. Here we're going to choose a few common words and few uncommon words. Then, we'll print out the closest words to them. It's a nice way to check that our embedding table is grouping together words with similar semantic meanings."
   ]
  },
  {
   "cell_type": "code",
   "execution_count": 15,
   "metadata": {},
   "outputs": [
    {
     "name": "stdout",
     "output_type": "stream",
     "text": [
      "WARNING:tensorflow:From <ipython-input-15-2aa168c49a56>:13: calling reduce_sum (from tensorflow.python.ops.math_ops) with keep_dims is deprecated and will be removed in a future version.\n",
      "Instructions for updating:\n",
      "keep_dims is deprecated, use keepdims instead\n"
     ]
    }
   ],
   "source": [
    "with train_graph.as_default():\n",
    "    ## From Thushan Ganegedara's implementation\n",
    "    valid_size = 16 # Random set of words to evaluate similarity on.\n",
    "    valid_window = 100\n",
    "    # pick 8 samples from (0,100) and (1000,1100) each ranges. lower id implies more frequent \n",
    "    valid_examples = np.array(random.sample(range(valid_window), valid_size//2))\n",
    "    valid_examples = np.append(valid_examples, \n",
    "                               random.sample(range(1000,1000+valid_window), valid_size//2))\n",
    "\n",
    "    valid_dataset = tf.constant(valid_examples, dtype=tf.int32)\n",
    "    \n",
    "    # We use the cosine distance:\n",
    "    norm = tf.sqrt(tf.reduce_sum(tf.square(embedding), 1, keep_dims=True))\n",
    "    normalized_embedding = embedding / norm\n",
    "    valid_embedding = tf.nn.embedding_lookup(normalized_embedding, valid_dataset)\n",
    "    similarity = tf.matmul(valid_embedding, tf.transpose(normalized_embedding))"
   ]
  },
  {
   "cell_type": "code",
   "execution_count": 16,
   "metadata": {},
   "outputs": [
    {
     "name": "stderr",
     "output_type": "stream",
     "text": [
      "Џ®¤Ї ЇЄ  Ё«Ё д ©« checkpoints г¦Ґ бгйҐбвўгҐв.\n"
     ]
    }
   ],
   "source": [
    "# If the checkpoints directory doesn't exist:\n",
    "!mkdir checkpoints"
   ]
  },
  {
   "cell_type": "markdown",
   "metadata": {},
   "source": [
    "## Training\n",
    "\n",
    "Below is the code to train the network. Every 100 batches it reports the training loss. Every 1000 batches, it'll print out the validation words."
   ]
  },
  {
   "cell_type": "code",
   "execution_count": 17,
   "metadata": {},
   "outputs": [
    {
     "name": "stdout",
     "output_type": "stream",
     "text": [
      "Epoch 1/10 Iteration: 100 Avg. Training loss: 4.8982 5.1950 sec/batch\n",
      "Epoch 1/10 Iteration: 200 Avg. Training loss: 4.8023 4.9483 sec/batch\n",
      "Epoch 1/10 Iteration: 300 Avg. Training loss: 4.7007 4.8659 sec/batch\n",
      "Epoch 1/10 Iteration: 400 Avg. Training loss: 4.5682 4.8232 sec/batch\n",
      "Epoch 1/10 Iteration: 500 Avg. Training loss: 4.4065 4.6573 sec/batch\n",
      "Epoch 1/10 Iteration: 600 Avg. Training loss: 4.3207 4.6506 sec/batch\n",
      "Epoch 1/10 Iteration: 700 Avg. Training loss: 4.2760 4.6994 sec/batch\n",
      "Epoch 1/10 Iteration: 800 Avg. Training loss: 4.2326 4.7161 sec/batch\n",
      "Epoch 1/10 Iteration: 900 Avg. Training loss: 4.2194 4.5319 sec/batch\n",
      "Epoch 1/10 Iteration: 1000 Avg. Training loss: 4.1603 4.5069 sec/batch\n",
      "Nearest to used: deniability, realtime, oahu, lle, felice, malintzin, propagandist, prenatal,\n",
      "Nearest to their: wta, dewar, linde, rebuke, inez, hyperlink, gpcrs, email,\n",
      "Nearest to war: venter, cults, system, kabbalistic, cholera, pflp, propellers, pomace,\n",
      "Nearest to about: traversing, designated, laborers, dissuade, pueblos, flagpole, hyperion, emery,\n",
      "Nearest to united: calendar, minbari, simeon, unprecedented, voices, strict, macfarlane, atlanteans,\n",
      "Nearest to all: amoeboid, italia, dawning, noticing, organelle, groot, cullen, bligh,\n",
      "Nearest to six: condemning, fanfiction, exposure, vitrification, cemented, demeter, macneille, pets,\n",
      "Nearest to up: monarchist, koblenz, omphale, rtgs, espn, harem, disabling, commences,\n",
      "Nearest to paris: optically, rebelling, sash, weight, rear, loria, pioneering, folksong,\n",
      "Nearest to applications: taliban, pampa, akhmatova, theseus, dancer, pastor, peerages, episcopalians,\n",
      "Nearest to freedom: lodi, badonicus, goldings, insightful, interprets, graduated, chad, debord,\n",
      "Nearest to rise: parasites, iniquity, cooled, booed, kf, starcraft, literalism, arab,\n",
      "Nearest to shows: uric, circumference, semiempirical, protestants, raise, mumy, severance, counterbalance,\n",
      "Nearest to question: joined, precise, care, stanislavski, tamara, tsetse, lsd, protocol,\n",
      "Nearest to ocean: ama, theirs, infraclass, buses, ottoman, sunspot, contamination, notables,\n",
      "Nearest to troops: neuropathy, strongman, billionaires, neanderthalensis, selby, clk, nonspecific, cundinamarca,\n",
      "Epoch 1/10 Iteration: 1100 Avg. Training loss: 4.1769 4.5902 sec/batch\n",
      "Epoch 1/10 Iteration: 1200 Avg. Training loss: 4.1791 4.6639 sec/batch\n",
      "Epoch 1/10 Iteration: 1300 Avg. Training loss: 4.1740 4.5984 sec/batch\n",
      "Epoch 1/10 Iteration: 1400 Avg. Training loss: 4.1505 4.6727 sec/batch\n",
      "Epoch 1/10 Iteration: 1500 Avg. Training loss: 4.1579 4.5285 sec/batch\n",
      "Epoch 1/10 Iteration: 1600 Avg. Training loss: 4.1372 4.5268 sec/batch\n",
      "Epoch 1/10 Iteration: 1700 Avg. Training loss: 4.1367 4.5986 sec/batch\n",
      "Epoch 1/10 Iteration: 1800 Avg. Training loss: 4.1133 4.6284 sec/batch\n",
      "Epoch 1/10 Iteration: 1900 Avg. Training loss: 4.1286 4.4960 sec/batch\n",
      "Epoch 1/10 Iteration: 2000 Avg. Training loss: 4.1267 4.6395 sec/batch\n",
      "Nearest to used: deniability, realtime, oahu, lle, felice, malintzin, propagandist, prenatal,\n",
      "Nearest to their: wta, dewar, linde, rebuke, inez, hyperlink, gpcrs, machir,\n",
      "Nearest to war: venter, system, cults, kabbalistic, cholera, pflp, propellers, pomace,\n",
      "Nearest to about: traversing, designated, laborers, pueblos, dissuade, flagpole, hyperion, emery,\n",
      "Nearest to united: calendar, minbari, simeon, unprecedented, trombonist, macfarlane, strict, voices,\n",
      "Nearest to all: amoeboid, italia, dawning, noticing, groot, organelle, cullen, bligh,\n",
      "Nearest to six: condemning, fanfiction, exposure, vitrification, cemented, demeter, macneille, pets,\n",
      "Nearest to up: monarchist, koblenz, omphale, rtgs, espn, harem, commences, disabling,\n",
      "Nearest to paris: optically, rebelling, sash, rear, weight, pioneering, loria, folksong,\n",
      "Nearest to applications: episcopalians, taliban, akhmatova, peerages, pampa, erant, galeazzo, refining,\n",
      "Nearest to freedom: lodi, badonicus, graduated, goldings, interprets, insightful, chad, malle,\n",
      "Nearest to rise: parasites, iniquity, cooled, kf, booed, literalism, psychedelic, starcraft,\n",
      "Nearest to shows: uric, circumference, semiempirical, protestants, severance, raise, mumy, xin,\n",
      "Nearest to question: joined, precise, stanislavski, care, tsetse, tamara, lsd, protocol,\n",
      "Nearest to ocean: ama, infraclass, buses, sunspot, theirs, terrace, denard, busting,\n",
      "Nearest to troops: strongman, neuropathy, billionaires, clk, neanderthalensis, selby, nonspecific, cundinamarca,\n",
      "Epoch 1/10 Iteration: 2100 Avg. Training loss: 4.0866 4.6199 sec/batch\n",
      "Epoch 1/10 Iteration: 2200 Avg. Training loss: 4.0825 4.6424 sec/batch\n",
      "Epoch 1/10 Iteration: 2300 Avg. Training loss: 4.0616 4.6972 sec/batch\n",
      "Epoch 1/10 Iteration: 2400 Avg. Training loss: 4.0549 4.6481 sec/batch\n",
      "Epoch 1/10 Iteration: 2500 Avg. Training loss: 4.0662 4.5229 sec/batch\n",
      "Epoch 1/10 Iteration: 2600 Avg. Training loss: 4.0814 4.6178 sec/batch\n",
      "Epoch 1/10 Iteration: 2700 Avg. Training loss: 4.0876 4.7475 sec/batch\n",
      "Epoch 1/10 Iteration: 2800 Avg. Training loss: 4.0874 4.6344 sec/batch\n",
      "Epoch 1/10 Iteration: 2900 Avg. Training loss: 4.0713 4.6997 sec/batch\n",
      "Epoch 1/10 Iteration: 3000 Avg. Training loss: 4.0149 4.6492 sec/batch\n",
      "Nearest to used: deniability, realtime, oahu, lle, propagandist, malintzin, felice, prenatal,\n",
      "Nearest to their: wta, dewar, linde, rebuke, inez, hyperlink, gpcrs, machir,\n",
      "Nearest to war: venter, system, cults, kabbalistic, cholera, pflp, pomace, propellers,\n",
      "Nearest to about: traversing, designated, laborers, flagpole, pueblos, dissuade, hyperion, emery,\n",
      "Nearest to united: calendar, minbari, simeon, trombonist, unprecedented, nayland, macfarlane, strict,\n",
      "Nearest to all: amoeboid, italia, dawning, noticing, groot, organelle, cullen, bligh,\n",
      "Nearest to six: condemning, fanfiction, exposure, vitrification, cemented, demeter, macneille, pets,\n",
      "Nearest to up: monarchist, koblenz, omphale, rtgs, espn, harem, commences, profiled,\n",
      "Nearest to paris: optically, rebelling, sash, rear, weight, pioneering, loria, pentastar,\n",
      "Nearest to applications: peerages, episcopalians, erant, akhmatova, galeazzo, taliban, impressionist, crochet,\n",
      "Nearest to freedom: lodi, badonicus, graduated, goldings, interprets, insightful, malle, chad,\n",
      "Nearest to rise: parasites, iniquity, booed, kf, cooled, danville, harmonica, literalism,\n",
      "Nearest to shows: uric, circumference, semiempirical, protestants, raise, severance, mumy, xin,\n",
      "Nearest to question: joined, tsetse, precise, stanislavski, care, tamara, lsd, stings,\n",
      "Nearest to ocean: ama, sunspot, infraclass, theirs, buses, denard, busting, ottoman,\n",
      "Nearest to troops: neuropathy, strongman, billionaires, selby, clk, neanderthalensis, nonspecific, cundinamarca,\n",
      "Epoch 1/10 Iteration: 3100 Avg. Training loss: 4.0692 4.6329 sec/batch\n",
      "Epoch 1/10 Iteration: 3200 Avg. Training loss: 4.0987 4.7129 sec/batch\n",
      "Epoch 1/10 Iteration: 3300 Avg. Training loss: 4.0500 4.6241 sec/batch\n",
      "Epoch 1/10 Iteration: 3400 Avg. Training loss: 4.0491 4.5886 sec/batch\n",
      "Epoch 1/10 Iteration: 3500 Avg. Training loss: 4.0572 4.6622 sec/batch\n",
      "Epoch 1/10 Iteration: 3600 Avg. Training loss: 4.0289 4.6626 sec/batch\n",
      "Epoch 1/10 Iteration: 3700 Avg. Training loss: 4.0148 4.4550 sec/batch\n",
      "Epoch 1/10 Iteration: 3800 Avg. Training loss: 3.9965 4.5208 sec/batch\n",
      "Epoch 1/10 Iteration: 3900 Avg. Training loss: 4.1139 5.1305 sec/batch\n",
      "Epoch 1/10 Iteration: 4000 Avg. Training loss: 3.9954 5.0255 sec/batch\n",
      "Nearest to used: deniability, realtime, lle, oahu, propagandist, prenatal, malintzin, felice,\n",
      "Nearest to their: wta, dewar, linde, rebuke, inez, hyperlink, gpcrs, machir,\n",
      "Nearest to war: venter, cults, system, kabbalistic, cholera, pflp, propellers, pomace,\n",
      "Nearest to about: traversing, designated, laborers, flagpole, pueblos, dissuade, hyperion, emery,\n",
      "Nearest to united: calendar, minbari, simeon, trombonist, unprecedented, nayland, macfarlane, strict,\n",
      "Nearest to all: amoeboid, italia, dawning, noticing, groot, organelle, cullen, bligh,\n",
      "Nearest to six: fanfiction, condemning, exposure, vitrification, cemented, demeter, macneille, pets,\n",
      "Nearest to up: monarchist, koblenz, omphale, rtgs, espn, harem, profiled, disabling,\n",
      "Nearest to paris: optically, rebelling, sash, rear, weight, pioneering, challenge, loria,\n",
      "Nearest to applications: peerages, akhmatova, erant, episcopalians, galeazzo, impressionist, crochet, taliban,\n",
      "Nearest to freedom: badonicus, lodi, graduated, goldings, interprets, chad, insightful, malle,\n",
      "Nearest to rise: parasites, iniquity, danville, booed, kf, cooled, tlemcen, literalism,\n",
      "Nearest to shows: uric, circumference, semiempirical, protestants, raise, severance, mumy, yew,\n",
      "Nearest to question: joined, tsetse, stanislavski, precise, tamara, care, lsd, stings,\n",
      "Nearest to ocean: ama, sunspot, infraclass, buses, theirs, denard, busting, terrace,\n",
      "Nearest to troops: strongman, neuropathy, selby, billionaires, clk, neanderthalensis, cundinamarca, nonspecific,\n",
      "Epoch 1/10 Iteration: 4100 Avg. Training loss: 3.9723 4.8087 sec/batch\n",
      "Epoch 1/10 Iteration: 4200 Avg. Training loss: 4.0436 4.6556 sec/batch\n",
      "Epoch 1/10 Iteration: 4300 Avg. Training loss: 4.0211 4.6334 sec/batch\n",
      "Epoch 1/10 Iteration: 4400 Avg. Training loss: 4.0225 4.6245 sec/batch\n",
      "Epoch 1/10 Iteration: 4500 Avg. Training loss: 4.0832 4.5034 sec/batch\n",
      "Epoch 1/10 Iteration: 4600 Avg. Training loss: 4.0123 4.5962 sec/batch\n",
      "Epoch 1/10 Iteration: 4700 Avg. Training loss: 3.9663 4.6768 sec/batch\n",
      "Epoch 1/10 Iteration: 4800 Avg. Training loss: 4.0177 4.8753 sec/batch\n",
      "Epoch 1/10 Iteration: 4900 Avg. Training loss: 4.0147 4.5868 sec/batch\n",
      "Epoch 1/10 Iteration: 5000 Avg. Training loss: 4.0369 4.7117 sec/batch\n",
      "Nearest to used: deniability, realtime, oahu, lle, propagandist, prenatal, malintzin, felice,\n",
      "Nearest to their: wta, dewar, linde, rebuke, hyperlink, inez, gpcrs, machir,\n",
      "Nearest to war: venter, system, cults, cholera, kabbalistic, pflp, pomace, propellers,\n",
      "Nearest to about: traversing, laborers, designated, flagpole, pueblos, dissuade, hyperion, emery,\n",
      "Nearest to united: calendar, minbari, simeon, trombonist, nayland, unprecedented, macfarlane, strict,\n",
      "Nearest to all: amoeboid, italia, dawning, noticing, groot, organelle, bligh, cullen,\n",
      "Nearest to six: fanfiction, condemning, exposure, vitrification, cemented, demeter, macneille, jonathon,\n",
      "Nearest to up: monarchist, koblenz, omphale, rtgs, espn, harem, profiled, commences,\n",
      "Nearest to paris: optically, rebelling, sash, rear, weight, pioneering, challenge, loria,\n",
      "Nearest to applications: erant, peerages, episcopalians, galeazzo, impressionist, akhmatova, rents, rodrigo,\n",
      "Nearest to freedom: badonicus, lodi, graduated, goldings, interprets, malle, chad, insightful,\n",
      "Nearest to rise: parasites, iniquity, danville, kf, booed, cooled, tlemcen, literalism,\n",
      "Nearest to shows: uric, circumference, semiempirical, protestants, raise, severance, mumy, kamala,\n",
      "Nearest to question: tsetse, joined, precise, stanislavski, care, tamara, lsd, erupted,\n",
      "Nearest to ocean: ama, sunspot, infraclass, buses, theirs, busting, denard, terrace,\n",
      "Nearest to troops: neuropathy, strongman, selby, clk, billionaires, neanderthalensis, cundinamarca, deliberately,\n",
      "Epoch 1/10 Iteration: 5100 Avg. Training loss: 4.0022 4.6862 sec/batch\n",
      "Epoch 2/10 Iteration: 5200 Avg. Training loss: 4.0079 3.5831 sec/batch\n",
      "Epoch 2/10 Iteration: 5300 Avg. Training loss: 3.9657 4.6564 sec/batch\n",
      "Epoch 2/10 Iteration: 5400 Avg. Training loss: 3.9899 4.8586 sec/batch\n",
      "Epoch 2/10 Iteration: 5500 Avg. Training loss: 3.9730 4.9454 sec/batch\n",
      "Epoch 2/10 Iteration: 5600 Avg. Training loss: 4.0324 4.6075 sec/batch\n",
      "Epoch 2/10 Iteration: 5700 Avg. Training loss: 4.0038 4.5759 sec/batch\n",
      "Epoch 2/10 Iteration: 5800 Avg. Training loss: 3.9655 4.6722 sec/batch\n",
      "Epoch 2/10 Iteration: 5900 Avg. Training loss: 3.9513 4.6576 sec/batch\n",
      "Epoch 2/10 Iteration: 6000 Avg. Training loss: 3.9833 4.5010 sec/batch\n",
      "Nearest to used: deniability, realtime, lle, oahu, propagandist, prenatal, felice, malintzin,\n",
      "Nearest to their: wta, dewar, rebuke, linde, hyperlink, inez, gpcrs, email,\n",
      "Nearest to war: venter, cults, system, kabbalistic, cholera, cadres, propellers, coulter,\n",
      "Nearest to about: traversing, designated, laborers, pueblos, flagpole, dissuade, hyperion, emery,\n",
      "Nearest to united: calendar, minbari, simeon, trombonist, unprecedented, nayland, macfarlane, strict,\n",
      "Nearest to all: amoeboid, italia, dawning, noticing, groot, organelle, cullen, bligh,\n",
      "Nearest to six: condemning, fanfiction, exposure, vitrification, cemented, demeter, macneille, pets,\n",
      "Nearest to up: koblenz, monarchist, omphale, rtgs, espn, harem, disabling, profiled,\n",
      "Nearest to paris: optically, rebelling, sash, weight, rear, pioneering, challenge, loria,\n",
      "Nearest to applications: erant, peerages, episcopalians, impressionist, rents, galeazzo, akhmatova, rodrigo,\n",
      "Nearest to freedom: lodi, badonicus, graduated, goldings, chad, interprets, insightful, malle,\n",
      "Nearest to rise: parasites, danville, iniquity, booed, cooled, tlemcen, kf, akira,\n",
      "Nearest to shows: uric, circumference, semiempirical, protestants, raise, severance, mumy, kamala,\n",
      "Nearest to question: tsetse, joined, precise, stanislavski, care, tamara, lsd, erupted,\n",
      "Nearest to ocean: ama, sunspot, infraclass, buses, theirs, denard, contamination, busting,\n",
      "Nearest to troops: neuropathy, strongman, selby, clk, billionaires, neanderthalensis, cundinamarca, visit,\n",
      "Epoch 2/10 Iteration: 6100 Avg. Training loss: 3.9137 4.6598 sec/batch\n",
      "Epoch 2/10 Iteration: 6200 Avg. Training loss: 3.9303 4.7525 sec/batch\n",
      "Epoch 2/10 Iteration: 6300 Avg. Training loss: 3.9589 4.6603 sec/batch\n",
      "Epoch 2/10 Iteration: 6400 Avg. Training loss: 3.9146 4.5719 sec/batch\n",
      "Epoch 2/10 Iteration: 6500 Avg. Training loss: 3.9814 4.6610 sec/batch\n",
      "Epoch 2/10 Iteration: 6600 Avg. Training loss: 3.9269 4.6209 sec/batch\n",
      "Epoch 2/10 Iteration: 6700 Avg. Training loss: 3.9633 4.4201 sec/batch\n",
      "Epoch 2/10 Iteration: 6800 Avg. Training loss: 3.9442 4.5259 sec/batch\n",
      "Epoch 2/10 Iteration: 6900 Avg. Training loss: 3.9157 4.6083 sec/batch\n",
      "Epoch 2/10 Iteration: 7000 Avg. Training loss: 3.9128 4.5641 sec/batch\n",
      "Nearest to used: deniability, realtime, oahu, lle, propagandist, felice, prenatal, malintzin,\n",
      "Nearest to their: wta, dewar, rebuke, linde, hyperlink, inez, gpcrs, neoconservative,\n",
      "Nearest to war: venter, cults, system, kabbalistic, cholera, pflp, pomace, thorax,\n",
      "Nearest to about: traversing, designated, laborers, flagpole, pueblos, dissuade, hyperion, emery,\n",
      "Nearest to united: calendar, minbari, simeon, trombonist, nayland, unprecedented, macfarlane, preventive,\n",
      "Nearest to all: amoeboid, italia, dawning, noticing, groot, organelle, bligh, cullen,\n",
      "Nearest to six: condemning, fanfiction, exposure, vitrification, cemented, demeter, pets, macneille,\n",
      "Nearest to up: monarchist, koblenz, omphale, rtgs, espn, disabling, commences, harem,\n",
      "Nearest to paris: optically, rear, rebelling, sash, weight, pioneering, challenge, folksong,\n",
      "Nearest to applications: erant, peerages, impressionist, rents, episcopalians, aura, akhmatova, galeazzo,\n",
      "Nearest to freedom: lodi, badonicus, graduated, goldings, chad, insightful, malle, interprets,\n",
      "Nearest to rise: parasites, danville, booed, iniquity, cooled, tlemcen, kf, akira,\n",
      "Nearest to shows: uric, circumference, semiempirical, protestants, raise, severance, mumy, counterbalance,\n",
      "Nearest to question: tsetse, joined, precise, stanislavski, care, tamara, lsd, stings,\n",
      "Nearest to ocean: ama, sunspot, infraclass, buses, theirs, denard, busting, contamination,\n",
      "Nearest to troops: neuropathy, strongman, selby, clk, billionaires, neanderthalensis, visit, deliberately,\n",
      "Epoch 2/10 Iteration: 7100 Avg. Training loss: 3.9515 4.6695 sec/batch\n",
      "Epoch 2/10 Iteration: 7200 Avg. Training loss: 3.9613 4.5239 sec/batch\n",
      "Epoch 2/10 Iteration: 7300 Avg. Training loss: 3.9319 4.5824 sec/batch\n",
      "Epoch 2/10 Iteration: 7400 Avg. Training loss: 3.9137 4.6135 sec/batch\n",
      "Epoch 2/10 Iteration: 7500 Avg. Training loss: 3.8987 4.4944 sec/batch\n",
      "Epoch 2/10 Iteration: 7600 Avg. Training loss: 3.9409 4.5854 sec/batch\n",
      "Epoch 2/10 Iteration: 7700 Avg. Training loss: 3.9385 4.5479 sec/batch\n",
      "Epoch 2/10 Iteration: 7800 Avg. Training loss: 3.9440 4.8192 sec/batch\n",
      "Epoch 2/10 Iteration: 7900 Avg. Training loss: 3.9545 4.9160 sec/batch\n",
      "Epoch 2/10 Iteration: 8000 Avg. Training loss: 3.8901 5.7087 sec/batch\n",
      "Nearest to used: deniability, realtime, oahu, lle, propagandist, prenatal, felice, malintzin,\n",
      "Nearest to their: wta, dewar, linde, rebuke, hyperlink, inez, gpcrs, email,\n"
     ]
    },
    {
     "name": "stdout",
     "output_type": "stream",
     "text": [
      "Nearest to war: venter, cults, system, kabbalistic, pflp, cholera, coulter, pomace,\n",
      "Nearest to about: traversing, designated, hyperion, laborers, pueblos, flagpole, dissuade, protectionism,\n",
      "Nearest to united: calendar, minbari, simeon, trombonist, unprecedented, nayland, macfarlane, preventive,\n",
      "Nearest to all: amoeboid, italia, noticing, dawning, groot, organelle, cullen, bligh,\n",
      "Nearest to six: condemning, exposure, fanfiction, vitrification, cemented, demeter, pets, macneille,\n",
      "Nearest to up: koblenz, monarchist, omphale, rtgs, espn, disabling, profiled, commences,\n",
      "Nearest to paris: optically, sash, rear, rebelling, weight, pioneering, challenge, loria,\n",
      "Nearest to applications: erant, peerages, impressionist, rents, akhmatova, aura, multiple, episcopalians,\n",
      "Nearest to freedom: lodi, badonicus, goldings, chad, graduated, malle, insightful, interprets,\n",
      "Nearest to rise: parasites, danville, booed, cooled, iniquity, tlemcen, clashing, kf,\n",
      "Nearest to shows: uric, circumference, semiempirical, protestants, severance, raise, mumy, counterbalance,\n",
      "Nearest to question: tsetse, joined, precise, stanislavski, tamara, care, lsd, stings,\n",
      "Nearest to ocean: ama, sunspot, infraclass, buses, theirs, contamination, busting, denard,\n",
      "Nearest to troops: neuropathy, strongman, selby, clk, billionaires, neanderthalensis, visit, frye,\n"
     ]
    },
    {
     "ename": "KeyboardInterrupt",
     "evalue": "",
     "output_type": "error",
     "traceback": [
      "\u001b[1;31m---------------------------------------------------------------------------\u001b[0m",
      "\u001b[1;31mKeyboardInterrupt\u001b[0m                         Traceback (most recent call last)",
      "\u001b[1;32m<ipython-input-17-91e4b616ac6f>\u001b[0m in \u001b[0;36m<module>\u001b[1;34m()\u001b[0m\n\u001b[0;32m     18\u001b[0m             feed = {inputs: x,\n\u001b[0;32m     19\u001b[0m                     labels: np.array(y)[:, None]}\n\u001b[1;32m---> 20\u001b[1;33m             \u001b[0mtrain_loss\u001b[0m\u001b[1;33m,\u001b[0m \u001b[0m_\u001b[0m \u001b[1;33m=\u001b[0m \u001b[0msess\u001b[0m\u001b[1;33m.\u001b[0m\u001b[0mrun\u001b[0m\u001b[1;33m(\u001b[0m\u001b[1;33m[\u001b[0m\u001b[0mcost\u001b[0m\u001b[1;33m,\u001b[0m \u001b[0moptimizer\u001b[0m\u001b[1;33m]\u001b[0m\u001b[1;33m,\u001b[0m \u001b[0mfeed_dict\u001b[0m\u001b[1;33m=\u001b[0m\u001b[0mfeed\u001b[0m\u001b[1;33m)\u001b[0m\u001b[1;33m\u001b[0m\u001b[0m\n\u001b[0m\u001b[0;32m     21\u001b[0m \u001b[1;33m\u001b[0m\u001b[0m\n\u001b[0;32m     22\u001b[0m             \u001b[0mloss\u001b[0m \u001b[1;33m+=\u001b[0m \u001b[0mtrain_loss\u001b[0m\u001b[1;33m\u001b[0m\u001b[0m\n",
      "\u001b[1;32mC:\\programs\\anaconda\\lib\\site-packages\\tensorflow\\python\\client\\session.py\u001b[0m in \u001b[0;36mrun\u001b[1;34m(self, fetches, feed_dict, options, run_metadata)\u001b[0m\n\u001b[0;32m    875\u001b[0m     \u001b[1;32mtry\u001b[0m\u001b[1;33m:\u001b[0m\u001b[1;33m\u001b[0m\u001b[0m\n\u001b[0;32m    876\u001b[0m       result = self._run(None, fetches, feed_dict, options_ptr,\n\u001b[1;32m--> 877\u001b[1;33m                          run_metadata_ptr)\n\u001b[0m\u001b[0;32m    878\u001b[0m       \u001b[1;32mif\u001b[0m \u001b[0mrun_metadata\u001b[0m\u001b[1;33m:\u001b[0m\u001b[1;33m\u001b[0m\u001b[0m\n\u001b[0;32m    879\u001b[0m         \u001b[0mproto_data\u001b[0m \u001b[1;33m=\u001b[0m \u001b[0mtf_session\u001b[0m\u001b[1;33m.\u001b[0m\u001b[0mTF_GetBuffer\u001b[0m\u001b[1;33m(\u001b[0m\u001b[0mrun_metadata_ptr\u001b[0m\u001b[1;33m)\u001b[0m\u001b[1;33m\u001b[0m\u001b[0m\n",
      "\u001b[1;32mC:\\programs\\anaconda\\lib\\site-packages\\tensorflow\\python\\client\\session.py\u001b[0m in \u001b[0;36m_run\u001b[1;34m(self, handle, fetches, feed_dict, options, run_metadata)\u001b[0m\n\u001b[0;32m   1098\u001b[0m     \u001b[1;32mif\u001b[0m \u001b[0mfinal_fetches\u001b[0m \u001b[1;32mor\u001b[0m \u001b[0mfinal_targets\u001b[0m \u001b[1;32mor\u001b[0m \u001b[1;33m(\u001b[0m\u001b[0mhandle\u001b[0m \u001b[1;32mand\u001b[0m \u001b[0mfeed_dict_tensor\u001b[0m\u001b[1;33m)\u001b[0m\u001b[1;33m:\u001b[0m\u001b[1;33m\u001b[0m\u001b[0m\n\u001b[0;32m   1099\u001b[0m       results = self._do_run(handle, final_targets, final_fetches,\n\u001b[1;32m-> 1100\u001b[1;33m                              feed_dict_tensor, options, run_metadata)\n\u001b[0m\u001b[0;32m   1101\u001b[0m     \u001b[1;32melse\u001b[0m\u001b[1;33m:\u001b[0m\u001b[1;33m\u001b[0m\u001b[0m\n\u001b[0;32m   1102\u001b[0m       \u001b[0mresults\u001b[0m \u001b[1;33m=\u001b[0m \u001b[1;33m[\u001b[0m\u001b[1;33m]\u001b[0m\u001b[1;33m\u001b[0m\u001b[0m\n",
      "\u001b[1;32mC:\\programs\\anaconda\\lib\\site-packages\\tensorflow\\python\\client\\session.py\u001b[0m in \u001b[0;36m_do_run\u001b[1;34m(self, handle, target_list, fetch_list, feed_dict, options, run_metadata)\u001b[0m\n\u001b[0;32m   1270\u001b[0m     \u001b[1;32mif\u001b[0m \u001b[0mhandle\u001b[0m \u001b[1;32mis\u001b[0m \u001b[1;32mNone\u001b[0m\u001b[1;33m:\u001b[0m\u001b[1;33m\u001b[0m\u001b[0m\n\u001b[0;32m   1271\u001b[0m       return self._do_call(_run_fn, feeds, fetches, targets, options,\n\u001b[1;32m-> 1272\u001b[1;33m                            run_metadata)\n\u001b[0m\u001b[0;32m   1273\u001b[0m     \u001b[1;32melse\u001b[0m\u001b[1;33m:\u001b[0m\u001b[1;33m\u001b[0m\u001b[0m\n\u001b[0;32m   1274\u001b[0m       \u001b[1;32mreturn\u001b[0m \u001b[0mself\u001b[0m\u001b[1;33m.\u001b[0m\u001b[0m_do_call\u001b[0m\u001b[1;33m(\u001b[0m\u001b[0m_prun_fn\u001b[0m\u001b[1;33m,\u001b[0m \u001b[0mhandle\u001b[0m\u001b[1;33m,\u001b[0m \u001b[0mfeeds\u001b[0m\u001b[1;33m,\u001b[0m \u001b[0mfetches\u001b[0m\u001b[1;33m)\u001b[0m\u001b[1;33m\u001b[0m\u001b[0m\n",
      "\u001b[1;32mC:\\programs\\anaconda\\lib\\site-packages\\tensorflow\\python\\client\\session.py\u001b[0m in \u001b[0;36m_do_call\u001b[1;34m(self, fn, *args)\u001b[0m\n\u001b[0;32m   1276\u001b[0m   \u001b[1;32mdef\u001b[0m \u001b[0m_do_call\u001b[0m\u001b[1;33m(\u001b[0m\u001b[0mself\u001b[0m\u001b[1;33m,\u001b[0m \u001b[0mfn\u001b[0m\u001b[1;33m,\u001b[0m \u001b[1;33m*\u001b[0m\u001b[0margs\u001b[0m\u001b[1;33m)\u001b[0m\u001b[1;33m:\u001b[0m\u001b[1;33m\u001b[0m\u001b[0m\n\u001b[0;32m   1277\u001b[0m     \u001b[1;32mtry\u001b[0m\u001b[1;33m:\u001b[0m\u001b[1;33m\u001b[0m\u001b[0m\n\u001b[1;32m-> 1278\u001b[1;33m       \u001b[1;32mreturn\u001b[0m \u001b[0mfn\u001b[0m\u001b[1;33m(\u001b[0m\u001b[1;33m*\u001b[0m\u001b[0margs\u001b[0m\u001b[1;33m)\u001b[0m\u001b[1;33m\u001b[0m\u001b[0m\n\u001b[0m\u001b[0;32m   1279\u001b[0m     \u001b[1;32mexcept\u001b[0m \u001b[0merrors\u001b[0m\u001b[1;33m.\u001b[0m\u001b[0mOpError\u001b[0m \u001b[1;32mas\u001b[0m \u001b[0me\u001b[0m\u001b[1;33m:\u001b[0m\u001b[1;33m\u001b[0m\u001b[0m\n\u001b[0;32m   1280\u001b[0m       \u001b[0mmessage\u001b[0m \u001b[1;33m=\u001b[0m \u001b[0mcompat\u001b[0m\u001b[1;33m.\u001b[0m\u001b[0mas_text\u001b[0m\u001b[1;33m(\u001b[0m\u001b[0me\u001b[0m\u001b[1;33m.\u001b[0m\u001b[0mmessage\u001b[0m\u001b[1;33m)\u001b[0m\u001b[1;33m\u001b[0m\u001b[0m\n",
      "\u001b[1;32mC:\\programs\\anaconda\\lib\\site-packages\\tensorflow\\python\\client\\session.py\u001b[0m in \u001b[0;36m_run_fn\u001b[1;34m(feed_dict, fetch_list, target_list, options, run_metadata)\u001b[0m\n\u001b[0;32m   1261\u001b[0m       \u001b[0mself\u001b[0m\u001b[1;33m.\u001b[0m\u001b[0m_extend_graph\u001b[0m\u001b[1;33m(\u001b[0m\u001b[1;33m)\u001b[0m\u001b[1;33m\u001b[0m\u001b[0m\n\u001b[0;32m   1262\u001b[0m       return self._call_tf_sessionrun(\n\u001b[1;32m-> 1263\u001b[1;33m           options, feed_dict, fetch_list, target_list, run_metadata)\n\u001b[0m\u001b[0;32m   1264\u001b[0m \u001b[1;33m\u001b[0m\u001b[0m\n\u001b[0;32m   1265\u001b[0m     \u001b[1;32mdef\u001b[0m \u001b[0m_prun_fn\u001b[0m\u001b[1;33m(\u001b[0m\u001b[0mhandle\u001b[0m\u001b[1;33m,\u001b[0m \u001b[0mfeed_dict\u001b[0m\u001b[1;33m,\u001b[0m \u001b[0mfetch_list\u001b[0m\u001b[1;33m)\u001b[0m\u001b[1;33m:\u001b[0m\u001b[1;33m\u001b[0m\u001b[0m\n",
      "\u001b[1;32mC:\\programs\\anaconda\\lib\\site-packages\\tensorflow\\python\\client\\session.py\u001b[0m in \u001b[0;36m_call_tf_sessionrun\u001b[1;34m(self, options, feed_dict, fetch_list, target_list, run_metadata)\u001b[0m\n\u001b[0;32m   1348\u001b[0m     return tf_session.TF_SessionRun_wrapper(\n\u001b[0;32m   1349\u001b[0m         \u001b[0mself\u001b[0m\u001b[1;33m.\u001b[0m\u001b[0m_session\u001b[0m\u001b[1;33m,\u001b[0m \u001b[0moptions\u001b[0m\u001b[1;33m,\u001b[0m \u001b[0mfeed_dict\u001b[0m\u001b[1;33m,\u001b[0m \u001b[0mfetch_list\u001b[0m\u001b[1;33m,\u001b[0m \u001b[0mtarget_list\u001b[0m\u001b[1;33m,\u001b[0m\u001b[1;33m\u001b[0m\u001b[0m\n\u001b[1;32m-> 1350\u001b[1;33m         run_metadata)\n\u001b[0m\u001b[0;32m   1351\u001b[0m \u001b[1;33m\u001b[0m\u001b[0m\n\u001b[0;32m   1352\u001b[0m   \u001b[1;32mdef\u001b[0m \u001b[0m_call_tf_sessionprun\u001b[0m\u001b[1;33m(\u001b[0m\u001b[0mself\u001b[0m\u001b[1;33m,\u001b[0m \u001b[0mhandle\u001b[0m\u001b[1;33m,\u001b[0m \u001b[0mfeed_dict\u001b[0m\u001b[1;33m,\u001b[0m \u001b[0mfetch_list\u001b[0m\u001b[1;33m)\u001b[0m\u001b[1;33m:\u001b[0m\u001b[1;33m\u001b[0m\u001b[0m\n",
      "\u001b[1;31mKeyboardInterrupt\u001b[0m: "
     ]
    }
   ],
   "source": [
    "epochs = 10\n",
    "batch_size = 1000\n",
    "window_size = 10\n",
    "\n",
    "with train_graph.as_default():\n",
    "    saver = tf.train.Saver()\n",
    "\n",
    "with tf.Session(graph=train_graph) as sess:\n",
    "    iteration = 1\n",
    "    loss = 0\n",
    "    sess.run(tf.global_variables_initializer())\n",
    "\n",
    "    for e in range(1, epochs+1):\n",
    "        batches = get_batches(train_words, batch_size, window_size)\n",
    "        start = time.time()\n",
    "        for x, y in batches:\n",
    "            \n",
    "            feed = {inputs: x,\n",
    "                    labels: np.array(y)[:, None]}\n",
    "            train_loss, _ = sess.run([cost, optimizer], feed_dict=feed)\n",
    "            \n",
    "            loss += train_loss\n",
    "            #print(\"I'm working\")\n",
    "            \n",
    "            if iteration % 100 == 0: \n",
    "                end = time.time()\n",
    "                print(\"Epoch {}/{}\".format(e, epochs),\n",
    "                      \"Iteration: {}\".format(iteration),\n",
    "                      \"Avg. Training loss: {:.4f}\".format(loss/100),\n",
    "                      \"{:.4f} sec/batch\".format((end-start)/100))\n",
    "                loss = 0\n",
    "                start = time.time()\n",
    "            \n",
    "            if iteration % 1000 == 0:\n",
    "                ## From Thushan Ganegedara's implementation\n",
    "                # note that this is expensive (~20% slowdown if computed every 500 steps)\n",
    "                sim = similarity.eval()\n",
    "                for i in range(valid_size):\n",
    "                    valid_word = int_to_vocab[valid_examples[i]]\n",
    "                    top_k = 8 # number of nearest neighbors\n",
    "                    nearest = (-sim[i, :]).argsort()[1:top_k+1]\n",
    "                    log = 'Nearest to %s:' % valid_word\n",
    "                    for k in range(top_k):\n",
    "                        close_word = int_to_vocab[nearest[k]]\n",
    "                        log = '%s %s,' % (log, close_word)\n",
    "                    print(log)\n",
    "            \n",
    "            iteration += 1\n",
    "    save_path = saver.save(sess, \"checkpoints/text8.ckpt\")\n",
    "    embed_mat = sess.run(normalized_embedding)"
   ]
  },
  {
   "cell_type": "markdown",
   "metadata": {},
   "source": [
    "Restore the trained network if you need to:"
   ]
  },
  {
   "cell_type": "code",
   "execution_count": null,
   "metadata": {},
   "outputs": [],
   "source": [
    "with train_graph.as_default():\n",
    "    saver = tf.train.Saver()\n",
    "\n",
    "with tf.Session(graph=train_graph) as sess:\n",
    "    saver.restore(sess, tf.train.latest_checkpoint('checkpoints'))\n",
    "    embed_mat = sess.run(embedding)"
   ]
  },
  {
   "cell_type": "markdown",
   "metadata": {},
   "source": [
    "## Visualizing the word vectors\n",
    "\n",
    "Below we'll use T-SNE to visualize how our high-dimensional word vectors cluster together. T-SNE is used to project these vectors into two dimensions while preserving local stucture. Check out [this post from Christopher Olah](http://colah.github.io/posts/2014-10-Visualizing-MNIST/) to learn more about T-SNE and other ways to visualize high-dimensional data."
   ]
  },
  {
   "cell_type": "code",
   "execution_count": null,
   "metadata": {},
   "outputs": [],
   "source": [
    "%matplotlib inline\n",
    "%config InlineBackend.figure_format = 'retina'\n",
    "\n",
    "import matplotlib.pyplot as plt\n",
    "from sklearn.manifold import TSNE"
   ]
  },
  {
   "cell_type": "code",
   "execution_count": null,
   "metadata": {},
   "outputs": [],
   "source": [
    "viz_words = 500\n",
    "tsne = TSNE()\n",
    "embed_tsne = tsne.fit_transform(embed_mat[:viz_words, :])"
   ]
  },
  {
   "cell_type": "code",
   "execution_count": null,
   "metadata": {},
   "outputs": [],
   "source": [
    "fig, ax = plt.subplots(figsize=(14, 14))\n",
    "for idx in range(viz_words):\n",
    "    plt.scatter(*embed_tsne[idx, :], color='steelblue')\n",
    "    plt.annotate(int_to_vocab[idx], (embed_tsne[idx, 0], embed_tsne[idx, 1]), alpha=0.7)"
   ]
  },
  {
   "cell_type": "code",
   "execution_count": null,
   "metadata": {},
   "outputs": [],
   "source": []
  },
  {
   "cell_type": "code",
   "execution_count": null,
   "metadata": {},
   "outputs": [],
   "source": []
  }
 ],
 "metadata": {
  "kernelspec": {
   "display_name": "Python 3",
   "language": "python",
   "name": "python3"
  },
  "language_info": {
   "codemirror_mode": {
    "name": "ipython",
    "version": 3
   },
   "file_extension": ".py",
   "mimetype": "text/x-python",
   "name": "python",
   "nbconvert_exporter": "python",
   "pygments_lexer": "ipython3",
   "version": "3.6.4"
  }
 },
 "nbformat": 4,
 "nbformat_minor": 2
}
