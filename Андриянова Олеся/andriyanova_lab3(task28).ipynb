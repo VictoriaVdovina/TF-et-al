{
 "cells": [
  {
   "cell_type": "markdown",
   "metadata": {},
   "source": [
    "### Лабораторная 3, задание 28\n",
    "\n",
    "$8*a*b^2 - 3*a*b^2 - 7*a*b^2$"
   ]
  },
  {
   "cell_type": "code",
   "execution_count": 1,
   "metadata": {},
   "outputs": [
    {
     "name": "stderr",
     "output_type": "stream",
     "text": [
      "C:\\programs\\anaconda\\lib\\site-packages\\h5py\\__init__.py:36: FutureWarning: Conversion of the second argument of issubdtype from `float` to `np.floating` is deprecated. In future, it will be treated as `np.float64 == np.dtype(float).type`.\n",
      "  from ._conv import register_converters as _register_converters\n"
     ]
    }
   ],
   "source": [
    "import tensorflow as tf"
   ]
  },
  {
   "cell_type": "code",
   "execution_count": 2,
   "metadata": {},
   "outputs": [
    {
     "data": {
      "text/plain": [
       "<tensorflow.python.framework.ops.Graph at 0x1b46feeb00>"
      ]
     },
     "execution_count": 2,
     "metadata": {},
     "output_type": "execute_result"
    }
   ],
   "source": [
    "g = tf.get_default_graph() \n",
    "g"
   ]
  },
  {
   "cell_type": "code",
   "execution_count": 3,
   "metadata": {},
   "outputs": [],
   "source": [
    "x = tf.constant(8.0)\n",
    "y = tf.constant(-3.0)\n",
    "z = tf.constant(-7.0)\n",
    "p = tf.constant(2.0)"
   ]
  },
  {
   "cell_type": "code",
   "execution_count": 4,
   "metadata": {},
   "outputs": [],
   "source": [
    "a = tf.placeholder(tf.float32)\n",
    "b = tf.placeholder(tf.float32)"
   ]
  },
  {
   "cell_type": "code",
   "execution_count": 5,
   "metadata": {},
   "outputs": [
    {
     "data": {
      "text/plain": [
       "[<tf.Operation 'Const' type=Const>,\n",
       " <tf.Operation 'Const_1' type=Const>,\n",
       " <tf.Operation 'Const_2' type=Const>,\n",
       " <tf.Operation 'Const_3' type=Const>,\n",
       " <tf.Operation 'Placeholder' type=Placeholder>,\n",
       " <tf.Operation 'Placeholder_1' type=Placeholder>]"
      ]
     },
     "execution_count": 5,
     "metadata": {},
     "output_type": "execute_result"
    }
   ],
   "source": [
    "g.get_operations()"
   ]
  },
  {
   "cell_type": "code",
   "execution_count": 6,
   "metadata": {},
   "outputs": [],
   "source": [
    "power = tf.pow(b,p)\n",
    "mult1 = tf.multiply(a, power)\n",
    "mult2 = tf.multiply(x, mult1)\n",
    "mult3 = tf.multiply(y,mult1)\n",
    "mult4 = tf.multiply(z, mult1)\n",
    "add1 = tf.add(mult2, mult3)\n",
    "add_f = tf.add(add1, mult4)"
   ]
  },
  {
   "cell_type": "code",
   "execution_count": 7,
   "metadata": {},
   "outputs": [
    {
     "name": "stdout",
     "output_type": "stream",
     "text": [
      "Add new test values?: y/n y\n",
      "add a-values? y/n y\n",
      "add b-values? y/n y\n",
      "Insert new a-test (use commas): 4,3,11\n",
      "Insert new b-test (use commas): 5,9,0\n"
     ]
    }
   ],
   "source": [
    "test_a = [1,2,3]\n",
    "test_b = [2,3,4]\n",
    "\n",
    "new = input('Add new test values?: y/n ')\n",
    "\n",
    "if new == 'y':\n",
    "    ask_a = input('add a-values? y/n ')\n",
    "    ask_b = input('add b-values? y/n ')\n",
    "    \n",
    "    if ask_a == 'y':\n",
    "        new_a = input('Insert new a-test (use commas): ')\n",
    "        new_a = new_a.split(',')\n",
    "        test_a.extend([int(num) for num in new_a])\n",
    "        \n",
    "    if ask_b == 'y':\n",
    "        new_b = input('Insert new b-test (use commas): ')\n",
    "        new_b = new_b.split(',')\n",
    "        test_b.extend([int(num) for num in new_b])"
   ]
  },
  {
   "cell_type": "code",
   "execution_count": 8,
   "metadata": {},
   "outputs": [
    {
     "data": {
      "text/plain": [
       "([1, 2, 3, 4, 3, 11], [2, 3, 4, 5, 9, 0])"
      ]
     },
     "execution_count": 8,
     "metadata": {},
     "output_type": "execute_result"
    }
   ],
   "source": [
    "test_a, test_b"
   ]
  },
  {
   "cell_type": "code",
   "execution_count": 9,
   "metadata": {},
   "outputs": [],
   "source": [
    "init = tf.global_variables_initializer()\n",
    "with tf.Session() as sess:\n",
    "    init.run()\n",
    "    out = sess.run(add_f, feed_dict={a:test_a, b:test_b})"
   ]
  },
  {
   "cell_type": "code",
   "execution_count": 10,
   "metadata": {},
   "outputs": [
    {
     "data": {
      "text/plain": [
       "array([  -8.,  -36.,  -96., -200., -486.,    0.], dtype=float32)"
      ]
     },
     "execution_count": 10,
     "metadata": {},
     "output_type": "execute_result"
    }
   ],
   "source": [
    "out"
   ]
  },
  {
   "cell_type": "code",
   "execution_count": 11,
   "metadata": {},
   "outputs": [],
   "source": [
    "def test(test_a, test_b):\n",
    "    for ind, elem in enumerate(test_a):\n",
    "        testing = 8*elem*test_b[ind]**2 - 7*elem*test_b[ind]**2 - 3*elem*test_b[ind]**2\n",
    "        print(\"\\tTensorFlow result: {0}\\n\\tCounting test:{1}\".format(out[ind], testing))\n",
    "        if out[ind]==testing:\n",
    "            print('Successful!')\n",
    "        else:\n",
    "            print(\"Unsuccessful\")\n",
    "    return \"Testing finished!\"\n",
    "              "
   ]
  },
  {
   "cell_type": "code",
   "execution_count": 12,
   "metadata": {},
   "outputs": [
    {
     "name": "stdout",
     "output_type": "stream",
     "text": [
      "\tTensorFlow result: -8.0\n",
      "\tCounting test:-8\n",
      "Successful!\n",
      "\tTensorFlow result: -36.0\n",
      "\tCounting test:-36\n",
      "Successful!\n",
      "\tTensorFlow result: -96.0\n",
      "\tCounting test:-96\n",
      "Successful!\n",
      "\tTensorFlow result: -200.0\n",
      "\tCounting test:-200\n",
      "Successful!\n",
      "\tTensorFlow result: -486.0\n",
      "\tCounting test:-486\n",
      "Successful!\n",
      "\tTensorFlow result: 0.0\n",
      "\tCounting test:0\n",
      "Successful!\n"
     ]
    },
    {
     "data": {
      "text/plain": [
       "'Testing finished!'"
      ]
     },
     "execution_count": 12,
     "metadata": {},
     "output_type": "execute_result"
    }
   ],
   "source": [
    "test(test_a, test_b)"
   ]
  },
  {
   "cell_type": "code",
   "execution_count": null,
   "metadata": {},
   "outputs": [],
   "source": []
  }
 ],
 "metadata": {
  "kernelspec": {
   "display_name": "Python 3",
   "language": "python",
   "name": "python3"
  },
  "language_info": {
   "codemirror_mode": {
    "name": "ipython",
    "version": 3
   },
   "file_extension": ".py",
   "mimetype": "text/x-python",
   "name": "python",
   "nbconvert_exporter": "python",
   "pygments_lexer": "ipython3",
   "version": "3.6.4"
  }
 },
 "nbformat": 4,
 "nbformat_minor": 2
}
