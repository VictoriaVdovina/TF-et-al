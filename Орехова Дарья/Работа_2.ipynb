{
 "cells": [
  {
   "cell_type": "markdown",
   "metadata": {},
   "source": [
    "Орехова Дарья, 15 ФПЛ"
   ]
  },
  {
   "cell_type": "markdown",
   "metadata": {},
   "source": [
    "Задача №16: 1,9x^3 – 2,9x^3 – x^3"
   ]
  },
  {
   "cell_type": "code",
   "execution_count": 256,
   "metadata": {
    "collapsed": true
   },
   "outputs": [],
   "source": [
    "import numpy as np"
   ]
  },
  {
   "cell_type": "code",
   "execution_count": 257,
   "metadata": {
    "collapsed": true
   },
   "outputs": [],
   "source": [
    "class Operation():  \n",
    "    \n",
    "    def __init__(self, input_nodes = []):\n",
    "        self.input_nodes = input_nodes\n",
    "        self.output_nodes = []        \n",
    "        for node in input_nodes:\n",
    "            node.output_nodes.append(self)        \n",
    "        _default_graph.operations.append(self)\n",
    "  \n",
    "    def compute(self):                \n",
    "        pass"
   ]
  },
  {
   "cell_type": "code",
   "execution_count": 258,
   "metadata": {
    "collapsed": true
   },
   "outputs": [],
   "source": [
    "class add(Operation): \n",
    "    \n",
    "    def __init__(self, x, y):         \n",
    "        super().__init__([x, y])\n",
    "\n",
    "    def compute(self, x_var, y_var):         \n",
    "        self.inputs = [x_var, y_var]\n",
    "        return x_var + y_var"
   ]
  },
  {
   "cell_type": "code",
   "execution_count": 259,
   "metadata": {
    "collapsed": true
   },
   "outputs": [],
   "source": [
    "class multiply(Operation):\n",
    "    \n",
    "    def __init__(self, a, b):        \n",
    "        super().__init__([a, b])\n",
    "        \n",
    "    def compute(self, a_var, b_var):         \n",
    "        self.inputs = [a_var, b_var]\n",
    "        return a_var * b_var"
   ]
  },
  {
   "cell_type": "code",
   "execution_count": 260,
   "metadata": {
    "collapsed": true
   },
   "outputs": [],
   "source": [
    "class Placeholder():\n",
    "        \n",
    "    def __init__(self):        \n",
    "        self.output_nodes = []        \n",
    "        _default_graph.placeholders.append(self)"
   ]
  },
  {
   "cell_type": "code",
   "execution_count": 261,
   "metadata": {
    "collapsed": true
   },
   "outputs": [],
   "source": [
    "class Variable():\n",
    "        \n",
    "    def __init__(self, initial_value = None):        \n",
    "        self.value = initial_value\n",
    "        self.output_nodes = []        \n",
    "        _default_graph.variables.append(self)"
   ]
  },
  {
   "cell_type": "code",
   "execution_count": 262,
   "metadata": {
    "collapsed": true
   },
   "outputs": [],
   "source": [
    "class Graph():\n",
    "       \n",
    "    def __init__(self):\n",
    "        \n",
    "        self.operations = []\n",
    "        self.placeholders = []\n",
    "        self.variables = []\n",
    "        \n",
    "    def set_as_default(self):\n",
    "        global _default_graph\n",
    "        _default_graph = self"
   ]
  },
  {
   "cell_type": "code",
   "execution_count": 263,
   "metadata": {},
   "outputs": [],
   "source": [
    "g = Graph()\n",
    "g.set_as_default()\n",
    "a = Variable(1.9)\n",
    "b = Variable(-2.9)\n",
    "c = Variable(-1)\n",
    "\n",
    "x = Placeholder()\n",
    "\n",
    "d = multiply(x, x) #x^2\n",
    "e = multiply(x, d) #x^3\n",
    "f = multiply(a, e) #1,9x^3\n",
    "g = multiply(b, e) #-2,9x^3\n",
    "h = add(f, g) #1,9x^3-2,9x^3\n",
    "i = multiply(c, e) #-1x^3\n",
    "j = add(h, i) #1,9x^3-2,9x^3-1x^3"
   ]
  },
  {
   "cell_type": "code",
   "execution_count": 264,
   "metadata": {
    "collapsed": true
   },
   "outputs": [],
   "source": [
    "def traverse_postorder(operation):\n",
    "    nodes_postorder = []\n",
    "    def recurse(node):\n",
    "        if isinstance(node, Operation):\n",
    "            for input_node in node.input_nodes:\n",
    "                recurse(input_node)\n",
    "        nodes_postorder.append(node)\n",
    "\n",
    "    recurse(operation)\n",
    "    return nodes_postorder"
   ]
  },
  {
   "cell_type": "code",
   "execution_count": 265,
   "metadata": {},
   "outputs": [],
   "source": [
    "class Session:\n",
    "    \n",
    "    def run(self, operation, feed_dict = {}):        \n",
    "        nodes_postorder = traverse_postorder(operation)        \n",
    "        for node in nodes_postorder:\n",
    "            if type(node) == Placeholder:                \n",
    "                node.output = feed_dict[node]                \n",
    "            elif type(node) == Variable:                \n",
    "                node.output = node.value                \n",
    "            else:                     \n",
    "                node.inputs = [input_node.output for input_node in node.input_nodes]                 \n",
    "                node.output = node.compute(*node.inputs)                \n",
    "            if type(node.output) == list:\n",
    "                node.output = np.array(node.output)        \n",
    "        return operation.output"
   ]
  },
  {
   "cell_type": "code",
   "execution_count": 266,
   "metadata": {},
   "outputs": [],
   "source": [
    "sess = Session()    \n",
    "result = sess.run(operation=j,feed_dict={x: [3, 4, 5]})    "
   ]
  },
  {
   "cell_type": "code",
   "execution_count": 267,
   "metadata": {},
   "outputs": [
    {
     "data": {
      "text/plain": [
       "array([ -54., -128., -250.])"
      ]
     },
     "execution_count": 267,
     "metadata": {},
     "output_type": "execute_result"
    }
   ],
   "source": [
    "result"
   ]
  }
 ],
 "metadata": {
  "kernelspec": {
   "display_name": "Python 3",
   "language": "python",
   "name": "python3"
  },
  "language_info": {
   "codemirror_mode": {
    "name": "ipython",
    "version": 3
   },
   "file_extension": ".py",
   "mimetype": "text/x-python",
   "name": "python",
   "nbconvert_exporter": "python",
   "pygments_lexer": "ipython3",
   "version": "3.6.3"
  }
 },
 "nbformat": 4,
 "nbformat_minor": 2
}
