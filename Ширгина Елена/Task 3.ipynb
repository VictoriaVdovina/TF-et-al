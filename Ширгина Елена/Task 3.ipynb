{
 "cells": [
  {
   "cell_type": "markdown",
   "metadata": {},
   "source": [
    "## Задание 2. a^3 - 3a + b + 2ab - x"
   ]
  },
  {
   "cell_type": "code",
   "execution_count": 1,
   "metadata": {
    "collapsed": true
   },
   "outputs": [],
   "source": [
    "import tensorflow as tf"
   ]
  },
  {
   "cell_type": "code",
   "execution_count": 7,
   "metadata": {
    "collapsed": true
   },
   "outputs": [],
   "source": [
    "c = tf.constant(1.0)\n",
    "d = tf.constant(-3.0)\n",
    "e = tf.constant(1.0)\n",
    "f = tf.constant(2.0)\n",
    "g = tf.constant(-1.0)"
   ]
  },
  {
   "cell_type": "code",
   "execution_count": 8,
   "metadata": {},
   "outputs": [
    {
     "data": {
      "text/plain": [
       "<tensorflow.python.framework.ops.Graph at 0x1ec7b1235f8>"
      ]
     },
     "execution_count": 8,
     "metadata": {},
     "output_type": "execute_result"
    }
   ],
   "source": [
    "tf.get_default_graph()"
   ]
  },
  {
   "cell_type": "code",
   "execution_count": 9,
   "metadata": {},
   "outputs": [
    {
     "name": "stdout",
     "output_type": "stream",
     "text": [
      "<tensorflow.python.framework.ops.Graph object at 0x000001EC7B1AD320>\n"
     ]
    }
   ],
   "source": [
    "graph = tf.Graph()\n",
    "print(graph)"
   ]
  },
  {
   "cell_type": "code",
   "execution_count": 10,
   "metadata": {
    "collapsed": true
   },
   "outputs": [],
   "source": [
    "a = tf.placeholder(tf.float32)\n",
    "b = tf.placeholder(tf.float32)\n",
    "x = tf.placeholder(tf.float32)\n",
    "a1 = tf.multiply(a, a)\n",
    "a3 = tf.multiply(a1, a)     \n",
    "c1 = tf.multiply(c, a3)     \n",
    "d1 = tf.multiply(d, a)      \n",
    "c2 = tf.add(c1, d1)         \n",
    "e1 = tf.multiply(e, b)      \n",
    "e2 = tf.add(c2, e1)         \n",
    "f1 = tf.multiply(a, b)      \n",
    "f2 = tf.multiply(f, f1)     \n",
    "f3 = tf.add(e2, f2)         \n",
    "g1 = tf.multiply(g, x)      \n",
    "g2 = tf.add(f3, g1)         \n"
   ]
  },
  {
   "cell_type": "code",
   "execution_count": 11,
   "metadata": {
    "collapsed": true
   },
   "outputs": [],
   "source": [
    "sess = tf.InteractiveSession()"
   ]
  },
  {
   "cell_type": "code",
   "execution_count": 12,
   "metadata": {},
   "outputs": [
    {
     "name": "stdout",
     "output_type": "stream",
     "text": [
      "13.0\n"
     ]
    }
   ],
   "source": [
    "res1 = sess.run(g2, feed_dict={a:2, b:3, x:4})\n",
    "print(res1)"
   ]
  },
  {
   "cell_type": "code",
   "execution_count": 13,
   "metadata": {},
   "outputs": [
    {
     "name": "stdout",
     "output_type": "stream",
     "text": [
      "13\n"
     ]
    }
   ],
   "source": [
    "res1_1 = (2**3) - 3*2 + 3 + 2*(2*3) - 4\n",
    "print(res1_1)"
   ]
  },
  {
   "cell_type": "code",
   "execution_count": 14,
   "metadata": {},
   "outputs": [
    {
     "name": "stdout",
     "output_type": "stream",
     "text": [
      "191.0\n"
     ]
    }
   ],
   "source": [
    "res2 = sess.run(g2, feed_dict={a:5, b:8, x:7})\n",
    "print(res2)"
   ]
  },
  {
   "cell_type": "code",
   "execution_count": 15,
   "metadata": {},
   "outputs": [
    {
     "name": "stdout",
     "output_type": "stream",
     "text": [
      "191\n"
     ]
    }
   ],
   "source": [
    "res2_1 = (5**3) - 3*5 + 8 + 2*(5*8) - 7\n",
    "print(res2_1)"
   ]
  },
  {
   "cell_type": "code",
   "execution_count": 16,
   "metadata": {
    "collapsed": true
   },
   "outputs": [],
   "source": [
    "sess.close()"
   ]
  }
 ],
 "metadata": {
  "kernelspec": {
   "display_name": "Python 3",
   "language": "python",
   "name": "python3"
  },
  "language_info": {
   "codemirror_mode": {
    "name": "ipython",
    "version": 3
   },
   "file_extension": ".py",
   "mimetype": "text/x-python",
   "name": "python",
   "nbconvert_exporter": "python",
   "pygments_lexer": "ipython3",
   "version": "3.6.3"
  }
 },
 "nbformat": 4,
 "nbformat_minor": 2
}
