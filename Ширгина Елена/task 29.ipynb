{
 "cells": [
  {
   "cell_type": "code",
   "execution_count": 220,
   "metadata": {},
   "outputs": [],
   "source": [
    "#Вариант 29. Задан список процессов, выполняющихся под управлением операционной системы. Каждый процесс характеризуется уникальным \n",
    "#идентификатором, приоритетом (от 0 до 15), временем создания (часы, минуты, секунды), объемом доступной и занимаемой памяти, количеством открытых ресурсов. Реализовать подсчет суммарного объема занимаемой памяти, поиск по идентификатору, сортировку по приоритету и времени создания\n",
    "\n",
    "class Process:\n",
    "    def __init__(self, process_id, priority, time, vacant_memory, occupied_memory, num_resources):\n",
    "        self.process_id = process_id\n",
    "        self.priority = priority\n",
    "        self.time = time\n",
    "        self.vacant_memory = vacant_memory\n",
    "        self.occupied_memory = occupied_memory\n",
    "        self.num_resources = num_resources\n",
    "    def get_process(self):\n",
    "        print('Process id:', self.process_id)\n",
    "        print('Priority:', self.priority)\n",
    "        print('Process time:', self.time)\n",
    "        print('Vacant memory on the device:', self.vacant_memory)\n",
    "        print('Occupied memory on the device:', self.occupied_memory)\n",
    "        print('Number of opened resources:', self.num_resources)\n",
    "\n",
    "    def __repr__(self):\n",
    "        return \"<%s>\" % (self.process_id)\n",
    "    \n",
    "    "
   ]
  },
  {
   "cell_type": "code",
   "execution_count": 221,
   "metadata": {},
   "outputs": [],
   "source": [
    "#Making up dataset\n",
    "processes = []\n",
    "process1 = Process('001', 0, '15:34:01', 1024, 2056, 6)\n",
    "process2 = Process('002', 2, '18:22:41', 1562, 845, 2)\n",
    "process3 = Process('003', 1, '10:25:15', 1056, 940, 4)\n",
    "process4 = Process('004', 5, '09:52:38', 2032, 615, 3)\n",
    "process5 = Process('005', 10, '19:18:45', 1065, 720, 5)\n",
    "process6 = Process('006', 8, '17:21:14', 1789, 1015, 1)\n",
    "process7 = Process('007', 9, '16:42:18', 1890, 789, 7)\n",
    "\n",
    "processes.append(process1)\n",
    "processes.append(process2)\n",
    "processes.append(process3)\n",
    "processes.append(process4)\n",
    "processes.append(process5)\n",
    "processes.append(process6)\n",
    "processes.append(process7)"
   ]
  },
  {
   "cell_type": "code",
   "execution_count": 223,
   "metadata": {},
   "outputs": [
    {
     "name": "stdout",
     "output_type": "stream",
     "text": [
      "Sum of occupied memory: 6980\n"
     ]
    }
   ],
   "source": [
    "#1. Sum of all occupied memory\n",
    "\n",
    "def sum_memory(dataset):\n",
    "    occup_memory = 0\n",
    "    for i in dataset:\n",
    "        occup_memory += i.occupied_memory\n",
    "    return occup_memory\n",
    "\n",
    "sum_occup_memory = sum_memory(processes)\n",
    "print('Sum of occupied memory:', sum_occup_memory)"
   ]
  },
  {
   "cell_type": "code",
   "execution_count": 224,
   "metadata": {},
   "outputs": [
    {
     "name": "stdout",
     "output_type": "stream",
     "text": [
      "Input process id: 005\n",
      "Process id: 005\n",
      "Priority: 10\n",
      "Process time: 19:18:45\n",
      "Vacant memory on the device: 1065\n",
      "Occupied memory on the device: 720\n",
      "Number of opened resources: 5\n"
     ]
    }
   ],
   "source": [
    "#2. ID searching\n",
    "\n",
    "def search_id(dataset):\n",
    "    input_id = input('Input process id: ')\n",
    "    for i in dataset:\n",
    "        if i.process_id == input_id:\n",
    "            i.get_process()\n",
    "        \n",
    "        \n",
    "\n",
    "            \n",
    "search_id(processes)\n",
    "    \n",
    "    \n",
    "        "
   ]
  },
  {
   "cell_type": "code",
   "execution_count": 225,
   "metadata": {
    "collapsed": true
   },
   "outputs": [],
   "source": [
    "#3. Priority sorting variant 1\n",
    "def bypriority_key(process):\n",
    "        return process.priority"
   ]
  },
  {
   "cell_type": "code",
   "execution_count": 226,
   "metadata": {},
   "outputs": [
    {
     "name": "stdout",
     "output_type": "stream",
     "text": [
      "Process ids, sorted by priority: [<001>, <003>, <002>, <004>, <006>, <007>, <005>]\n"
     ]
    }
   ],
   "source": [
    "priority_sorted = sorted(processes, key = bypriority_key)\n",
    "print('Process ids, sorted by priority:', priority_sorted)"
   ]
  },
  {
   "cell_type": "code",
   "execution_count": 227,
   "metadata": {},
   "outputs": [
    {
     "name": "stdout",
     "output_type": "stream",
     "text": [
      "Process id: 001\n",
      "Priority: 0\n",
      "Process time: 15:34:01\n",
      "Vacant memory on the device: 1024\n",
      "Occupied memory on the device: 2056\n",
      "Number of opened resources: 6\n",
      "Process id: 003\n",
      "Priority: 1\n",
      "Process time: 10:25:15\n",
      "Vacant memory on the device: 1056\n",
      "Occupied memory on the device: 940\n",
      "Number of opened resources: 4\n",
      "Process id: 002\n",
      "Priority: 2\n",
      "Process time: 18:22:41\n",
      "Vacant memory on the device: 1562\n",
      "Occupied memory on the device: 845\n",
      "Number of opened resources: 2\n",
      "Process id: 004\n",
      "Priority: 5\n",
      "Process time: 09:52:38\n",
      "Vacant memory on the device: 2032\n",
      "Occupied memory on the device: 615\n",
      "Number of opened resources: 3\n",
      "Process id: 006\n",
      "Priority: 8\n",
      "Process time: 17:21:14\n",
      "Vacant memory on the device: 1789\n",
      "Occupied memory on the device: 1015\n",
      "Number of opened resources: 1\n",
      "Process id: 007\n",
      "Priority: 9\n",
      "Process time: 16:42:18\n",
      "Vacant memory on the device: 1890\n",
      "Occupied memory on the device: 789\n",
      "Number of opened resources: 7\n",
      "Process id: 005\n",
      "Priority: 10\n",
      "Process time: 19:18:45\n",
      "Vacant memory on the device: 1065\n",
      "Occupied memory on the device: 720\n",
      "Number of opened resources: 5\n"
     ]
    }
   ],
   "source": [
    "#3. Priority sorting variant 2\n",
    "def prior_sorting(dataset):\n",
    "    counter = 1\n",
    "    while counter:\n",
    "        counter = 0\n",
    "        for i in range(len(dataset) - 1): \n",
    "            prior1 = dataset[i].priority\n",
    "            prior2 = dataset[i+1].priority\n",
    "            if prior1 > prior2:\n",
    "                dataset[i], dataset[i+1] = dataset[i+1], dataset[i]\n",
    "                counter = 1\n",
    "    return dataset\n",
    "\n",
    "\n",
    "\n",
    "sorted_by_prior = prior_sorting(processes)\n",
    "for i in sorted_by_prior:\n",
    "    i.get_process()"
   ]
  },
  {
   "cell_type": "code",
   "execution_count": 228,
   "metadata": {
    "collapsed": true
   },
   "outputs": [],
   "source": [
    "#4. Time sorting variant 1\n",
    "def bytime_key(process):\n",
    "    return process.time"
   ]
  },
  {
   "cell_type": "code",
   "execution_count": 229,
   "metadata": {},
   "outputs": [
    {
     "name": "stdout",
     "output_type": "stream",
     "text": [
      "Process ids, sorted by time: [<004>, <003>, <001>, <007>, <006>, <002>, <005>]\n"
     ]
    }
   ],
   "source": [
    "time_sorted = sorted(processes, key = bytime_key)\n",
    "print('Process ids, sorted by time:', time_sorted)"
   ]
  },
  {
   "cell_type": "code",
   "execution_count": 230,
   "metadata": {
    "collapsed": true
   },
   "outputs": [],
   "source": [
    "#4.Time sorting variant 2\n",
    "from  datetime  import time, datetime\n",
    "def get_time(raw_time):\n",
    "    time_data = raw_time.split(':')\n",
    "    times = time(int(time_data[0]), int(time_data[1]), int(time_data[2]))\n",
    "    return times\n"
   ]
  },
  {
   "cell_type": "code",
   "execution_count": 244,
   "metadata": {},
   "outputs": [
    {
     "name": "stdout",
     "output_type": "stream",
     "text": [
      "Process id: 004\n",
      "Priority: 5\n",
      "Process time: 09:52:38\n",
      "Vacant memory on the device: 2032\n",
      "Occupied memory on the device: 615\n",
      "Number of opened resources: 3\n",
      "Process id: 003\n",
      "Priority: 1\n",
      "Process time: 10:25:15\n",
      "Vacant memory on the device: 1056\n",
      "Occupied memory on the device: 940\n",
      "Number of opened resources: 4\n",
      "Process id: 001\n",
      "Priority: 0\n",
      "Process time: 15:34:01\n",
      "Vacant memory on the device: 1024\n",
      "Occupied memory on the device: 2056\n",
      "Number of opened resources: 6\n",
      "Process id: 007\n",
      "Priority: 9\n",
      "Process time: 16:42:18\n",
      "Vacant memory on the device: 1890\n",
      "Occupied memory on the device: 789\n",
      "Number of opened resources: 7\n",
      "Process id: 006\n",
      "Priority: 8\n",
      "Process time: 17:21:14\n",
      "Vacant memory on the device: 1789\n",
      "Occupied memory on the device: 1015\n",
      "Number of opened resources: 1\n",
      "Process id: 002\n",
      "Priority: 2\n",
      "Process time: 18:22:41\n",
      "Vacant memory on the device: 1562\n",
      "Occupied memory on the device: 845\n",
      "Number of opened resources: 2\n",
      "Process id: 005\n",
      "Priority: 10\n",
      "Process time: 19:18:45\n",
      "Vacant memory on the device: 1065\n",
      "Occupied memory on the device: 720\n",
      "Number of opened resources: 5\n"
     ]
    }
   ],
   "source": [
    "def time_sorting(dataset):\n",
    "    counter = 1\n",
    "    while counter:\n",
    "        counter = 0\n",
    "        for i in range(len(dataset) - 1): \n",
    "            time1 = get_time(dataset[i].time)\n",
    "            time2 = get_time(dataset[i+1].time)\n",
    "            if time1 > time2:\n",
    "                dataset[i], dataset[i+1] = dataset[i+1], dataset[i]\n",
    "                counter = 0\n",
    "    return dataset\n",
    "\n",
    "\n",
    "sorted_by_time = time_sorting(processes)\n",
    "for i in sorted_by_time:\n",
    "    i.get_process()"
   ]
  }
 ],
 "metadata": {
  "kernelspec": {
   "display_name": "Python 3",
   "language": "python",
   "name": "python3"
  },
  "language_info": {
   "codemirror_mode": {
    "name": "ipython",
    "version": 3
   },
   "file_extension": ".py",
   "mimetype": "text/x-python",
   "name": "python",
   "nbconvert_exporter": "python",
   "pygments_lexer": "ipython3",
   "version": "3.6.3"
  }
 },
 "nbformat": 4,
 "nbformat_minor": 2
}
