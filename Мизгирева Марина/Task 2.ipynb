{
 "cells": [
  {
   "cell_type": "code",
   "execution_count": 41,
   "metadata": {},
   "outputs": [],
   "source": [
    "# x^2y + yxy - sin(x)\n",
    "# не смогла реализовать полностью функцию, так как не знаю, как вычислить синус\n",
    "\n",
    "class Operation():\n",
    "    \"\"\"\n",
    "    An Operation is a node in a \"Graph\". TensorFlow will also use this concept of a Graph.\n",
    "    \n",
    "    This Operation class will be inherited by other classes that actually compute the specific\n",
    "    operation, such as adding or matrix multiplication.\n",
    "    \"\"\"\n",
    "    \n",
    "    def __init__(self, input_nodes = []):\n",
    "        \"\"\"\n",
    "        Intialize an Operation\n",
    "        \"\"\"\n",
    "        self.input_nodes = input_nodes # The list of input nodes\n",
    "        self.output_nodes = [] # List of nodes consuming this node's output\n",
    "        \n",
    "        # For every node in the input, we append this operation (self) to the list of\n",
    "        # the consumers of the input nodes\n",
    "        for node in input_nodes:\n",
    "            node.output_nodes.append(self)\n",
    "        \n",
    "        # There will be a global default graph (TensorFlow works this way)\n",
    "        # We will then append this particular operation\n",
    "        # Append this operation to the list of operations in the currently active default graph\n",
    "        _default_graph.operations.append(self)\n",
    "  \n",
    "    def compute(self):\n",
    "        \"\"\" \n",
    "        This is a placeholder function. It will be overwritten by the actual specific operation\n",
    "        that inherits from this class.\n",
    "        \n",
    "        \"\"\"\n",
    "        \n",
    "        pass\n"
   ]
  },
  {
   "cell_type": "code",
   "execution_count": 42,
   "metadata": {},
   "outputs": [],
   "source": [
    "class add(Operation):\n",
    "    \n",
    "    def __init__(self, x, y):\n",
    "         \n",
    "        super().__init__([x, y])\n",
    "\n",
    "    def compute(self, x_var, y_var):\n",
    "         \n",
    "        self.inputs = [x_var, y_var]\n",
    "        return x_var + y_var"
   ]
  },
  {
   "cell_type": "code",
   "execution_count": 43,
   "metadata": {},
   "outputs": [],
   "source": [
    "class multiply(Operation):\n",
    "     \n",
    "    def __init__(self, a, b):\n",
    "        \n",
    "        super().__init__([a, b])\n",
    "    \n",
    "    def compute(self, a_var, b_var):\n",
    "         \n",
    "        self.inputs = [a_var, b_var]\n",
    "        return a_var * b_var"
   ]
  },
  {
   "cell_type": "code",
   "execution_count": 44,
   "metadata": {},
   "outputs": [],
   "source": [
    "class matmul(Operation):\n",
    "     \n",
    "    def __init__(self, a, b):\n",
    "        \n",
    "        super().__init__([a, b])\n",
    "    \n",
    "    def compute(self, a_mat, b_mat):\n",
    "         \n",
    "        self.inputs = [a_mat, b_mat]\n",
    "        return a_mat.dot(b_mat)"
   ]
  },
  {
   "cell_type": "code",
   "execution_count": 45,
   "metadata": {},
   "outputs": [],
   "source": [
    "class Placeholder():\n",
    "    \"\"\"\n",
    "    A placeholder is a node that needs to be provided a value for computing the output in the Graph.\n",
    "    \"\"\"\n",
    "    \n",
    "    def __init__(self):\n",
    "        \n",
    "        self.output_nodes = []\n",
    "        \n",
    "        _default_graph.placeholders.append(self)"
   ]
  },
  {
   "cell_type": "code",
   "execution_count": 46,
   "metadata": {},
   "outputs": [],
   "source": [
    "class Variable():\n",
    "    \"\"\"\n",
    "    This variable is a changeable parameter of the Graph.\n",
    "    \"\"\"\n",
    "    \n",
    "    def __init__(self, initial_value = None):\n",
    "        \n",
    "        self.value = initial_value\n",
    "        self.output_nodes = []\n",
    "        \n",
    "         \n",
    "        _default_graph.variables.append(self)"
   ]
  },
  {
   "cell_type": "code",
   "execution_count": 47,
   "metadata": {},
   "outputs": [],
   "source": [
    "class Graph():\n",
    "    \n",
    "    \n",
    "    def __init__(self):\n",
    "        \n",
    "        self.operations = []\n",
    "        self.placeholders = []\n",
    "        self.variables = []\n",
    "        \n",
    "    def set_as_default(self):\n",
    "        \"\"\"\n",
    "        Sets this Graph instance as the Global Default Graph\n",
    "        \"\"\"\n",
    "        global _default_graph\n",
    "        _default_graph = self"
   ]
  },
  {
   "cell_type": "code",
   "execution_count": 48,
   "metadata": {},
   "outputs": [],
   "source": [
    "g = Graph()\n",
    "\n",
    "g.set_as_default()\n",
    "\n",
    "A = Variable(1)\n",
    "\n",
    "b = Variable(1)\n",
    "\n",
    "x = Placeholder()\n",
    "y = Placeholder()\n",
    "\n",
    "c = multiply(x,x)\n",
    "d = multiply(c,y)\n",
    "e = multiply(A,d)\n",
    "\n",
    "f = multiply(y,y)\n",
    "h = multiply(f,x)\n",
    "k = multiply(b,h)\n",
    "\n",
    "z = add(e,k)"
   ]
  },
  {
   "cell_type": "code",
   "execution_count": 49,
   "metadata": {},
   "outputs": [],
   "source": [
    "import numpy as np\n"
   ]
  },
  {
   "cell_type": "code",
   "execution_count": 50,
   "metadata": {},
   "outputs": [],
   "source": [
    "def traverse_postorder(operation):\n",
    "    \"\"\" \n",
    "    PostOrder Traversal of Nodes. Basically makes sure computations are done in \n",
    "    the correct order (Ax first , then Ax + b). Feel free to copy and paste this code.\n",
    "    It is not super important for understanding the basic fundamentals of deep learning.\n",
    "    \"\"\"\n",
    "    \n",
    "    nodes_postorder = []\n",
    "    def recurse(node):\n",
    "        if isinstance(node, Operation):\n",
    "            for input_node in node.input_nodes:\n",
    "                recurse(input_node)\n",
    "        nodes_postorder.append(node)\n",
    "\n",
    "    recurse(operation)\n",
    "    return nodes_postorder"
   ]
  },
  {
   "cell_type": "code",
   "execution_count": 51,
   "metadata": {},
   "outputs": [],
   "source": [
    "class Session:\n",
    "    \n",
    "    def run(self, operation, feed_dict = {}):\n",
    "        \"\"\" \n",
    "          operation: The operation to compute\n",
    "          feed_dict: Dictionary mapping placeholders to input values (the data)  \n",
    "        \"\"\"\n",
    "        \n",
    "        # Puts nodes in correct order\n",
    "        nodes_postorder = traverse_postorder(operation)\n",
    "        \n",
    "        for node in nodes_postorder:\n",
    "\n",
    "            if type(node) == Placeholder:\n",
    "                \n",
    "                node.output = feed_dict[node]\n",
    "                \n",
    "            elif type(node) == Variable:\n",
    "                \n",
    "                node.output = node.value\n",
    "                \n",
    "            else: # Operation\n",
    "                \n",
    "                node.inputs = [input_node.output for input_node in node.input_nodes]\n",
    "\n",
    "                 \n",
    "                node.output = node.compute(*node.inputs)\n",
    "                \n",
    "            # Convert lists to numpy arrays\n",
    "            if type(node.output) == list:\n",
    "                node.output = np.array(node.output)\n",
    "        \n",
    "        # Return the requested node value\n",
    "        return operation.output"
   ]
  },
  {
   "cell_type": "code",
   "execution_count": 52,
   "metadata": {},
   "outputs": [
    {
     "data": {
      "text/plain": [
       "array([  750,   160, -1500])"
      ]
     },
     "execution_count": 52,
     "metadata": {},
     "output_type": "execute_result"
    }
   ],
   "source": [
    "sess = Session()\n",
    "\n",
    "result = sess.run(operation=z,feed_dict={x:[10, 2, -15], y:[5, 8, 20]})\n",
    "\n",
    "result"
   ]
  }
 ],
 "metadata": {
  "kernelspec": {
   "display_name": "Python 3",
   "language": "python",
   "name": "python3"
  },
  "language_info": {
   "codemirror_mode": {
    "name": "ipython",
    "version": 3
   },
   "file_extension": ".py",
   "mimetype": "text/x-python",
   "name": "python",
   "nbconvert_exporter": "python",
   "pygments_lexer": "ipython3",
   "version": "3.6.5"
  }
 },
 "nbformat": 4,
 "nbformat_minor": 2
}
