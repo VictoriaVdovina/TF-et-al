{
 "cells": [
  {
   "cell_type": "code",
   "execution_count": null,
   "metadata": {},
   "outputs": [],
   "source": [
    "# x^2 + 5x - 4 - x^3 - 5x^2 + 4x - 13\n",
    "\n",
    "import tensorflow as tf"
   ]
  },
  {
   "cell_type": "code",
   "execution_count": null,
   "metadata": {},
   "outputs": [],
   "source": [
    "a = tf.constant(1.0)\n",
    "b = tf.constant(5.0)\n",
    "c = tf.constant(-4.0)\n",
    "d = tf.constant(-1.0)\n",
    "e = tf.constant(-5.0)\n",
    "f = tf.constant(4.0)\n",
    "g = tf.constant(-13.0)"
   ]
  },
  {
   "cell_type": "code",
   "execution_count": null,
   "metadata": {},
   "outputs": [],
   "source": [
    "tf.get_default_graph()\n",
    "graph = tf.Graph()   \n",
    "print(graph)"
   ]
  },
  {
   "cell_type": "code",
   "execution_count": null,
   "metadata": {},
   "outputs": [],
   "source": [
    "x = tf.placeholder(tf.float32)\n",
    "\n",
    "first = tf.multiply(x,x)        # x^2\n",
    "first_1 = tf.multiply(first,x)  # x^3\n",
    "second = tf.multiply(x, b)      # 5x\n",
    "fourth = tf.multiply(d,first_1) # -x^3\n",
    "fifth = tf.multiply(e,first)    # -5x^2\n",
    "sixth = tf.multiply(f,x)        # 4x"
   ]
  },
  {
   "cell_type": "code",
   "execution_count": null,
   "metadata": {},
   "outputs": [],
   "source": [
    "sum_1 = tf.add(first,second)\n",
    "sum_2 = tf.add(sum_1,c)\n",
    "sum_3 = tf.add(sum_2,fourth)\n",
    "sum_4 = tf.add(sum_3,fifth)\n",
    "sum_5 = tf.add(sum_4,sixth)\n",
    "summa = tf.add(sum_5,g)"
   ]
  },
  {
   "cell_type": "code",
   "execution_count": null,
   "metadata": {},
   "outputs": [],
   "source": [
    "sess = tf.InteractiveSession()\n",
    "\n",
    "result_1 = sess.run(summa,feed_dict={x:7})\n",
    "result_2 = sess.run(summa,feed_dict={x:10})\n",
    "result_3 = sess.run(summa,feed_dict={x:-15})\n",
    "\n",
    "print(result_1, result_2, result_3)\n",
    "\n",
    "sess.close"
   ]
  }
 ],
 "metadata": {
  "kernelspec": {
   "display_name": "Python 3",
   "language": "python",
   "name": "python3"
  },
  "language_info": {
   "codemirror_mode": {
    "name": "ipython",
    "version": 3
   },
   "file_extension": ".py",
   "mimetype": "text/x-python",
   "name": "python",
   "nbconvert_exporter": "python",
   "pygments_lexer": "ipython3",
   "version": "3.6.5"
  }
 },
 "nbformat": 4,
 "nbformat_minor": 2
}
