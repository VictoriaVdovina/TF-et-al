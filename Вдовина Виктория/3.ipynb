{
 "cells": [
  {
   "cell_type": "markdown",
   "metadata": {},
   "source": [
    "22.-3,1y^2+2,1y^2-y^2"
   ]
  },
  {
   "cell_type": "code",
   "execution_count": 23,
   "metadata": {},
   "outputs": [],
   "source": [
    "import tensorflow as tf"
   ]
  },
  {
   "cell_type": "code",
   "execution_count": 24,
   "metadata": {},
   "outputs": [],
   "source": [
    "c = tf.constant(-3.1)\n",
    "d = tf.constant(2.1)\n",
    "e = tf.constant(-1.0)"
   ]
  },
  {
   "cell_type": "code",
   "execution_count": 25,
   "metadata": {},
   "outputs": [
    {
     "data": {
      "text/plain": [
       "<tensorflow.python.framework.ops.Graph at 0x1bc446677f0>"
      ]
     },
     "execution_count": 25,
     "metadata": {},
     "output_type": "execute_result"
    }
   ],
   "source": [
    "tf.get_default_graph()"
   ]
  },
  {
   "cell_type": "code",
   "execution_count": 26,
   "metadata": {},
   "outputs": [
    {
     "name": "stdout",
     "output_type": "stream",
     "text": [
      "<tensorflow.python.framework.ops.Graph object at 0x000001BC446673C8>\n"
     ]
    }
   ],
   "source": [
    "graph = tf.Graph()\n",
    "print(graph)"
   ]
  },
  {
   "cell_type": "code",
   "execution_count": 27,
   "metadata": {},
   "outputs": [],
   "source": [
    "y = tf.placeholder(tf.float32) \n",
    "a = tf.multiply(y, y) #y^2 \n",
    "b = tf.multiply(a, c) #-3,1y^2 \n",
    "x = tf.multiply(a, d) #2,1y^2 \n",
    "g = tf.add(b, x) #-3,1y^2 + 2,1y^2 \n",
    "h = tf.multiply(a, e) #-y^2\n",
    "i = tf.add(g, h) #-3,1y^2+2,1y^2-y^2 "
   ]
  },
  {
   "cell_type": "code",
   "execution_count": 28,
   "metadata": {},
   "outputs": [],
   "source": [
    "sess = tf.InteractiveSession()"
   ]
  },
  {
   "cell_type": "code",
   "execution_count": 29,
   "metadata": {},
   "outputs": [
    {
     "name": "stdout",
     "output_type": "stream",
     "text": [
      "-8.0\n"
     ]
    }
   ],
   "source": [
    "result1 = sess.run(i, feed_dict = {y:2})\n",
    "print(result1)"
   ]
  },
  {
   "cell_type": "code",
   "execution_count": 30,
   "metadata": {},
   "outputs": [
    {
     "name": "stdout",
     "output_type": "stream",
     "text": [
      "-8.0\n"
     ]
    }
   ],
   "source": [
    "result1_1 = -3.1*(2**2) + 2.1*(2**2) - 1*(2**2)  \n",
    "print(result1_1)"
   ]
  },
  {
   "cell_type": "code",
   "execution_count": 31,
   "metadata": {},
   "outputs": [
    {
     "name": "stdout",
     "output_type": "stream",
     "text": [
      "-162.0\n"
     ]
    }
   ],
   "source": [
    "result2 = sess.run(i, feed_dict = {y:9})\n",
    "print(result2)"
   ]
  },
  {
   "cell_type": "code",
   "execution_count": 32,
   "metadata": {},
   "outputs": [
    {
     "name": "stdout",
     "output_type": "stream",
     "text": [
      "-162.0\n"
     ]
    }
   ],
   "source": [
    "result2_1 = -3.1*(9**2) + 2.1*(9**2)-1*(9**2) \n",
    "print(result2_1)"
   ]
  },
  {
   "cell_type": "code",
   "execution_count": 33,
   "metadata": {},
   "outputs": [],
   "source": [
    "sess.close()"
   ]
  }
 ],
 "metadata": {
  "kernelspec": {
   "display_name": "Python 3",
   "language": "python",
   "name": "python3"
  },
  "language_info": {
   "codemirror_mode": {
    "name": "ipython",
    "version": 3
   },
   "file_extension": ".py",
   "mimetype": "text/x-python",
   "name": "python",
   "nbconvert_exporter": "python",
   "pygments_lexer": "ipython3",
   "version": "3.6.5"
  }
 },
 "nbformat": 4,
 "nbformat_minor": 2
}
