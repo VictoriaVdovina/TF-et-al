{
 "cells": [
  {
   "cell_type": "markdown",
   "metadata": {},
   "source": [
    "# Задание 3"
   ]
  },
  {
   "cell_type": "markdown",
   "metadata": {},
   "source": [
    "### x^2y+xyx-sin(x)"
   ]
  },
  {
   "cell_type": "code",
   "execution_count": 17,
   "metadata": {
    "collapsed": true
   },
   "outputs": [],
   "source": [
    "import tensorflow as tf"
   ]
  },
  {
   "cell_type": "code",
   "execution_count": 18,
   "metadata": {},
   "outputs": [],
   "source": [
    "g = tf.get_default_graph()"
   ]
  },
  {
   "cell_type": "code",
   "execution_count": 19,
   "metadata": {
    "collapsed": true
   },
   "outputs": [],
   "source": [
    "x = tf.placeholder(tf.float16)\n",
    "y = tf.placeholder(tf.float16)"
   ]
  },
  {
   "cell_type": "code",
   "execution_count": 20,
   "metadata": {
    "collapsed": true
   },
   "outputs": [],
   "source": [
    "a = tf.square(x)\n",
    "b = tf.multiply(a,y) #x^2*y\n",
    "c = tf.multiply(x,y) #x*y\n",
    "d = tf.multiply(c,x) #x*y*x\n",
    "e = tf.sin(x) \n",
    "add_f = tf.add(b,d)\n",
    "sub_g = tf.subtract(add_f,e)"
   ]
  },
  {
   "cell_type": "code",
   "execution_count": 21,
   "metadata": {},
   "outputs": [
    {
     "data": {
      "text/plain": [
       "[<tf.Operation 'Placeholder' type=Placeholder>,\n",
       " <tf.Operation 'Placeholder_1' type=Placeholder>,\n",
       " <tf.Operation 'Square' type=Square>,\n",
       " <tf.Operation 'Mul' type=Mul>,\n",
       " <tf.Operation 'Mul_1' type=Mul>,\n",
       " <tf.Operation 'Mul_2' type=Mul>,\n",
       " <tf.Operation 'Sin' type=Sin>,\n",
       " <tf.Operation 'Add' type=Add>,\n",
       " <tf.Operation 'Sub' type=Sub>,\n",
       " <tf.Operation 'Placeholder_2' type=Placeholder>,\n",
       " <tf.Operation 'Placeholder_3' type=Placeholder>,\n",
       " <tf.Operation 'Square_1' type=Square>,\n",
       " <tf.Operation 'Mul_3' type=Mul>,\n",
       " <tf.Operation 'Mul_4' type=Mul>,\n",
       " <tf.Operation 'Mul_5' type=Mul>,\n",
       " <tf.Operation 'Sin_1' type=Sin>,\n",
       " <tf.Operation 'Add_1' type=Add>,\n",
       " <tf.Operation 'Sub_1' type=Sub>,\n",
       " <tf.Operation 'Placeholder_4' type=Placeholder>,\n",
       " <tf.Operation 'Placeholder_5' type=Placeholder>,\n",
       " <tf.Operation 'Square_2' type=Square>,\n",
       " <tf.Operation 'Mul_6' type=Mul>,\n",
       " <tf.Operation 'Mul_7' type=Mul>,\n",
       " <tf.Operation 'Mul_8' type=Mul>,\n",
       " <tf.Operation 'Sin_2' type=Sin>,\n",
       " <tf.Operation 'Add_2' type=Add>,\n",
       " <tf.Operation 'Sub_2' type=Sub>,\n",
       " <tf.Operation 'Placeholder_6' type=Placeholder>,\n",
       " <tf.Operation 'Placeholder_7' type=Placeholder>,\n",
       " <tf.Operation 'Square_3' type=Square>,\n",
       " <tf.Operation 'Mul_9' type=Mul>,\n",
       " <tf.Operation 'Mul_10' type=Mul>,\n",
       " <tf.Operation 'Mul_11' type=Mul>,\n",
       " <tf.Operation 'Sin_3' type=Sin>,\n",
       " <tf.Operation 'Add_3' type=Add>,\n",
       " <tf.Operation 'Sub_3' type=Sub>]"
      ]
     },
     "execution_count": 21,
     "metadata": {},
     "output_type": "execute_result"
    }
   ],
   "source": [
    "g.get_operations()"
   ]
  },
  {
   "cell_type": "code",
   "execution_count": 22,
   "metadata": {},
   "outputs": [],
   "source": [
    "with tf.Session() as sess:\n",
    "    out = sess.run(sub_g, feed_dict={x:1.57, y:1})"
   ]
  },
  {
   "cell_type": "code",
   "execution_count": 23,
   "metadata": {},
   "outputs": [
    {
     "data": {
      "text/plain": [
       "3.9336"
      ]
     },
     "execution_count": 23,
     "metadata": {},
     "output_type": "execute_result"
    }
   ],
   "source": [
    "out"
   ]
  },
  {
   "cell_type": "code",
   "execution_count": 24,
   "metadata": {
    "collapsed": true
   },
   "outputs": [],
   "source": [
    "sess.close()"
   ]
  },
  {
   "cell_type": "code",
   "execution_count": 25,
   "metadata": {
    "collapsed": true
   },
   "outputs": [],
   "source": [
    "import numpy as np"
   ]
  },
  {
   "cell_type": "code",
   "execution_count": 26,
   "metadata": {
    "collapsed": true
   },
   "outputs": [],
   "source": [
    "def equation(x,y):\n",
    "    result = x**2*y+x*y*x-np.sin(x)\n",
    "    return result"
   ]
  },
  {
   "cell_type": "code",
   "execution_count": 27,
   "metadata": {},
   "outputs": [
    {
     "data": {
      "text/plain": [
       "3.9298003170681657"
      ]
     },
     "execution_count": 27,
     "metadata": {},
     "output_type": "execute_result"
    }
   ],
   "source": [
    "equation(1.57,1)\n"
   ]
  },
  {
   "cell_type": "markdown",
   "metadata": {},
   "source": [
    "## yay"
   ]
  },
  {
   "cell_type": "code",
   "execution_count": null,
   "metadata": {
    "collapsed": true
   },
   "outputs": [],
   "source": []
  }
 ],
 "metadata": {
  "kernelspec": {
   "display_name": "Python 3",
   "language": "python",
   "name": "python3"
  },
  "language_info": {
   "codemirror_mode": {
    "name": "ipython",
    "version": 3
   },
   "file_extension": ".py",
   "mimetype": "text/x-python",
   "name": "python",
   "nbconvert_exporter": "python",
   "pygments_lexer": "ipython3",
   "version": "3.6.3"
  }
 },
 "nbformat": 4,
 "nbformat_minor": 2
}
