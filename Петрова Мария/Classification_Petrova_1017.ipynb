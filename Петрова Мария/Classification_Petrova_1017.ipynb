{
 "cells": [
  {
   "cell_type": "code",
   "execution_count": 19,
   "metadata": {
    "collapsed": true
   },
   "outputs": [],
   "source": [
    "import pandas as pd\n",
    "from sklearn.model_selection import train_test_split\n",
    "from sklearn.metrics import classification_report\n",
    "\n",
    "import tensorflow as tf"
   ]
  },
  {
   "cell_type": "code",
   "execution_count": 2,
   "metadata": {
    "collapsed": true
   },
   "outputs": [],
   "source": [
    "census = pd.read_csv('census_data.csv')"
   ]
  },
  {
   "cell_type": "code",
   "execution_count": 3,
   "metadata": {
    "collapsed": true
   },
   "outputs": [],
   "source": [
    "def label_fix(label):\n",
    "    if label == ' <=50K':\n",
    "        return 0\n",
    "    else:\n",
    "        return 1"
   ]
  },
  {
   "cell_type": "code",
   "execution_count": 4,
   "metadata": {
    "collapsed": true
   },
   "outputs": [],
   "source": [
    "census['income_bracket'] = census['income_bracket'].apply(label_fix)"
   ]
  },
  {
   "cell_type": "code",
   "execution_count": 5,
   "metadata": {},
   "outputs": [
    {
     "data": {
      "text/html": [
       "<div>\n",
       "<style>\n",
       "    .dataframe thead tr:only-child th {\n",
       "        text-align: right;\n",
       "    }\n",
       "\n",
       "    .dataframe thead th {\n",
       "        text-align: left;\n",
       "    }\n",
       "\n",
       "    .dataframe tbody tr th {\n",
       "        vertical-align: top;\n",
       "    }\n",
       "</style>\n",
       "<table border=\"1\" class=\"dataframe\">\n",
       "  <thead>\n",
       "    <tr style=\"text-align: right;\">\n",
       "      <th></th>\n",
       "      <th>age</th>\n",
       "      <th>workclass</th>\n",
       "      <th>education</th>\n",
       "      <th>education_num</th>\n",
       "      <th>marital_status</th>\n",
       "      <th>occupation</th>\n",
       "      <th>relationship</th>\n",
       "      <th>race</th>\n",
       "      <th>gender</th>\n",
       "      <th>capital_gain</th>\n",
       "      <th>capital_loss</th>\n",
       "      <th>hours_per_week</th>\n",
       "      <th>native_country</th>\n",
       "      <th>income_bracket</th>\n",
       "    </tr>\n",
       "  </thead>\n",
       "  <tbody>\n",
       "    <tr>\n",
       "      <th>0</th>\n",
       "      <td>39</td>\n",
       "      <td>State-gov</td>\n",
       "      <td>Bachelors</td>\n",
       "      <td>13</td>\n",
       "      <td>Never-married</td>\n",
       "      <td>Adm-clerical</td>\n",
       "      <td>Not-in-family</td>\n",
       "      <td>White</td>\n",
       "      <td>Male</td>\n",
       "      <td>2174</td>\n",
       "      <td>0</td>\n",
       "      <td>40</td>\n",
       "      <td>United-States</td>\n",
       "      <td>0</td>\n",
       "    </tr>\n",
       "    <tr>\n",
       "      <th>1</th>\n",
       "      <td>50</td>\n",
       "      <td>Self-emp-not-inc</td>\n",
       "      <td>Bachelors</td>\n",
       "      <td>13</td>\n",
       "      <td>Married-civ-spouse</td>\n",
       "      <td>Exec-managerial</td>\n",
       "      <td>Husband</td>\n",
       "      <td>White</td>\n",
       "      <td>Male</td>\n",
       "      <td>0</td>\n",
       "      <td>0</td>\n",
       "      <td>13</td>\n",
       "      <td>United-States</td>\n",
       "      <td>0</td>\n",
       "    </tr>\n",
       "    <tr>\n",
       "      <th>2</th>\n",
       "      <td>38</td>\n",
       "      <td>Private</td>\n",
       "      <td>HS-grad</td>\n",
       "      <td>9</td>\n",
       "      <td>Divorced</td>\n",
       "      <td>Handlers-cleaners</td>\n",
       "      <td>Not-in-family</td>\n",
       "      <td>White</td>\n",
       "      <td>Male</td>\n",
       "      <td>0</td>\n",
       "      <td>0</td>\n",
       "      <td>40</td>\n",
       "      <td>United-States</td>\n",
       "      <td>0</td>\n",
       "    </tr>\n",
       "    <tr>\n",
       "      <th>3</th>\n",
       "      <td>53</td>\n",
       "      <td>Private</td>\n",
       "      <td>11th</td>\n",
       "      <td>7</td>\n",
       "      <td>Married-civ-spouse</td>\n",
       "      <td>Handlers-cleaners</td>\n",
       "      <td>Husband</td>\n",
       "      <td>Black</td>\n",
       "      <td>Male</td>\n",
       "      <td>0</td>\n",
       "      <td>0</td>\n",
       "      <td>40</td>\n",
       "      <td>United-States</td>\n",
       "      <td>0</td>\n",
       "    </tr>\n",
       "    <tr>\n",
       "      <th>4</th>\n",
       "      <td>28</td>\n",
       "      <td>Private</td>\n",
       "      <td>Bachelors</td>\n",
       "      <td>13</td>\n",
       "      <td>Married-civ-spouse</td>\n",
       "      <td>Prof-specialty</td>\n",
       "      <td>Wife</td>\n",
       "      <td>Black</td>\n",
       "      <td>Female</td>\n",
       "      <td>0</td>\n",
       "      <td>0</td>\n",
       "      <td>40</td>\n",
       "      <td>Cuba</td>\n",
       "      <td>0</td>\n",
       "    </tr>\n",
       "  </tbody>\n",
       "</table>\n",
       "</div>"
      ],
      "text/plain": [
       "   age          workclass   education  education_num       marital_status  \\\n",
       "0   39          State-gov   Bachelors             13        Never-married   \n",
       "1   50   Self-emp-not-inc   Bachelors             13   Married-civ-spouse   \n",
       "2   38            Private     HS-grad              9             Divorced   \n",
       "3   53            Private        11th              7   Married-civ-spouse   \n",
       "4   28            Private   Bachelors             13   Married-civ-spouse   \n",
       "\n",
       "           occupation    relationship    race   gender  capital_gain  \\\n",
       "0        Adm-clerical   Not-in-family   White     Male          2174   \n",
       "1     Exec-managerial         Husband   White     Male             0   \n",
       "2   Handlers-cleaners   Not-in-family   White     Male             0   \n",
       "3   Handlers-cleaners         Husband   Black     Male             0   \n",
       "4      Prof-specialty            Wife   Black   Female             0   \n",
       "\n",
       "   capital_loss  hours_per_week  native_country  income_bracket  \n",
       "0             0              40   United-States               0  \n",
       "1             0              13   United-States               0  \n",
       "2             0              40   United-States               0  \n",
       "3             0              40   United-States               0  \n",
       "4             0              40            Cuba               0  "
      ]
     },
     "execution_count": 5,
     "metadata": {},
     "output_type": "execute_result"
    }
   ],
   "source": [
    "census.head()"
   ]
  },
  {
   "cell_type": "code",
   "execution_count": 7,
   "metadata": {
    "collapsed": true
   },
   "outputs": [],
   "source": [
    "X_data = census.drop('income_bracket',axis = 1)\n",
    "y_label = census['income_bracket']"
   ]
  },
  {
   "cell_type": "code",
   "execution_count": 9,
   "metadata": {},
   "outputs": [],
   "source": [
    "X_train, X_test, y_train, y_test = train_test_split(X_data, y_label, test_size=0.3, random_state=101)"
   ]
  },
  {
   "cell_type": "code",
   "execution_count": 11,
   "metadata": {
    "collapsed": true
   },
   "outputs": [],
   "source": [
    "gender = tf.feature_column.categorical_column_with_vocabulary_list(\"gender\",['Female','Male'])"
   ]
  },
  {
   "cell_type": "code",
   "execution_count": 12,
   "metadata": {
    "collapsed": true
   },
   "outputs": [],
   "source": [
    "occupation = tf.feature_column.categorical_column_with_hash_bucket(\"occupation\",\n",
    "hash_bucket_size = 1000)"
   ]
  },
  {
   "cell_type": "code",
   "execution_count": 13,
   "metadata": {
    "collapsed": true
   },
   "outputs": [],
   "source": [
    "marital_status = tf.feature_column.categorical_column_with_hash_bucket(\"marital_status\",\n",
    "hash_bucket_size = 1000)\n",
    "relationship = tf.feature_column.categorical_column_with_hash_bucket(\"relationship\",\n",
    "hash_bucket_size = 1000)\n",
    "education = tf.feature_column.categorical_column_with_hash_bucket(\"education\",\n",
    "hash_bucket_size = 1000)\n",
    "workclass = tf.feature_column.categorical_column_with_hash_bucket(\"workclass\",\n",
    "hash_bucket_size = 1000)\n",
    "native_country = tf.feature_column.categorical_column_with_hash_bucket(\"native_country\",\n",
    "hash_bucket_size = 1000)"
   ]
  },
  {
   "cell_type": "code",
   "execution_count": 14,
   "metadata": {
    "collapsed": true
   },
   "outputs": [],
   "source": [
    "age  = tf.feature_column.numeric_column(\"age\")\n",
    "education_num  = tf.feature_column.numeric_column(\"education_num\")\n",
    "capital_gain  = tf.feature_column.numeric_column(\"capital_gain\")\n",
    "capital_loss  = tf.feature_column.numeric_column(\"capital_loss\")\n",
    "hours_per_week  = tf.feature_column.numeric_column(\"hours_per_week\")"
   ]
  },
  {
   "cell_type": "code",
   "execution_count": 15,
   "metadata": {
    "collapsed": true
   },
   "outputs": [],
   "source": [
    "feat_cols = [gender,occupation,marital_status,relationship,education,workclass,native_country,age,education_num,capital_gain,capital_loss,hours_per_week]"
   ]
  },
  {
   "cell_type": "code",
   "execution_count": 16,
   "metadata": {
    "collapsed": true
   },
   "outputs": [],
   "source": [
    "input_func = tf.estimator.inputs.pandas_input_fn(x=X_train,y=y_train,batch_size = 100,num_epochs = None,shuffle = True)"
   ]
  },
  {
   "cell_type": "code",
   "execution_count": 17,
   "metadata": {},
   "outputs": [
    {
     "name": "stdout",
     "output_type": "stream",
     "text": [
      "INFO:tensorflow:Using default config.\n",
      "WARNING:tensorflow:Using temporary folder as model directory: C:\\Users\\81E4~1\\AppData\\Local\\Temp\\tmp3miwzbk6\n",
      "INFO:tensorflow:Using config: {'_model_dir': 'C:\\\\Users\\\\81E4~1\\\\AppData\\\\Local\\\\Temp\\\\tmp3miwzbk6', '_tf_random_seed': None, '_save_summary_steps': 100, '_save_checkpoints_steps': None, '_save_checkpoints_secs': 600, '_session_config': None, '_keep_checkpoint_max': 5, '_keep_checkpoint_every_n_hours': 10000, '_log_step_count_steps': 100, '_service': None, '_cluster_spec': <tensorflow.python.training.server_lib.ClusterSpec object at 0x00000089C2BEDE48>, '_task_type': 'worker', '_task_id': 0, '_global_id_in_cluster': 0, '_master': '', '_evaluation_master': '', '_is_chief': True, '_num_ps_replicas': 0, '_num_worker_replicas': 1}\n"
     ]
    }
   ],
   "source": [
    "model = tf.estimator.LinearClassifier(feature_columns = feat_cols)"
   ]
  },
  {
   "cell_type": "code",
   "execution_count": 18,
   "metadata": {},
   "outputs": [
    {
     "name": "stdout",
     "output_type": "stream",
     "text": [
      "INFO:tensorflow:Calling model_fn.\n",
      "INFO:tensorflow:Done calling model_fn.\n",
      "INFO:tensorflow:Create CheckpointSaverHook.\n",
      "INFO:tensorflow:Graph was finalized.\n",
      "INFO:tensorflow:Running local_init_op.\n",
      "INFO:tensorflow:Done running local_init_op.\n",
      "INFO:tensorflow:Saving checkpoints for 1 into C:\\Users\\81E4~1\\AppData\\Local\\Temp\\tmp3miwzbk6\\model.ckpt.\n",
      "INFO:tensorflow:loss = 69.3147, step = 1\n",
      "INFO:tensorflow:global_step/sec: 44.3033\n",
      "INFO:tensorflow:loss = 167.165, step = 101 (2.277 sec)\n",
      "INFO:tensorflow:global_step/sec: 55.9412\n",
      "INFO:tensorflow:loss = 279.817, step = 201 (1.796 sec)\n",
      "INFO:tensorflow:global_step/sec: 64.3456\n",
      "INFO:tensorflow:loss = 184.433, step = 301 (1.530 sec)\n",
      "INFO:tensorflow:global_step/sec: 63.6292\n",
      "INFO:tensorflow:loss = 69.1154, step = 401 (1.575 sec)\n",
      "INFO:tensorflow:global_step/sec: 65.1056\n",
      "INFO:tensorflow:loss = 563.787, step = 501 (1.540 sec)\n",
      "INFO:tensorflow:global_step/sec: 59.5758\n",
      "INFO:tensorflow:loss = 331.533, step = 601 (1.679 sec)\n",
      "INFO:tensorflow:global_step/sec: 64.0434\n",
      "INFO:tensorflow:loss = 196.539, step = 701 (1.557 sec)\n",
      "INFO:tensorflow:global_step/sec: 64.2588\n",
      "INFO:tensorflow:loss = 40.7704, step = 801 (1.548 sec)\n",
      "INFO:tensorflow:global_step/sec: 65.6409\n",
      "INFO:tensorflow:loss = 152.628, step = 901 (1.539 sec)\n",
      "INFO:tensorflow:global_step/sec: 58.7406\n",
      "INFO:tensorflow:loss = 39.5935, step = 1001 (1.695 sec)\n",
      "INFO:tensorflow:global_step/sec: 59.7817\n",
      "INFO:tensorflow:loss = 39.2274, step = 1101 (1.685 sec)\n",
      "INFO:tensorflow:global_step/sec: 64.0913\n",
      "INFO:tensorflow:loss = 71.9714, step = 1201 (1.556 sec)\n",
      "INFO:tensorflow:global_step/sec: 68.0144\n",
      "INFO:tensorflow:loss = 317.291, step = 1301 (1.471 sec)\n",
      "INFO:tensorflow:global_step/sec: 61.9031\n",
      "INFO:tensorflow:loss = 61.1521, step = 1401 (1.615 sec)\n",
      "INFO:tensorflow:global_step/sec: 66.2163\n",
      "INFO:tensorflow:loss = 76.8673, step = 1501 (1.510 sec)\n",
      "INFO:tensorflow:global_step/sec: 60.4857\n",
      "INFO:tensorflow:loss = 31.1015, step = 1601 (1.653 sec)\n",
      "INFO:tensorflow:global_step/sec: 55.5473\n",
      "INFO:tensorflow:loss = 173.775, step = 1701 (1.801 sec)\n",
      "INFO:tensorflow:global_step/sec: 62.5053\n",
      "INFO:tensorflow:loss = 81.3255, step = 1801 (1.600 sec)\n",
      "INFO:tensorflow:global_step/sec: 65.1018\n",
      "INFO:tensorflow:loss = 29.8491, step = 1901 (1.521 sec)\n",
      "INFO:tensorflow:global_step/sec: 65.3184\n",
      "INFO:tensorflow:loss = 28.1758, step = 2001 (1.543 sec)\n",
      "INFO:tensorflow:global_step/sec: 57.788\n",
      "INFO:tensorflow:loss = 82.4215, step = 2101 (1.729 sec)\n",
      "INFO:tensorflow:global_step/sec: 56.5963\n",
      "INFO:tensorflow:loss = 107.204, step = 2201 (1.755 sec)\n",
      "INFO:tensorflow:global_step/sec: 58.7828\n",
      "INFO:tensorflow:loss = 241.887, step = 2301 (1.715 sec)\n",
      "INFO:tensorflow:global_step/sec: 59.1209\n",
      "INFO:tensorflow:loss = 173.517, step = 2401 (1.689 sec)\n",
      "INFO:tensorflow:global_step/sec: 59.797\n",
      "INFO:tensorflow:loss = 69.2059, step = 2501 (1.676 sec)\n",
      "INFO:tensorflow:global_step/sec: 64.8164\n",
      "INFO:tensorflow:loss = 76.134, step = 2601 (1.541 sec)\n",
      "INFO:tensorflow:global_step/sec: 63.6123\n",
      "INFO:tensorflow:loss = 52.2678, step = 2701 (1.570 sec)\n",
      "INFO:tensorflow:global_step/sec: 66.523\n",
      "INFO:tensorflow:loss = 48.8115, step = 2801 (1.507 sec)\n",
      "INFO:tensorflow:global_step/sec: 59.2519\n",
      "INFO:tensorflow:loss = 28.6581, step = 2901 (1.688 sec)\n",
      "INFO:tensorflow:global_step/sec: 60.5556\n",
      "INFO:tensorflow:loss = 31.5239, step = 3001 (1.635 sec)\n",
      "INFO:tensorflow:global_step/sec: 67.3575\n",
      "INFO:tensorflow:loss = 125.738, step = 3101 (1.500 sec)\n",
      "INFO:tensorflow:global_step/sec: 59.8318\n",
      "INFO:tensorflow:loss = 29.8137, step = 3201 (1.672 sec)\n",
      "INFO:tensorflow:global_step/sec: 59.1784\n",
      "INFO:tensorflow:loss = 62.5778, step = 3301 (1.682 sec)\n",
      "INFO:tensorflow:global_step/sec: 67.0925\n",
      "INFO:tensorflow:loss = 106.617, step = 3401 (1.482 sec)\n",
      "INFO:tensorflow:global_step/sec: 67.3197\n",
      "INFO:tensorflow:loss = 36.8784, step = 3501 (1.501 sec)\n",
      "INFO:tensorflow:global_step/sec: 60.5718\n",
      "INFO:tensorflow:loss = 27.5937, step = 3601 (1.635 sec)\n",
      "INFO:tensorflow:global_step/sec: 57.8709\n",
      "INFO:tensorflow:loss = 80.3094, step = 3701 (1.748 sec)\n",
      "INFO:tensorflow:global_step/sec: 54.7531\n",
      "INFO:tensorflow:loss = 101.186, step = 3801 (1.830 sec)\n",
      "INFO:tensorflow:global_step/sec: 58.3594\n",
      "INFO:tensorflow:loss = 40.3002, step = 3901 (1.705 sec)\n",
      "INFO:tensorflow:global_step/sec: 62.225\n",
      "INFO:tensorflow:loss = 53.3471, step = 4001 (1.607 sec)\n",
      "INFO:tensorflow:global_step/sec: 60.3371\n",
      "INFO:tensorflow:loss = 41.6265, step = 4101 (1.657 sec)\n",
      "INFO:tensorflow:global_step/sec: 58.1406\n",
      "INFO:tensorflow:loss = 108.19, step = 4201 (1.712 sec)\n",
      "INFO:tensorflow:global_step/sec: 65.3823\n",
      "INFO:tensorflow:loss = 43.2636, step = 4301 (1.521 sec)\n",
      "INFO:tensorflow:global_step/sec: 63.7877\n",
      "INFO:tensorflow:loss = 187.425, step = 4401 (1.580 sec)\n",
      "INFO:tensorflow:global_step/sec: 61.3439\n",
      "INFO:tensorflow:loss = 49.5802, step = 4501 (1.634 sec)\n",
      "INFO:tensorflow:global_step/sec: 64.2196\n",
      "INFO:tensorflow:loss = 56.0766, step = 4601 (1.557 sec)\n",
      "INFO:tensorflow:global_step/sec: 60.4165\n",
      "INFO:tensorflow:loss = 49.6618, step = 4701 (1.652 sec)\n",
      "INFO:tensorflow:global_step/sec: 60.3773\n",
      "INFO:tensorflow:loss = 33.5786, step = 4801 (1.660 sec)\n",
      "INFO:tensorflow:global_step/sec: 57.517\n",
      "INFO:tensorflow:loss = 30.3717, step = 4901 (1.743 sec)\n",
      "INFO:tensorflow:global_step/sec: 65.4738\n",
      "INFO:tensorflow:loss = 58.0019, step = 5001 (1.512 sec)\n",
      "INFO:tensorflow:global_step/sec: 66.519\n",
      "INFO:tensorflow:loss = 25.41, step = 5101 (1.510 sec)\n",
      "INFO:tensorflow:global_step/sec: 65.3917\n",
      "INFO:tensorflow:loss = 77.1736, step = 5201 (1.533 sec)\n",
      "INFO:tensorflow:global_step/sec: 65.3139\n",
      "INFO:tensorflow:loss = 42.2993, step = 5301 (1.515 sec)\n",
      "INFO:tensorflow:global_step/sec: 64.8838\n",
      "INFO:tensorflow:loss = 386.202, step = 5401 (1.554 sec)\n",
      "INFO:tensorflow:global_step/sec: 67.1975\n",
      "INFO:tensorflow:loss = 98.1892, step = 5501 (1.487 sec)\n",
      "INFO:tensorflow:global_step/sec: 65.8383\n",
      "INFO:tensorflow:loss = 18.2456, step = 5601 (1.515 sec)\n",
      "INFO:tensorflow:global_step/sec: 63.7156\n",
      "INFO:tensorflow:loss = 34.6947, step = 5701 (1.581 sec)\n",
      "INFO:tensorflow:global_step/sec: 64.0621\n",
      "INFO:tensorflow:loss = 23.1095, step = 5801 (1.557 sec)\n",
      "INFO:tensorflow:global_step/sec: 62.8485\n",
      "INFO:tensorflow:loss = 53.75, step = 5901 (1.591 sec)\n",
      "INFO:tensorflow:global_step/sec: 59.6507\n",
      "INFO:tensorflow:loss = 45.7397, step = 6001 (1.676 sec)\n",
      "INFO:tensorflow:global_step/sec: 68.1452\n",
      "INFO:tensorflow:loss = 54.0364, step = 6101 (1.467 sec)\n",
      "INFO:tensorflow:global_step/sec: 68.8688\n",
      "INFO:tensorflow:loss = 134.949, step = 6201 (1.452 sec)\n",
      "INFO:tensorflow:global_step/sec: 61.036\n",
      "INFO:tensorflow:loss = 48.932, step = 6301 (1.638 sec)\n",
      "INFO:tensorflow:global_step/sec: 56.8766\n",
      "INFO:tensorflow:loss = 34.7371, step = 6401 (1.758 sec)\n",
      "INFO:tensorflow:global_step/sec: 65.2733\n",
      "INFO:tensorflow:loss = 40.2572, step = 6501 (1.532 sec)\n",
      "INFO:tensorflow:global_step/sec: 64.564\n",
      "INFO:tensorflow:loss = 126.124, step = 6601 (1.533 sec)\n",
      "INFO:tensorflow:global_step/sec: 67.5074\n",
      "INFO:tensorflow:loss = 72.7607, step = 6701 (1.485 sec)\n",
      "INFO:tensorflow:global_step/sec: 65.3645\n",
      "INFO:tensorflow:loss = 38.8433, step = 6801 (1.807 sec)\n",
      "INFO:tensorflow:global_step/sec: 53.0871\n",
      "INFO:tensorflow:loss = 113.66, step = 6901 (1.618 sec)\n",
      "INFO:tensorflow:global_step/sec: 65.3259\n",
      "INFO:tensorflow:loss = 47.0734, step = 7001 (1.515 sec)\n",
      "INFO:tensorflow:global_step/sec: 67.8333\n",
      "INFO:tensorflow:loss = 57.916, step = 7101 (1.490 sec)\n",
      "INFO:tensorflow:global_step/sec: 66.3678\n",
      "INFO:tensorflow:loss = 28.6164, step = 7201 (1.507 sec)\n",
      "INFO:tensorflow:global_step/sec: 62.1111\n",
      "INFO:tensorflow:loss = 29.4264, step = 7301 (1.610 sec)\n",
      "INFO:tensorflow:global_step/sec: 56.4749\n",
      "INFO:tensorflow:loss = 46.9602, step = 7401 (1.763 sec)\n",
      "INFO:tensorflow:global_step/sec: 66.6644\n",
      "INFO:tensorflow:loss = 43.4408, step = 7501 (1.508 sec)\n",
      "INFO:tensorflow:global_step/sec: 63.239\n",
      "INFO:tensorflow:loss = 54.0742, step = 7601 (1.582 sec)\n",
      "INFO:tensorflow:global_step/sec: 64.344\n",
      "INFO:tensorflow:loss = 57.0924, step = 7701 (1.550 sec)\n",
      "INFO:tensorflow:global_step/sec: 61.1561\n",
      "INFO:tensorflow:loss = 35.7378, step = 7801 (1.623 sec)\n",
      "INFO:tensorflow:global_step/sec: 59.5524\n",
      "INFO:tensorflow:loss = 42.0222, step = 7901 (1.695 sec)\n",
      "INFO:tensorflow:global_step/sec: 59.4496\n",
      "INFO:tensorflow:loss = 44.1799, step = 8001 (1.682 sec)\n",
      "INFO:tensorflow:global_step/sec: 55.604\n",
      "INFO:tensorflow:loss = 88.1991, step = 8101 (1.822 sec)\n"
     ]
    },
    {
     "name": "stdout",
     "output_type": "stream",
     "text": [
      "INFO:tensorflow:global_step/sec: 62.2892\n",
      "INFO:tensorflow:loss = 30.3832, step = 8201 (1.581 sec)\n",
      "INFO:tensorflow:global_step/sec: 67.3962\n",
      "INFO:tensorflow:loss = 34.5524, step = 8301 (1.468 sec)\n",
      "INFO:tensorflow:global_step/sec: 61.4546\n",
      "INFO:tensorflow:loss = 27.2325, step = 8401 (1.636 sec)\n",
      "INFO:tensorflow:global_step/sec: 66.6516\n",
      "INFO:tensorflow:loss = 68.8174, step = 8501 (1.492 sec)\n",
      "INFO:tensorflow:global_step/sec: 66.8134\n",
      "INFO:tensorflow:loss = 29.7663, step = 8601 (1.510 sec)\n",
      "INFO:tensorflow:global_step/sec: 66.8626\n",
      "INFO:tensorflow:loss = 36.9325, step = 8701 (1.498 sec)\n",
      "INFO:tensorflow:global_step/sec: 59.4839\n",
      "INFO:tensorflow:loss = 27.9272, step = 8801 (1.681 sec)\n",
      "INFO:tensorflow:global_step/sec: 61.0878\n",
      "INFO:tensorflow:loss = 31.0384, step = 8901 (1.637 sec)\n",
      "INFO:tensorflow:global_step/sec: 66.9105\n",
      "INFO:tensorflow:loss = 48.2007, step = 9001 (1.495 sec)\n",
      "INFO:tensorflow:global_step/sec: 65.2545\n",
      "INFO:tensorflow:loss = 75.0011, step = 9101 (1.536 sec)\n",
      "INFO:tensorflow:global_step/sec: 61.7331\n",
      "INFO:tensorflow:loss = 22.0261, step = 9201 (1.614 sec)\n",
      "INFO:tensorflow:global_step/sec: 58.7599\n",
      "INFO:tensorflow:loss = 61.7876, step = 9301 (1.700 sec)\n",
      "INFO:tensorflow:global_step/sec: 62.5452\n",
      "INFO:tensorflow:loss = 56.0185, step = 9401 (1.607 sec)\n",
      "INFO:tensorflow:global_step/sec: 56.835\n",
      "INFO:tensorflow:loss = 66.318, step = 9501 (1.755 sec)\n",
      "INFO:tensorflow:global_step/sec: 50.6407\n",
      "INFO:tensorflow:loss = 54.4611, step = 9601 (1.968 sec)\n",
      "INFO:tensorflow:global_step/sec: 62.6329\n",
      "INFO:tensorflow:loss = 25.2351, step = 9701 (1.605 sec)\n",
      "INFO:tensorflow:global_step/sec: 64.8867\n",
      "INFO:tensorflow:loss = 73.913, step = 9801 (1.542 sec)\n",
      "INFO:tensorflow:global_step/sec: 63.6961\n",
      "INFO:tensorflow:loss = 41.5515, step = 9901 (1.569 sec)\n",
      "INFO:tensorflow:Saving checkpoints for 10000 into C:\\Users\\81E4~1\\AppData\\Local\\Temp\\tmp3miwzbk6\\model.ckpt.\n",
      "INFO:tensorflow:Loss for final step: 50.0164.\n"
     ]
    },
    {
     "data": {
      "text/plain": [
       "<tensorflow.python.estimator.canned.linear.LinearClassifier at 0x89c8447940>"
      ]
     },
     "execution_count": 18,
     "metadata": {},
     "output_type": "execute_result"
    }
   ],
   "source": [
    "model.train(input_fn = input_func,steps = 10000)"
   ]
  },
  {
   "cell_type": "code",
   "execution_count": 20,
   "metadata": {},
   "outputs": [
    {
     "name": "stdout",
     "output_type": "stream",
     "text": [
      "INFO:tensorflow:Calling model_fn.\n",
      "INFO:tensorflow:Done calling model_fn.\n",
      "INFO:tensorflow:Graph was finalized.\n",
      "INFO:tensorflow:Restoring parameters from C:\\Users\\81E4~1\\AppData\\Local\\Temp\\tmp3miwzbk6\\model.ckpt-10000\n",
      "INFO:tensorflow:Running local_init_op.\n",
      "INFO:tensorflow:Done running local_init_op.\n"
     ]
    }
   ],
   "source": [
    "pred_fn = tf.estimator.inputs.pandas_input_fn(x= X_test,batch_size = len(X_test),shuffle = False)\n",
    "\n",
    "pred_gen = model.predict(input_fn = pred_fn)\n",
    "predictions = list(pred_gen)"
   ]
  },
  {
   "cell_type": "code",
   "execution_count": 21,
   "metadata": {
    "collapsed": true
   },
   "outputs": [],
   "source": [
    "final_preds = [pred['class_ids'][0] for pred in predictions]"
   ]
  },
  {
   "cell_type": "code",
   "execution_count": 22,
   "metadata": {},
   "outputs": [
    {
     "name": "stdout",
     "output_type": "stream",
     "text": [
      "             precision    recall  f1-score   support\n",
      "\n",
      "          0       0.88      0.93      0.91      7436\n",
      "          1       0.72      0.62      0.67      2333\n",
      "\n",
      "avg / total       0.85      0.85      0.85      9769\n",
      "\n"
     ]
    }
   ],
   "source": [
    "print(classification_report(y_test,final_preds))"
   ]
  }
 ],
 "metadata": {
  "kernelspec": {
   "display_name": "Python 3",
   "language": "python",
   "name": "python3"
  },
  "language_info": {
   "codemirror_mode": {
    "name": "ipython",
    "version": 3
   },
   "file_extension": ".py",
   "mimetype": "text/x-python",
   "name": "python",
   "nbconvert_exporter": "python",
   "pygments_lexer": "ipython3",
   "version": "3.6.3"
  }
 },
 "nbformat": 4,
 "nbformat_minor": 2
}
