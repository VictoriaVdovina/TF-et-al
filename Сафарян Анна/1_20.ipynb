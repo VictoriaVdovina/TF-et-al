{
 "cells": [
  {
   "cell_type": "markdown",
   "metadata": {},
   "source": [
    "# Сафарян Анна, 20 вариант"
   ]
  },
  {
   "cell_type": "markdown",
   "metadata": {},
   "source": [
    "## 20. Реализовать справочник инспектора ГИБДД. \n",
    "## Для каждого транспортного средства указаны: \n",
    "    - модель, \n",
    "    - номер, - владелец, \n",
    "    - дата последнего техосмотра, \n",
    "    - значится ли в угоне. \n",
    "##    Обеспечить:\n",
    "        1) поиск по номеру,\n",
    "        2) сортировку по дате техосмотра, \n",
    "        3) поиск по наличию в угоне."
   ]
  },
  {
   "cell_type": "code",
   "execution_count": 2,
   "metadata": {},
   "outputs": [],
   "source": [
    "import datetime"
   ]
  },
  {
   "cell_type": "markdown",
   "metadata": {},
   "source": [
    "Создаём класс автомобилей:"
   ]
  },
  {
   "cell_type": "code",
   "execution_count": 3,
   "metadata": {},
   "outputs": [],
   "source": [
    "class Auto:\n",
    "    autos = [] # список машин\n",
    "    numbers = [] # список номеров машин\n",
    "    def __init__(self, model, number, owner, t_o, hij):\n",
    "        self.model = model \n",
    "        # проверка номера на уникальность\n",
    "        while number in Auto.numbers:\n",
    "            number = input('Номер уже есть в базе! Введите новый: ')\n",
    "            print()\n",
    "        self.number = number\n",
    "        self.owner = owner\n",
    "        d = [int(i) for i in t_o.split('.')] # разбираем строку с датой\n",
    "        self.t_o = datetime.date(d[2], d[1], d[0]) # добавляем в datetime в его формате\n",
    "        self.hij = hij # значится ли в угоне\n",
    "        Auto.autos.append(self)\n",
    "        Auto.numbers.append(number)\n",
    "        \n",
    "    def __str__(self):\n",
    "        return 'Информация об автомобиле:\\nМодель: {}\\nНомер: {}\\nВладелец: {}\\nПоследний техосмотр: {}\\nУгон: {}'.format(self.model, self.number, self.owner, self.t_o.strftime(\"%d.%m.%Y\"), self.hij)"
   ]
  },
  {
   "cell_type": "markdown",
   "metadata": {},
   "source": [
    "Проверка на наличие в базе по номеру:"
   ]
  },
  {
   "cell_type": "code",
   "execution_count": 4,
   "metadata": {},
   "outputs": [],
   "source": [
    "def in_base(num):\n",
    "    if num in Auto.numbers:\n",
    "        print('Автомобиль был найден в базе.')\n",
    "        return True\n",
    "    else:\n",
    "        print('Автомобиль в базе не найден!')\n",
    "        return False"
   ]
  },
  {
   "cell_type": "markdown",
   "metadata": {},
   "source": [
    "1) Поиск по номеру машины:"
   ]
  },
  {
   "cell_type": "code",
   "execution_count": 5,
   "metadata": {},
   "outputs": [],
   "source": [
    "def find_by_number(num):\n",
    "    print('Поиск по номеру: проверка по базе...')\n",
    "    if in_base(num): # если машина есть в базе\n",
    "        num_index = {auto.number:auto for auto in Auto.autos} # составляем словарь {номер: машина}\n",
    "        print(str(num_index.get(num)))\n",
    "        return num_index.get(num) # возвращаем подходящую машину"
   ]
  },
  {
   "cell_type": "markdown",
   "metadata": {},
   "source": [
    "2) Сортировка по дате техосмотра (от нового к старому):\n",
    "Для сортировки переводим datetime в строки формата \"год-месяц-день\" без разделителей -- их и будем сравнивать."
   ]
  },
  {
   "cell_type": "code",
   "execution_count": 6,
   "metadata": {},
   "outputs": [],
   "source": [
    "def sort_by_t_o(autos = Auto.autos):\n",
    "    print('Когда проходил техосмотр:')\n",
    "    dates = {auto:auto.t_o.strftime('%Y%m%d') for auto in autos} # составляем словарь {машина:дата то строкой без разделителей}\n",
    "    sort_autos = sorted(dates, key=dates.get, reverse=True) # сортируем словарь по значениям\n",
    "    for i, sort_auto in enumerate(sort_autos):\n",
    "        print('{}) {}\\n'.format(i+1, str(sort_auto))) # распечатываем отсортированные машины\n",
    "    return sort_autos # возвращаем список отсортированных машин"
   ]
  },
  {
   "cell_type": "markdown",
   "metadata": {},
   "source": [
    "3) Поиск по наличию в угоне:"
   ]
  },
  {
   "cell_type": "code",
   "execution_count": 7,
   "metadata": {},
   "outputs": [],
   "source": [
    "def check_hij(num):\n",
    "    print('Поиск по наличию в угоне: проверка по базе...')\n",
    "    if in_base(num):\n",
    "        hijed = {auto.number: auto.hij for auto in Auto.autos} # словарь \"номер\": наличие в угоне\n",
    "        if hijed[num] == True:\n",
    "            print('Автомобиль был угнан!')\n",
    "        else:\n",
    "            print('Автомобиль находится у владельца.')"
   ]
  },
  {
   "cell_type": "markdown",
   "metadata": {},
   "source": [
    "Создаём несколько объектов:"
   ]
  },
  {
   "cell_type": "code",
   "execution_count": 8,
   "metadata": {},
   "outputs": [
    {
     "name": "stdout",
     "output_type": "stream",
     "text": [
      "Информация об автомобиле:\n",
      "Модель: волга\n",
      "Номер: w12ru\n",
      "Владелец: Иванов Иван Иванович\n",
      "Последний техосмотр: 12.12.2012\n",
      "Угон: False\n"
     ]
    }
   ],
   "source": [
    "am1 = Auto(model='волга', number='w12ru', owner='Иванов Иван Иванович', t_o='12.12.2012', hij=False)\n",
    "print(str(am1))"
   ]
  },
  {
   "cell_type": "code",
   "execution_count": 9,
   "metadata": {},
   "outputs": [
    {
     "name": "stdout",
     "output_type": "stream",
     "text": [
      "Номер уже есть в базе! Введите новый: rt33g\n",
      "\n",
      "Информация об автомобиле:\n",
      "Модель: хонда\n",
      "Номер: rt33g\n",
      "Владелец: Смирнова Марина Владиславовна\n",
      "Последний техосмотр: 31.08.1999\n",
      "Угон: True\n"
     ]
    }
   ],
   "source": [
    "am2 = Auto(model='хонда', number='w12ru', owner='Смирнова Марина Владиславовна', t_o='31.8.1999', hij=True)\n",
    "print(str(am2))"
   ]
  },
  {
   "cell_type": "code",
   "execution_count": 10,
   "metadata": {},
   "outputs": [
    {
     "name": "stdout",
     "output_type": "stream",
     "text": [
      "Информация об автомобиле:\n",
      "Модель: ауди\n",
      "Номер: e48ae\n",
      "Владелец: Пертов Петр Петрович\n",
      "Последний техосмотр: 04.11.2017\n",
      "Угон: True\n"
     ]
    }
   ],
   "source": [
    "am3 = Auto(model='ауди', number='e48ae', owner='Пертов Петр Петрович', t_o='4.11.2017', hij=True)\n",
    "print(str(am3))"
   ]
  },
  {
   "cell_type": "code",
   "execution_count": 11,
   "metadata": {},
   "outputs": [
    {
     "name": "stdout",
     "output_type": "stream",
     "text": [
      "[<__main__.Auto object at 0x0000022C0D39F358>, <__main__.Auto object at 0x0000022C0D39FC50>, <__main__.Auto object at 0x0000022C0D39F9E8>]\n",
      "['w12ru', 'rt33g', 'e48ae']\n"
     ]
    }
   ],
   "source": [
    "print(Auto.autos)\n",
    "print(Auto.numbers)"
   ]
  },
  {
   "cell_type": "markdown",
   "metadata": {},
   "source": [
    "Проверяем поиск по номеру:"
   ]
  },
  {
   "cell_type": "code",
   "execution_count": 12,
   "metadata": {},
   "outputs": [
    {
     "name": "stdout",
     "output_type": "stream",
     "text": [
      "Поиск по номеру: проверка по базе...\n",
      "Автомобиль в базе не найден!\n",
      "\n",
      "Поиск по номеру: проверка по базе...\n",
      "Автомобиль был найден в базе.\n",
      "Информация об автомобиле:\n",
      "Модель: хонда\n",
      "Номер: rt33g\n",
      "Владелец: Смирнова Марина Владиславовна\n",
      "Последний техосмотр: 31.08.1999\n",
      "Угон: True\n"
     ]
    },
    {
     "data": {
      "text/plain": [
       "<__main__.Auto at 0x22c0d39fc50>"
      ]
     },
     "execution_count": 12,
     "metadata": {},
     "output_type": "execute_result"
    }
   ],
   "source": [
    "find_by_number('ef4d')\n",
    "print()\n",
    "find_by_number('rt33g')"
   ]
  },
  {
   "cell_type": "markdown",
   "metadata": {},
   "source": [
    "Проверяем сортировку по дате ТО:"
   ]
  },
  {
   "cell_type": "code",
   "execution_count": 13,
   "metadata": {},
   "outputs": [
    {
     "name": "stdout",
     "output_type": "stream",
     "text": [
      "Когда проходил техосмотр:\n",
      "1) Информация об автомобиле:\n",
      "Модель: ауди\n",
      "Номер: e48ae\n",
      "Владелец: Пертов Петр Петрович\n",
      "Последний техосмотр: 04.11.2017\n",
      "Угон: True\n",
      "\n",
      "2) Информация об автомобиле:\n",
      "Модель: волга\n",
      "Номер: w12ru\n",
      "Владелец: Иванов Иван Иванович\n",
      "Последний техосмотр: 12.12.2012\n",
      "Угон: False\n",
      "\n",
      "3) Информация об автомобиле:\n",
      "Модель: хонда\n",
      "Номер: rt33g\n",
      "Владелец: Смирнова Марина Владиславовна\n",
      "Последний техосмотр: 31.08.1999\n",
      "Угон: True\n",
      "\n"
     ]
    },
    {
     "data": {
      "text/plain": [
       "[<__main__.Auto at 0x22c0d39f9e8>,\n",
       " <__main__.Auto at 0x22c0d39f358>,\n",
       " <__main__.Auto at 0x22c0d39fc50>]"
      ]
     },
     "execution_count": 13,
     "metadata": {},
     "output_type": "execute_result"
    }
   ],
   "source": [
    "sort_by_t_o()"
   ]
  },
  {
   "cell_type": "markdown",
   "metadata": {},
   "source": [
    "Проверяем наличие в угоне:"
   ]
  },
  {
   "cell_type": "code",
   "execution_count": 14,
   "metadata": {},
   "outputs": [
    {
     "name": "stdout",
     "output_type": "stream",
     "text": [
      "Поиск по наличию в угоне: проверка по базе...\n",
      "Автомобиль был найден в базе.\n",
      "Автомобиль находится у владельца.\n",
      "\n",
      "Поиск по наличию в угоне: проверка по базе...\n",
      "Автомобиль был найден в базе.\n",
      "Автомобиль был угнан!\n"
     ]
    }
   ],
   "source": [
    "check_hij('w12ru')\n",
    "print()\n",
    "check_hij('e48ae')"
   ]
  }
 ],
 "metadata": {
  "kernelspec": {
   "display_name": "Python 3",
   "language": "python",
   "name": "python3"
  },
  "language_info": {
   "codemirror_mode": {
    "name": "ipython",
    "version": 3
   },
   "file_extension": ".py",
   "mimetype": "text/x-python",
   "name": "python",
   "nbconvert_exporter": "python",
   "pygments_lexer": "ipython3",
   "version": "3.6.6"
  }
 },
 "nbformat": 4,
 "nbformat_minor": 2
}
