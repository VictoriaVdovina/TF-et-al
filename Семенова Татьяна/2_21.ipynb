{
 "cells": [
  {
   "cell_type": "code",
   "execution_count": 59,
   "metadata": {
    "collapsed": true
   },
   "outputs": [],
   "source": [
    "#Task 21 2m^6 + 5m^6 - 8m^6 - 11m^6\n",
    "class Operation():\n",
    "\n",
    "    def __init__(self, input_nodes = []):\n",
    "        \"Intialize an Operation\"\n",
    "        self.input_nodes = input_nodes\n",
    "        self.output_nodes = []\n",
    "\n",
    "        for node in input_nodes:\n",
    "            node.output_nodes.append(self)\n",
    "\n",
    "        _default_graph.operations.append(self)\n",
    "\n",
    "    def compute(self):\n",
    "\n",
    "        pass"
   ]
  },
  {
   "cell_type": "code",
   "execution_count": 60,
   "metadata": {
    "collapsed": true
   },
   "outputs": [],
   "source": [
    "class add(Operation):\n",
    "\n",
    "    def __init__(self, x, y):\n",
    "\n",
    "        super().__init__([x, y])\n",
    "\n",
    "    def compute(self, x_var, y_var):\n",
    "\n",
    "        self.inputs = [x_var, y_var]\n",
    "        return x_var + y_var\n",
    "\n",
    "class multiply(Operation):\n",
    "\n",
    "    def __init__(self, a, b):\n",
    "\n",
    "        super().__init__([a, b])\n",
    "\n",
    "    def compute(self, a_var, b_var):\n",
    "\n",
    "        self.inputs = [a_var, b_var]\n",
    "        return a_var * b_var\n",
    "\n",
    "class Placeholder():\n",
    "\n",
    "    def __init__(self):\n",
    "\n",
    "        self.output_nodes = []\n",
    "\n",
    "        _default_graph.placeholders.append(self)\n",
    "\n",
    "class Variable():\n",
    "\n",
    "    def __init__(self, initial_value = None):\n",
    "\n",
    "        self.value = initial_value\n",
    "        self.output_nodes = []\n",
    "\n",
    "        _default_graph.variables.append(self)\n",
    "        "
   ]
  },
  {
   "cell_type": "code",
   "execution_count": 61,
   "metadata": {
    "collapsed": true
   },
   "outputs": [],
   "source": [
    "class Graph():\n",
    "\n",
    "    def __init__(self):\n",
    "\n",
    "        self.operations = []\n",
    "        self.placeholders = []\n",
    "        self.variables = []\n",
    "\n",
    "    def set_as_default(self):\n",
    "        \"Sets this Graph instance as the Global Default Graph\"\n",
    "        global _default_graph\n",
    "        _default_graph = self"
   ]
  },
  {
   "cell_type": "code",
   "execution_count": 62,
   "metadata": {
    "collapsed": true
   },
   "outputs": [],
   "source": [
    "g = Graph()\n",
    "g.set_as_default()\n",
    "a = Variable(2)\n",
    "b = Variable(5)\n",
    "c = Variable(-8)\n",
    "d = Variable(-11)\n",
    "\n",
    "m = Placeholder()\n",
    "\n",
    "m1 = multiply(m,m) #m^2\n",
    "m2 = multiply(m1,m) #m^3\n",
    "m3 = multiply(m2,m) #m^4\n",
    "m4 = multiply(m3,m) #m^5\n",
    "m5 = multiply(m4,m) #m^6\n",
    "\n",
    "e = multiply(a,m5) #2m^6\n",
    "f = multiply(b,m5) #5m^6\n",
    "g = add(e,f) #2m^6 + 5m^6\n",
    "h = multiply(c,m5) #-8m^6\n",
    "i = add(g,h) #2m^6 + 5m^6 - 8m^6\n",
    "j = multiply(d,m5) #- 11m^6\n",
    "k = add(i, j) #2m^6 + 5m^6 - 8m^6  - 11m^6\n"
   ]
  },
  {
   "cell_type": "code",
   "execution_count": 63,
   "metadata": {
    "collapsed": true
   },
   "outputs": [],
   "source": [
    "import numpy as np\n",
    "\n",
    "def traverse_postorder(operation):\n",
    "    nodes_postorder = []\n",
    "    def recurse(node):\n",
    "        if isinstance(node, Operation):\n",
    "            for input_node in node.input_nodes:\n",
    "                recurse(input_node)\n",
    "        nodes_postorder.append(node)\n",
    "\n",
    "    recurse(operation)\n",
    "    return nodes_postorder\n",
    "\n",
    "class Session:\n",
    "\n",
    "    def run(self, operation, feed_dict = {}):\n",
    "        \"operation: The operation to compute\"\n",
    "        \"feed_dict: Dictionary mapping placeholders to input values (the data)\"\n",
    "\n",
    "        nodes_postorder = traverse_postorder(operation)\n",
    "\n",
    "        for node in nodes_postorder:\n",
    "\n",
    "            if type(node) == Placeholder:\n",
    "\n",
    "                node.output = feed_dict[node]\n",
    "\n",
    "            elif type(node) == Variable:\n",
    "\n",
    "                node.output = node.value\n",
    "\n",
    "            else: # Operation\n",
    "\n",
    "                node.inputs = [input_node.output for input_node in node.input_nodes]\n",
    "\n",
    "\n",
    "                node.output = node.compute(*node.inputs)\n",
    "\n",
    "            if type(node.output) == list:\n",
    "                node.output = np.array(node.output)\n",
    "\n",
    "        return operation.output\n"
   ]
  },
  {
   "cell_type": "code",
   "execution_count": 64,
   "metadata": {
    "collapsed": true
   },
   "outputs": [],
   "source": [
    "sess = Session()\n",
    "\n",
    "result = sess.run(operation=k,feed_dict={m:[1, -1, 10, 15]})\n"
   ]
  },
  {
   "cell_type": "code",
   "execution_count": 65,
   "metadata": {
    "collapsed": false
   },
   "outputs": [
    {
     "data": {
      "text/plain": [
       "array([       -12,        -12,  -12000000, -136687500])"
      ]
     },
     "execution_count": 65,
     "metadata": {},
     "output_type": "execute_result"
    }
   ],
   "source": [
    "result"
   ]
  },
  {
   "cell_type": "code",
   "execution_count": 66,
   "metadata": {
    "collapsed": false
   },
   "outputs": [
    {
     "data": {
      "text/plain": [
       "-12"
      ]
     },
     "execution_count": 66,
     "metadata": {},
     "output_type": "execute_result"
    }
   ],
   "source": [
    "2*(1*1*1*1*1*1) + 5*(1*1*1*1*1*1) - 8*(1*1*1*1*1*1) - 11*(1*1*1*1*1*1)"
   ]
  },
  {
   "cell_type": "code",
   "execution_count": 67,
   "metadata": {
    "collapsed": false
   },
   "outputs": [
    {
     "data": {
      "text/plain": [
       "-12"
      ]
     },
     "execution_count": 67,
     "metadata": {},
     "output_type": "execute_result"
    }
   ],
   "source": [
    "2*((-1)*(-1)*(-1)*(-1)*(-1)*(-1)) + 5*((-1)*(-1)*(-1)*(-1)*(-1)*(-1)) - 8*((-1)*(-1)*(-1)*(-1)*(-1)*(-1)) - 11*((-1)*(-1)*(-1)*(-1)*(-1)*(-1))"
   ]
  },
  {
   "cell_type": "code",
   "execution_count": 68,
   "metadata": {
    "collapsed": false
   },
   "outputs": [
    {
     "data": {
      "text/plain": [
       "-12000000"
      ]
     },
     "execution_count": 68,
     "metadata": {},
     "output_type": "execute_result"
    }
   ],
   "source": [
    "2*(10*10*10*10*10*10) + 5*(10*10*10*10*10*10) - 8*(10*10*10*10*10*10) - 11*(10*10*10*10*10*10)"
   ]
  },
  {
   "cell_type": "code",
   "execution_count": 57,
   "metadata": {
    "collapsed": false
   },
   "outputs": [
    {
     "data": {
      "text/plain": [
       "-136687500"
      ]
     },
     "execution_count": 57,
     "metadata": {},
     "output_type": "execute_result"
    }
   ],
   "source": [
    "2*(15*15*15*15*15*15) + 5*(15*15*15*15*15*15) - 8*(15*15*15*15*15*15) - 11*(15*15*15*15*15*15)"
   ]
  }
 ],
 "metadata": {
  "kernelspec": {
   "display_name": "Python 3",
   "language": "python",
   "name": "python3"
  },
  "language_info": {
   "codemirror_mode": {
    "name": "ipython",
    "version": 3
   },
   "file_extension": ".py",
   "mimetype": "text/x-python",
   "name": "python",
   "nbconvert_exporter": "python",
   "pygments_lexer": "ipython3",
   "version": "3.5.1"
  }
 },
 "nbformat": 4,
 "nbformat_minor": 0
}
