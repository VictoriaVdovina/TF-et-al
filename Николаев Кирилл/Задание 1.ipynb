{
 "cells": [
  {
   "cell_type": "markdown",
   "metadata": {},
   "source": [
    "## Заданы координаты прямоугольников на плоскости (не более 15). Вывести в отдельных строках номера прямоугольников, образующих группы пересекающихся (каждая группа в одной отдельной строке)."
   ]
  },
  {
   "cell_type": "markdown",
   "metadata": {},
   "source": [
    "### Работу выполнил: Кирилл Николаев, 15ФПЛ"
   ]
  },
  {
   "cell_type": "code",
   "execution_count": 1,
   "metadata": {},
   "outputs": [],
   "source": [
    "import sys, random, math"
   ]
  },
  {
   "cell_type": "code",
   "execution_count": 2,
   "metadata": {},
   "outputs": [
    {
     "name": "stdout",
     "output_type": "stream",
     "text": [
      "Введите количество прямоугольников, не менее двух, но не более пятнадцати: 15\n"
     ]
    }
   ],
   "source": [
    "while True:\n",
    "    try:\n",
    "        num = int(input('Введите количество прямоугольников, не менее двух, но не более пятнадцати: '))\n",
    "        if 1 < num <= 15:\n",
    "            break\n",
    "        else:\n",
    "            print('Не соответствует условию.')\n",
    "    except ValueError:\n",
    "        print('Невозможное количество прямоугольников.')"
   ]
  },
  {
   "cell_type": "markdown",
   "metadata": {},
   "source": [
    "Возьмём 30 условных единиц ширины и длины на прямоугольник: то есть при количестве треугольников 15, поле 450х450, при 8 треугольниках, 240х240, и т.д. При этом пусть размер треугольника будет случайный, длина стороны не более 1/60 от стороны поля (потому что иначе псевдорандом оставляет всего одну группу пересекающихся прямоугольников в итоге, и это непорядок)"
   ]
  },
  {
   "cell_type": "code",
   "execution_count": 70,
   "metadata": {},
   "outputs": [
    {
     "name": "stdout",
     "output_type": "stream",
     "text": [
      "450\n",
      "8\n"
     ]
    }
   ],
   "source": [
    "field = num * 30\n",
    "side = round(num * 0.5) #так как рандом дальше требует int\n",
    "print(field)\n",
    "print(side)"
   ]
  },
  {
   "cell_type": "markdown",
   "metadata": {},
   "source": [
    "Функция для генерации случайного прямоугольника"
   ]
  },
  {
   "cell_type": "code",
   "execution_count": 57,
   "metadata": {},
   "outputs": [],
   "source": [
    "def randomrectangle(): \n",
    "    x10 = random.randrange(field) #координаты точек-середин противположных сторон,\n",
    "    y10 = random.randrange(field)\n",
    "    x20 = random.randrange(field)\n",
    "    y20 = random.randrange(field)\n",
    "    L = random.randrange(side) #длины которых L нам известны\n",
    "    if x10 == x20: #alligned по вертикали\n",
    "        p1 = [x10-0.5*L, y10]\n",
    "        p2 = [x10+0.5*L, y10]\n",
    "        p3 = [x20+0.5*L, y20]\n",
    "        p4 = [x20-0.5*L, y20]\n",
    "    elif y10 == y20: #alligned по горизонтали\n",
    "        p1 = [x10, y10+0.5*L]\n",
    "        p2 = [x20, y10+0.5*L]\n",
    "        p3 = [x20, y10-0.5*L]\n",
    "        p4 = [x10, y10-0.5*L]\n",
    "    else: # allignment'а нет, есть отклонение\n",
    "        m1 = (y20-y10) / (x20-x10) #отклонение одной стороны\n",
    "        m2 = -1 / m1 #отклонение другой стороны\n",
    "        dx = math.sqrt(L**2 / (1 + m2**2)) / 2\n",
    "        dy = m2*dx\n",
    "        p1 = [round(x10+dx,2),round(y10+dy,2)]\n",
    "        p2 = [round(x10-dx,2),round(y10-dy,2)]\n",
    "        p3 = [round(x20+dx,2),round(y20+dy,2)]\n",
    "        p4 = [round(x20-dx,2),round(y20-dy,2)]\n",
    "    corners = [p1,p2,p3,p4]\n",
    "    return corners"
   ]
  },
  {
   "cell_type": "markdown",
   "metadata": {},
   "source": [
    "Создаём алгоритм для сортировки точек по часовой стрелке относительно избранной вершины (в противном случае площадь будет определяться как 0):"
   ]
  },
  {
   "cell_type": "code",
   "execution_count": 58,
   "metadata": {},
   "outputs": [],
   "source": [
    "def makeclockwise(r):\n",
    "    origin = r[0] # исходная точка\n",
    "    refvec = [0, 1] # вектор, направленный вверх, для определения угла\n",
    "    \n",
    "    def clockwiseangle_and_distance(point):\n",
    "        # Вектор между точкой и исходной точкой-вершиной: v = p - o\n",
    "        vector = [point[0]-origin[0], point[1]-origin[1]]\n",
    "        # длина вектора: ||v||\n",
    "        lenvector = math.hypot(vector[0], vector[1])\n",
    "        # если длина - 0, угла нет\n",
    "        if lenvector == 0:\n",
    "            return -math.pi, 0\n",
    "        # нормализуем вектор: v/||v||\n",
    "        normalized = [vector[0]/lenvector, vector[1]/lenvector]\n",
    "        dotprod  = normalized[0]*refvec[0] + normalized[1]*refvec[1]     # x1*x2 + y1*y2\n",
    "        diffprod = refvec[1]*normalized[0] - refvec[0]*normalized[1]     # x1*y2 - y1*x2\n",
    "        angle = math.atan2(diffprod, dotprod)\n",
    "        # отрицательные углы - против часовой стрелки; отнимаем от 2*pi (360 градусов)\n",
    "        if angle < 0:\n",
    "            return 2*math.pi+angle, lenvector\n",
    "        # сначала угол, потому что главный критерий,\n",
    "        # но если угол одинаковый, то с более коротким расстоянием первый.\n",
    "        return angle, lenvector\n",
    "    return sorted(r, key=clockwiseangle_and_distance)"
   ]
  },
  {
   "cell_type": "markdown",
   "metadata": {},
   "source": [
    "Создаём словарь, нумеруя прямоугольники и сортируя точки по часовой стрелке (в противном случае при подстановке вершин в неверном порядке площадь будет получаться равной нулю)"
   ]
  },
  {
   "cell_type": "code",
   "execution_count": 66,
   "metadata": {
    "scrolled": false
   },
   "outputs": [
    {
     "name": "stdout",
     "output_type": "stream",
     "text": [
      "{1: [[223.48, 361.34], [374.48, 194.34], [371.52, 191.66], [220.52, 358.66]], 2: [[78.09, 373.64], [176.09, 188.64], [169.91, 185.36], [71.91, 370.36]], 3: [[199.47, 101.28], [196.53, 100.72], [172.53, 227.72], [175.47, 228.28]], 4: [[22.0, 277.0], [22.0, 277.0], [196.0, 262.0], [196.0, 262.0]], 5: [[223.74, 90.78], [339.26, 365.22], [344.74, 362.78], [218.26, 93.22]], 6: [[441.01, 14.5], [42.01, 12.5], [41.99, 17.5], [440.99, 19.5]], 7: [[32.62, 349.9], [96.38, 391.1], [99.62, 384.9], [29.38, 356.1]], 8: [[101.7, 153.31], [96.3, 150.69], [37.3, 271.69], [42.7, 274.31]], 9: [[210.06, 229.31], [319.94, 442.69], [326.06, 439.31], [203.94, 232.69]], 10: [[239.33, 222.52], [387.67, 243.48], [388.33, 236.52], [238.67, 229.48]], 11: [[423.87, 146.88], [418.13, 145.12], [375.13, 286.12], [380.87, 287.88]], 12: [[180.13, 52.78], [175.87, 47.22], [0.87, 181.22], [5.13, 186.78]], 13: [[389.11, 230.51], [164.11, 181.51], [163.89, 182.49], [388.89, 231.49]], 14: [[15.86, 316.5], [46.86, 263.5], [45.14, 262.5], [14.14, 315.5]], 15: [[60.67, 399.34], [307.67, 276.34], [306.33, 273.66], [59.33, 396.66]]}\n"
     ]
    }
   ],
   "source": [
    "count = 1\n",
    "rectdict = {} #Словарь сгенерированных случайных прямоугольников\n",
    "while count <= num:\n",
    "    rectdict[count]=makeclockwise(randomrectangle())\n",
    "    count += 1\n",
    "print(rectdict)"
   ]
  },
  {
   "cell_type": "markdown",
   "metadata": {},
   "source": [
    "Для определения, лежит ли точка P внутри прямоугольника ABCD, сложим площади треугольников APB, BPC, CPD, APD. Если их сумма равна площади прямоугольника, то точка принадлежит ему, если больше - то не принадлежит. Площадь выпуклого n-угольника при известных координатах вершин определяем как abs((x1y2-y1x2)+(x2y3-y3x2)...+(xny1-ynx1))/2."
   ]
  },
  {
   "cell_type": "code",
   "execution_count": 26,
   "metadata": {},
   "outputs": [],
   "source": [
    "def isPinRectangle(r, P):\n",
    "    areaRectangle = (abs(r[0][0]*r[1][1]-r[0][1]*r[1][0]+r[1][0]*r[2][1]-r[2][0]*r[1][1]+r[2][0]*r[3][1]-r[3][0]*r[2][1]+r[3][0]*r[0][1]-r[0][0]*r[3][1]))/2\n",
    "    ABP = abs(r[0][0]*r[1][1]-r[0][1]*r[1][0]+r[1][0]*P[1]-P[0]*r[1][1]+P[0]*r[0][1]-r[0][0]*P[1])/2\n",
    "    BCP = abs(r[1][0]*r[2][1]-r[1][1]*r[2][0]+r[2][0]*P[1]-P[0]*r[2][1]+P[0]*r[1][1]-r[1][0]*P[1])/2\n",
    "    CDP = abs(r[2][0]*r[3][1]-r[2][1]*r[3][0]+r[3][0]*P[1]-P[0]*r[3][1]+P[0]*r[2][1]-r[2][0]*P[1])/2\n",
    "    DAP = abs(r[3][0]*r[0][1]-r[3][1]*r[0][0]+r[0][0]*P[1]-P[0]*r[0][1]+P[0]*r[3][1]-r[3][0]*P[1])/2\n",
    "    return areaRectangle == ABP + BCP + CDP + DAP"
   ]
  },
  {
   "cell_type": "markdown",
   "metadata": {},
   "source": [
    "Оставляем вероятность простого касания прямоугольников: "
   ]
  },
  {
   "cell_type": "markdown",
   "metadata": {},
   "source": [
    "Взглянем на иллюстрацию https://codechef_shared.s3.amazonaws.com/download/Rectangle%20Intersection.png . Она наглядно демонстрирует возможные случаи пересечения прямоугольников. Видно, что, как правило, действует следующий принцип: если хотя бы одна вершина прямоугольника лежит внутри другого прямоугольника, прямоугольники пересекаются.\n",
    "Этот принцип нарушается последним случаем (крест). Однако здесь заметны четыре (в отличие от предыдущих) пересечения разных сторон друг между другом.\n",
    "Используем функцию для определения, пересекаются ли отрезки."
   ]
  },
  {
   "cell_type": "code",
   "execution_count": 27,
   "metadata": {},
   "outputs": [],
   "source": [
    "def ccw(A,B,C):\n",
    "    return (C[1]-A[1])*(B[0]-A[0]) > (B[1]-A[1])*(C[0]-A[0])\n",
    "def intersect(A,B,C,D):\n",
    "        return ccw(A,C,D) != ccw(B,C,D) and ccw(A,B,C) != ccw(A,B,D)"
   ]
  },
  {
   "cell_type": "markdown",
   "metadata": {},
   "source": [
    "Также нужно учесть, что по алгоритму определения нахождения точек, он будет также идентифицировать те, которые находятся на сторонах. Таким образом, ещё нужно учитывать возможные касания: если одна или две точки, единственные, удовлетворяющие площадному условию, лежат на одной стороне другого прямоугольника, то прямоугольники не пересекаются."
   ]
  },
  {
   "cell_type": "code",
   "execution_count": 28,
   "metadata": {},
   "outputs": [],
   "source": [
    "def distance(a,b):\n",
    "    return math.sqrt((a[0] - b[0])**2 + (a[1] - b[1])**2)\n",
    "\n",
    "def is_between(a,c,b):\n",
    "    return math.isclose((distance(a,c) + distance(c,b)),distance(a,b))"
   ]
  },
  {
   "cell_type": "code",
   "execution_count": 88,
   "metadata": {},
   "outputs": [],
   "source": [
    "def checkintersect(a,b):\n",
    "     #стороны прямоугольников. так, потому что уже по часовой стрелке\n",
    "#    is_between(firstlines[i][0],firstlines[i][1],secondlines[i][0],secondlines[i][1]):\n",
    "    \n",
    "    does = False #флаг пересечения\n",
    "               \n",
    "    count1 = 0\n",
    "    for i in a:\n",
    "        if isPinRectangle(b,i): #нахождение прямоугольника внутри другого целиком\n",
    "            count1 += 1\n",
    "    if count1 == 4:\n",
    "        does = True\n",
    "    \n",
    "    count2 = 0\n",
    "    for i in b:\n",
    "        if isPinRectangle(a,i): #аналогично наоборот\n",
    "            count2 += 1\n",
    "    if count2 == 4:\n",
    "        does = True\n",
    "        \n",
    "    # более сложные случаи\n",
    "    count = 0\n",
    "    flags = 0\n",
    "    flagAB = False\n",
    "    flagBC = False\n",
    "    flagCD = False #флаги касания соответствующих сторон\n",
    "    flagAD = False\n",
    "    for i in b:\n",
    "        if isPinRectangle(a,i):\n",
    "            count += 1\n",
    "            if not (is_between(a[0],i,a[1]) or is_between(a[1],i,a[2]) or is_between(a[2],i,a[3]) or is_between(a[3],i,a[0])):\n",
    "                does = True\n",
    "                break\n",
    "            elif is_between(a[0],i,a[1]) and flagAB == False: #две точки касания на одной стороне\n",
    "                flagAB = True\n",
    "                flags += 1\n",
    "            elif is_between(a[0],i,a[1]) and flagAB == True:\n",
    "                break\n",
    "            elif is_between(a[1],i,a[2]) and flagBC == False:\n",
    "                flagBC = True\n",
    "                flags += 1\n",
    "            elif is_between(a[1],i,a[2]) and flagBC == True:\n",
    "                break\n",
    "            elif is_between(a[2],i,a[3]) and flagCD == False:\n",
    "                flagCD = True\n",
    "                flags += 1\n",
    "            elif is_between(a[2],i,a[3]) and flagCD == True:\n",
    "                break\n",
    "            elif is_between(a[3],i,a[0]) and flagAD == False:\n",
    "                flagAD = True\n",
    "                flags += 1\n",
    "            elif is_between(a[3],i,a[0]) and flagAD == True:\n",
    "                break\n",
    "    if count == flags and count > 1: # Если точки касания принадлежат разным сторонам и их больше одной:\n",
    "        does = True\n",
    "             \n",
    "        \n",
    "    firstlines = [[a[0],a[1]],[a[1],a[2]],[a[2],a[3]],[a[0],a[3]]] #проверка на крест\n",
    "    secondlines = [[b[0],b[1]],[b[1],b[2]],[b[2],b[3]],[b[0],b[3]]]\n",
    "    inter = 0\n",
    "    for i in range(4):\n",
    "        for j in range(4):\n",
    "            if intersect(firstlines[i][0],firstlines[i][1],secondlines[j][0],secondlines[j][1]):\n",
    "                inter += 1\n",
    "    if inter == 4:\n",
    "        does = True\n",
    "    return does"
   ]
  },
  {
   "cell_type": "code",
   "execution_count": 89,
   "metadata": {},
   "outputs": [
    {
     "name": "stdout",
     "output_type": "stream",
     "text": [
      "True\n"
     ]
    }
   ],
   "source": [
    "#Проверим возможные случаи, отрицательные и обозначенные в вышепродемонстрированном чертеже. Пересечение углом:\n",
    "a = [[1,1],[1,3],[3,3],[3,1]]\n",
    "b = [[2,2],[2,4],[5,4],[5,2]]\n",
    "\n",
    "print(checkintersect(a, b))"
   ]
  },
  {
   "cell_type": "code",
   "execution_count": 90,
   "metadata": {},
   "outputs": [
    {
     "name": "stdout",
     "output_type": "stream",
     "text": [
      "True\n"
     ]
    }
   ],
   "source": [
    "#Пересечение с совпадающими частями сторон (не на схеме)\n",
    "a = [[1,1],[1,3],[3,3],[3,1]]\n",
    "b = [[2,1],[2,3],[5,3],[5,1]]\n",
    "\n",
    "print(checkintersect(a, b))"
   ]
  },
  {
   "cell_type": "code",
   "execution_count": 91,
   "metadata": {},
   "outputs": [
    {
     "name": "stdout",
     "output_type": "stream",
     "text": [
      "True\n"
     ]
    }
   ],
   "source": [
    "#Пересечение частью\n",
    "a = [[1,1],[1,4],[5,4],[5,1]]\n",
    "b = [[3,2],[3,3],[7,3],[7,2]]\n",
    "\n",
    "print(checkintersect(a, b))"
   ]
  },
  {
   "cell_type": "code",
   "execution_count": 92,
   "metadata": {
    "scrolled": true
   },
   "outputs": [
    {
     "name": "stdout",
     "output_type": "stream",
     "text": [
      "True\n"
     ]
    }
   ],
   "source": [
    "#Полное нахождение внутри\n",
    "a = [[1,1],[1,4],[6,4],[6,1]]\n",
    "b = [[2,2],[2,3],[5,3],[5,2]]\n",
    "\n",
    "print(checkintersect(a, b))"
   ]
  },
  {
   "cell_type": "code",
   "execution_count": 93,
   "metadata": {},
   "outputs": [
    {
     "name": "stdout",
     "output_type": "stream",
     "text": [
      "True\n"
     ]
    }
   ],
   "source": [
    "#Полное нахождение внутри при принадлежности сторон\n",
    "a = [[1,1],[1,3],[4,3],[4,1]]\n",
    "b = [[2,1],[2,3],[3,3],[3,1]]\n",
    "\n",
    "print(checkintersect(a, b))"
   ]
  },
  {
   "cell_type": "code",
   "execution_count": 94,
   "metadata": {},
   "outputs": [
    {
     "name": "stdout",
     "output_type": "stream",
     "text": [
      "False\n"
     ]
    }
   ],
   "source": [
    "#Касание одной точкой\n",
    "a = [[1,1],[1,4],[5,4],[5,1]]\n",
    "b = [[5,4],[5,6],[6,6],[6,4]]\n",
    "\n",
    "print(checkintersect(a, b))"
   ]
  },
  {
   "cell_type": "code",
   "execution_count": 95,
   "metadata": {},
   "outputs": [
    {
     "name": "stdout",
     "output_type": "stream",
     "text": [
      "False\n"
     ]
    }
   ],
   "source": [
    "#Совпадающая часть стороны\n",
    "\n",
    "a = [[1,1],[1,4],[5,4],[5,1]]\n",
    "b = [[5,2],[5,3],[7,3],[7,2]]\n",
    "\n",
    "print(checkintersect(a, b))"
   ]
  },
  {
   "cell_type": "code",
   "execution_count": 96,
   "metadata": {
    "scrolled": false
   },
   "outputs": [
    {
     "name": "stdout",
     "output_type": "stream",
     "text": [
      "True\n"
     ]
    }
   ],
   "source": [
    "#Крестообразное пересечение\n",
    "\n",
    "a = [[2,1],[2,5],[4,5],[4,1]]\n",
    "b = [[1,2],[1,3],[5,3],[5,2]]\n",
    "\n",
    "print(checkintersect(a, b))"
   ]
  },
  {
   "cell_type": "markdown",
   "metadata": {},
   "source": [
    "Вернёмся к нашей работе. Определим все пары пересекающихся прямоугольников"
   ]
  },
  {
   "cell_type": "code",
   "execution_count": 42,
   "metadata": {
    "scrolled": true
   },
   "outputs": [
    {
     "name": "stdout",
     "output_type": "stream",
     "text": [
      "[1, 2, 3, 4, 5, 6, 7, 8, 9, 10, 11, 12, 13, 14, 15]\n",
      "[[1, 2], [1, 3], [1, 4], [1, 5], [1, 6], [1, 7], [1, 8], [1, 9], [1, 10], [1, 11], [1, 12], [1, 13], [1, 14], [1, 15], [2, 3], [2, 4], [2, 5], [2, 6], [2, 7], [2, 8], [2, 9], [2, 10], [2, 11], [2, 12], [2, 13], [2, 14], [2, 15], [3, 4], [3, 5], [3, 6], [3, 7], [3, 8], [3, 9], [3, 10], [3, 11], [3, 12], [3, 13], [3, 14], [3, 15], [4, 5], [4, 6], [4, 7], [4, 8], [4, 9], [4, 10], [4, 11], [4, 12], [4, 13], [4, 14], [4, 15], [5, 6], [5, 7], [5, 8], [5, 9], [5, 10], [5, 11], [5, 12], [5, 13], [5, 14], [5, 15], [6, 7], [6, 8], [6, 9], [6, 10], [6, 11], [6, 12], [6, 13], [6, 14], [6, 15], [7, 8], [7, 9], [7, 10], [7, 11], [7, 12], [7, 13], [7, 14], [7, 15], [8, 9], [8, 10], [8, 11], [8, 12], [8, 13], [8, 14], [8, 15], [9, 10], [9, 11], [9, 12], [9, 13], [9, 14], [9, 15], [10, 11], [10, 12], [10, 13], [10, 14], [10, 15], [11, 12], [11, 13], [11, 14], [11, 15], [12, 13], [12, 14], [12, 15], [13, 14], [13, 15], [14, 15]]\n"
     ]
    }
   ],
   "source": [
    "from itertools import combinations #Все возможные попарные сочетания прямоугольников по индексам\n",
    "    \n",
    "numslist = [i+1 for i in range(num)]\n",
    "print(numslist)\n",
    "pairs = [list(i) for i in combinations(numslist,2)]\n",
    "print(pairs)"
   ]
  },
  {
   "cell_type": "markdown",
   "metadata": {},
   "source": [
    "Пересекающиеся пары наших прямоугольников"
   ]
  },
  {
   "cell_type": "code",
   "execution_count": 67,
   "metadata": {
    "scrolled": true
   },
   "outputs": [
    {
     "name": "stdout",
     "output_type": "stream",
     "text": [
      "[[1, 5], [1, 9], [1, 10], [1, 13], [1, 15], [2, 4], [3, 13], [4, 14], [5, 10], [5, 13], [5, 15], [7, 15], [9, 15]]\n"
     ]
    }
   ],
   "source": [
    "interlist = []\n",
    "for i in pairs:\n",
    "    if checkintersect(rectdict[i[0]],rectdict[i[1]]):\n",
    "        interlist.append(i)\n",
    "print(interlist)"
   ]
  },
  {
   "cell_type": "code",
   "execution_count": 61,
   "metadata": {},
   "outputs": [],
   "source": [
    "interlist = sorted([sorted(x) for x in interlist])\n",
    "# по идее эта операция не нужна, так как на предыдущем шаге всё уже \n",
    "# выстроено в нужном порядке, но производим его для очистки совести"
   ]
  },
  {
   "cell_type": "markdown",
   "metadata": {},
   "source": [
    "Объединим списки с общими элементами:"
   ]
  },
  {
   "cell_type": "code",
   "execution_count": 69,
   "metadata": {},
   "outputs": [
    {
     "name": "stdout",
     "output_type": "stream",
     "text": [
      "[[1, 3, 5, 7, 9, 10, 13, 15], [2, 4, 14]]\n"
     ]
    }
   ],
   "source": [
    "from collections import defaultdict\n",
    "\n",
    "def connected_components(lists):\n",
    "    neighbors = defaultdict(set)\n",
    "    seen = set()\n",
    "    for each in lists:\n",
    "        for item in each:\n",
    "            neighbors[item].update(each)\n",
    "    def component(node, neighbors=neighbors, seen=seen, see=seen.add):\n",
    "        nodes = set([node])\n",
    "        next_node = nodes.pop\n",
    "        while nodes:\n",
    "            node = next_node()\n",
    "            see(node)\n",
    "            nodes |= neighbors[node] - seen\n",
    "            yield node\n",
    "    for node in neighbors:\n",
    "        if node not in seen:\n",
    "            yield sorted(component(node))\n",
    "\n",
    "grouped = list(connected_components(interlist))\n",
    "print(grouped)"
   ]
  },
  {
   "cell_type": "markdown",
   "metadata": {},
   "source": [
    "Спустя энное число попыток наконец-то сгенерировалось пятнадцать прямоугольников, разбившихся на РАЗНЫЕ группы по пересечению. Выведем данные группы построчно."
   ]
  },
  {
   "cell_type": "code",
   "execution_count": 74,
   "metadata": {},
   "outputs": [
    {
     "name": "stdout",
     "output_type": "stream",
     "text": [
      "Пересекающаяся группа номер 1: прямоугольники номер 1, 3, 5, 7, 9, 10, 13, 15;\n",
      "Пересекающаяся группа номер 2: прямоугольники номер 2, 4, 14;\n",
      "Ни с чем не пересекающиеся прямоугольники: 6, 8, 11, 12.\n"
     ]
    }
   ],
   "source": [
    "number = 1\n",
    "for i in grouped:\n",
    "    print('Пересекающаяся группа номер '+str(number)+': прямоугольники номер '+', '.join([str(m) for m in i])+';')\n",
    "    number += 1\n",
    "from itertools import chain\n",
    "unnested = list(chain.from_iterable(grouped))\n",
    "if unnested == numslist:\n",
    "    print('Ни с чем не пересекающиеся прямоугольники отсутствуют.')\n",
    "else:\n",
    "    solitary = [i for i in numslist if i not in unnested]\n",
    "    print('Ни с чем не пересекающиеся прямоугольники: '+', '.join([str(d) for d in solitary])+'.')"
   ]
  }
 ],
 "metadata": {
  "kernelspec": {
   "display_name": "Python 3",
   "language": "python",
   "name": "python3"
  },
  "language_info": {
   "codemirror_mode": {
    "name": "ipython",
    "version": 3
   },
   "file_extension": ".py",
   "mimetype": "text/x-python",
   "name": "python",
   "nbconvert_exporter": "python",
   "pygments_lexer": "ipython3",
   "version": "3.6.5"
  }
 },
 "nbformat": 4,
 "nbformat_minor": 2
}
