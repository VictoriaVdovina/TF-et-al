{
 "cells": [
  {
   "cell_type": "code",
   "execution_count": 1,
   "metadata": {},
   "outputs": [
    {
     "name": "stdout",
     "output_type": "stream",
     "text": [
      "[(-7-46j), (43-46j), (-76-47j), (71-79j), (-13+21j), (70-4j), (-16+29j), (31+9j), (94-32j), (36-88j)] \n",
      "\n",
      "[(24.698178070456937, (-13+21j), 2), (32.280024783137947, (31+9j), 1), (33.120990323358392, (-16+29j), 2), (46.529560496527367, (-7-46j), 3), (62.968245965724662, (43-46j), 4), (70.114192571832419, (70-4j), 4), (89.358827208060418, (-76-47j), 3), (95.078914592037705, (36-88j), 4), (99.297532698451278, (94-32j), 4), (106.21675950620975, (71-79j), 4)] \n",
      "\n",
      "(-4.84151476414316e+17-4.3306689800524e+16j)\n"
     ]
    }
   ],
   "source": [
    "import numpy as np             \n",
    "import numpy.random as npr\n",
    "\n",
    "\n",
    "def setofcomplex (N):       \n",
    "    z=[]                        \n",
    "    for i in range(N):          \n",
    "        a=npr.randint(-100,100)\n",
    "        b=npr.randint(-100,100)\n",
    "        c=complex(a,b) \n",
    "        z.append(c)\n",
    "    return z\n",
    "\n",
    "def tasks (z, N):             \n",
    "    modnumb=[]\n",
    "    mod=[]\n",
    "    for i in range(N):\n",
    "        x=z[i].real\n",
    "        y=z[i].imag\n",
    "        mod.append(np.sqrt(z[i].real**2+z[i].imag**2)) \n",
    "        if ((x>=0) and (y>=0)):                        \n",
    "            sq=1\n",
    "        if ((x<=0) and (y>=0)):\n",
    "            sq=2\n",
    "        if ((x<=0) and (y<=0)):\n",
    "            sq=3\n",
    "        if ((x>=0) and (y<=0)):\n",
    "            sq=4\n",
    "        modnumb.append((mod[i],z[i],sq))                \n",
    "    modnumb.sort()                                   \n",
    "    return modnumb\n",
    "\n",
    "def product (z, N):                                     \n",
    "    c=[]\n",
    "    c.append(z[0]*z[1])\n",
    "    for i in range(1,N-1):\n",
    "        c.append(c[i-1]*z[i+1])\n",
    "    return c\n",
    "\n",
    "\n",
    "\n",
    "N=10                                                  \n",
    "\n",
    "a=setofcomplex(N)                                       \n",
    "print(a, '\\n')\n",
    "\n",
    "b=tasks(a,N)                                           \n",
    "print(b, '\\n')\n",
    "\n",
    "c=product(a,N)                                          \n",
    "print(c[N-2])"
   ]
  },
  {
   "cell_type": "code",
   "execution_count": null,
   "metadata": {
    "collapsed": true
   },
   "outputs": [],
   "source": []
  }
 ],
 "metadata": {
  "kernelspec": {
   "display_name": "Python 3",
   "language": "python",
   "name": "python3"
  },
  "language_info": {
   "codemirror_mode": {
    "name": "ipython",
    "version": 3
   },
   "file_extension": ".py",
   "mimetype": "text/x-python",
   "name": "python",
   "nbconvert_exporter": "python",
   "pygments_lexer": "ipython3",
   "version": "3.6.5"
  }
 },
 "nbformat": 4,
 "nbformat_minor": 2
}
