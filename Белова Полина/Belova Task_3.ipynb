{
 "cells": [
  {
   "cell_type": "code",
   "execution_count": 1,
   "metadata": {},
   "outputs": [],
   "source": [
    "#24.\t3h^2 +5hc – 7c^2 + 12h^2 – 6hc\n",
    "import tensorflow as tf"
   ]
  },
  {
   "cell_type": "code",
   "execution_count": 2,
   "metadata": {},
   "outputs": [],
   "source": [
    "a = tf.constant(3.0)\n",
    "b = tf.constant(5.0)\n",
    "c = tf.constant(-7.0)\n",
    "d = tf.constant(12.0)\n",
    "e = tf.constant(-6.0)"
   ]
  },
  {
   "cell_type": "code",
   "execution_count": 3,
   "metadata": {},
   "outputs": [
    {
     "data": {
      "text/plain": [
       "<tensorflow.python.framework.ops.Graph at 0xa92f01a208>"
      ]
     },
     "execution_count": 3,
     "metadata": {},
     "output_type": "execute_result"
    }
   ],
   "source": [
    "tf.get_default_graph()"
   ]
  },
  {
   "cell_type": "code",
   "execution_count": 4,
   "metadata": {},
   "outputs": [
    {
     "name": "stdout",
     "output_type": "stream",
     "text": [
      "<tensorflow.python.framework.ops.Graph object at 0x000000A92F00BF60>\n"
     ]
    }
   ],
   "source": [
    "g = tf.Graph()\n",
    "print(g)"
   ]
  },
  {
   "cell_type": "code",
   "execution_count": 5,
   "metadata": {},
   "outputs": [],
   "source": [
    "xh = tf.placeholder(tf.float32)\n",
    "xc = tf.placeholder(tf.float32)"
   ]
  },
  {
   "cell_type": "code",
   "execution_count": 6,
   "metadata": {},
   "outputs": [],
   "source": [
    "xh1 = tf.multiply(xh,xh)\n",
    "\n",
    "xc1 = tf.multiply(xc,xc)\n",
    "\n",
    "a1 = tf.multiply(xh,xc)\n",
    "\n",
    "a2 = tf.multiply(a,xh1)\n",
    "\n",
    "a3 = tf.multiply(b,a1)\n",
    "\n",
    "a4 = tf.multiply(c,xc1)\n",
    "\n",
    "a5 = tf.multiply(d,xh1)\n",
    "\n",
    "a6 = tf.multiply(e,a1)\n",
    "\n",
    "s1 = tf.add(a2, a3)\n",
    "\n",
    "s2 = tf.add(s1, a4)\n",
    "\n",
    "s3 = tf.add(s2, a5)\n",
    "\n",
    "s4 = tf.add(s3, a6)"
   ]
  },
  {
   "cell_type": "code",
   "execution_count": 7,
   "metadata": {},
   "outputs": [],
   "source": [
    "sess = tf.InteractiveSession()"
   ]
  },
  {
   "cell_type": "code",
   "execution_count": 8,
   "metadata": {},
   "outputs": [
    {
     "name": "stdout",
     "output_type": "stream",
     "text": [
      "51.0\n"
     ]
    }
   ],
   "source": [
    "result = sess.run(s4, feed_dict={xh:2, xc:1})\n",
    "print(result)"
   ]
  },
  {
   "cell_type": "code",
   "execution_count": 9,
   "metadata": {},
   "outputs": [
    {
     "name": "stdout",
     "output_type": "stream",
     "text": [
      "-45.0\n"
     ]
    }
   ],
   "source": [
    "result2 = sess.run(s4, feed_dict={xh:-1, xc:3})\n",
    "print(result2)"
   ]
  },
  {
   "cell_type": "code",
   "execution_count": 10,
   "metadata": {},
   "outputs": [
    {
     "data": {
      "text/plain": [
       "51"
      ]
     },
     "execution_count": 10,
     "metadata": {},
     "output_type": "execute_result"
    }
   ],
   "source": [
    "import math\n",
    "xh=2\n",
    "xc=1\n",
    "result1=(3*(xh**2))+(5*xh*xc)+(-7*(xc**2))+(12*(xh**2))+(-6*xh*xc)\n",
    "result1"
   ]
  },
  {
   "cell_type": "code",
   "execution_count": 11,
   "metadata": {},
   "outputs": [
    {
     "data": {
      "text/plain": [
       "-45"
      ]
     },
     "execution_count": 11,
     "metadata": {},
     "output_type": "execute_result"
    }
   ],
   "source": [
    "import math\n",
    "xh=-1\n",
    "xc=3\n",
    "result22=(3*(xh**2))+(5*xh*xc)+(-7*(xc**2))+(12*(xh**2))+(-6*xh*xc)\n",
    "result22"
   ]
  },
  {
   "cell_type": "code",
   "execution_count": 12,
   "metadata": {},
   "outputs": [],
   "source": [
    "sess.close()"
   ]
  },
  {
   "cell_type": "code",
   "execution_count": null,
   "metadata": {},
   "outputs": [],
   "source": []
  }
 ],
 "metadata": {
  "kernelspec": {
   "display_name": "Python 3",
   "language": "python",
   "name": "python3"
  },
  "language_info": {
   "codemirror_mode": {
    "name": "ipython",
    "version": 3
   },
   "file_extension": ".py",
   "mimetype": "text/x-python",
   "name": "python",
   "nbconvert_exporter": "python",
   "pygments_lexer": "ipython3",
   "version": "3.6.6"
  }
 },
 "nbformat": 4,
 "nbformat_minor": 2
}
