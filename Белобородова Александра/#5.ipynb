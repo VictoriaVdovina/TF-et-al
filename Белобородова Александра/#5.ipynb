{
 "cells": [
  {
   "cell_type": "markdown",
   "metadata": {
    "collapsed": true
   },
   "source": [
    "# Classification Exercise"
   ]
  },
  {
   "cell_type": "markdown",
   "metadata": {},
   "source": [
    "We'll be working with some California Census Data, we'll be trying to use various features of an individual to predict what class of income they belogn in (>50k or <=50k). \n",
    "\n",
    "Here is some information about the data:"
   ]
  },
  {
   "cell_type": "markdown",
   "metadata": {},
   "source": [
    "<table>\n",
    "<thead>\n",
    "<tr>\n",
    "<th>Column Name</th>\n",
    "<th>Type</th>\n",
    "<th>Description</th>\n",
    "</tr>\n",
    "</thead>\n",
    "<tbody>\n",
    "<tr>\n",
    "<td>age</td>\n",
    "<td>Continuous</td>\n",
    "<td>The age of the individual</td>\n",
    "</tr>\n",
    "<tr>\n",
    "<td>workclass</td>\n",
    "<td>Categorical</td>\n",
    "<td>The type of employer the  individual has (government,  military, private, etc.).</td>\n",
    "</tr>\n",
    "<tr>\n",
    "<td>fnlwgt</td>\n",
    "<td>Continuous</td>\n",
    "<td>The number of people the census  takers believe that observation  represents (sample weight). This  variable will not be used.</td>\n",
    "</tr>\n",
    "<tr>\n",
    "<td>education</td>\n",
    "<td>Categorical</td>\n",
    "<td>The highest level of education  achieved for that individual.</td>\n",
    "</tr>\n",
    "<tr>\n",
    "<td>education_num</td>\n",
    "<td>Continuous</td>\n",
    "<td>The highest level of education in  numerical form.</td>\n",
    "</tr>\n",
    "<tr>\n",
    "<td>marital_status</td>\n",
    "<td>Categorical</td>\n",
    "<td>Marital status of the individual.</td>\n",
    "</tr>\n",
    "<tr>\n",
    "<td>occupation</td>\n",
    "<td>Categorical</td>\n",
    "<td>The occupation of the individual.</td>\n",
    "</tr>\n",
    "<tr>\n",
    "<td>relationship</td>\n",
    "<td>Categorical</td>\n",
    "<td>Wife, Own-child, Husband,  Not-in-family, Other-relative,  Unmarried.</td>\n",
    "</tr>\n",
    "<tr>\n",
    "<td>race</td>\n",
    "<td>Categorical</td>\n",
    "<td>White, Asian-Pac-Islander,  Amer-Indian-Eskimo, Other, Black.</td>\n",
    "</tr>\n",
    "<tr>\n",
    "<td>gender</td>\n",
    "<td>Categorical</td>\n",
    "<td>Female, Male.</td>\n",
    "</tr>\n",
    "<tr>\n",
    "<td>capital_gain</td>\n",
    "<td>Continuous</td>\n",
    "<td>Capital gains recorded.</td>\n",
    "</tr>\n",
    "<tr>\n",
    "<td>capital_loss</td>\n",
    "<td>Continuous</td>\n",
    "<td>Capital Losses recorded.</td>\n",
    "</tr>\n",
    "<tr>\n",
    "<td>hours_per_week</td>\n",
    "<td>Continuous</td>\n",
    "<td>Hours worked per week.</td>\n",
    "</tr>\n",
    "<tr>\n",
    "<td>native_country</td>\n",
    "<td>Categorical</td>\n",
    "<td>Country of origin of the  individual.</td>\n",
    "</tr>\n",
    "<tr>\n",
    "<td>income</td>\n",
    "<td>Categorical</td>\n",
    "<td>\"&gt;50K\" or \"&lt;=50K\", meaning  whether the person makes more  than \\$50,000 annually.</td>\n",
    "</tr>\n",
    "</tbody>\n",
    "</table>"
   ]
  },
  {
   "cell_type": "markdown",
   "metadata": {},
   "source": [
    "## Follow the Directions in Bold. If you get stuck, check out the solutions lecture."
   ]
  },
  {
   "cell_type": "markdown",
   "metadata": {},
   "source": [
    "### THE DATA"
   ]
  },
  {
   "cell_type": "markdown",
   "metadata": {},
   "source": [
    "** Read in the census_data.csv data with pandas**"
   ]
  },
  {
   "cell_type": "code",
   "execution_count": 17,
   "metadata": {
    "collapsed": true
   },
   "outputs": [],
   "source": [
    "import pandas as pd\n",
    "import numpy as np"
   ]
  },
  {
   "cell_type": "code",
   "execution_count": 46,
   "metadata": {
    "collapsed": true
   },
   "outputs": [],
   "source": [
    "df = pd.read_csv('census_data.csv')"
   ]
  },
  {
   "cell_type": "code",
   "execution_count": 47,
   "metadata": {},
   "outputs": [
    {
     "data": {
      "text/html": [
       "<div>\n",
       "<style scoped>\n",
       "    .dataframe tbody tr th:only-of-type {\n",
       "        vertical-align: middle;\n",
       "    }\n",
       "\n",
       "    .dataframe tbody tr th {\n",
       "        vertical-align: top;\n",
       "    }\n",
       "\n",
       "    .dataframe thead th {\n",
       "        text-align: right;\n",
       "    }\n",
       "</style>\n",
       "<table border=\"1\" class=\"dataframe\">\n",
       "  <thead>\n",
       "    <tr style=\"text-align: right;\">\n",
       "      <th></th>\n",
       "      <th>age</th>\n",
       "      <th>workclass</th>\n",
       "      <th>education</th>\n",
       "      <th>education_num</th>\n",
       "      <th>marital_status</th>\n",
       "      <th>occupation</th>\n",
       "      <th>relationship</th>\n",
       "      <th>race</th>\n",
       "      <th>gender</th>\n",
       "      <th>capital_gain</th>\n",
       "      <th>capital_loss</th>\n",
       "      <th>hours_per_week</th>\n",
       "      <th>native_country</th>\n",
       "      <th>income_bracket</th>\n",
       "    </tr>\n",
       "  </thead>\n",
       "  <tbody>\n",
       "    <tr>\n",
       "      <th>0</th>\n",
       "      <td>39</td>\n",
       "      <td>State-gov</td>\n",
       "      <td>Bachelors</td>\n",
       "      <td>13</td>\n",
       "      <td>Never-married</td>\n",
       "      <td>Adm-clerical</td>\n",
       "      <td>Not-in-family</td>\n",
       "      <td>White</td>\n",
       "      <td>Male</td>\n",
       "      <td>2174</td>\n",
       "      <td>0</td>\n",
       "      <td>40</td>\n",
       "      <td>United-States</td>\n",
       "      <td>&lt;=50K</td>\n",
       "    </tr>\n",
       "    <tr>\n",
       "      <th>1</th>\n",
       "      <td>50</td>\n",
       "      <td>Self-emp-not-inc</td>\n",
       "      <td>Bachelors</td>\n",
       "      <td>13</td>\n",
       "      <td>Married-civ-spouse</td>\n",
       "      <td>Exec-managerial</td>\n",
       "      <td>Husband</td>\n",
       "      <td>White</td>\n",
       "      <td>Male</td>\n",
       "      <td>0</td>\n",
       "      <td>0</td>\n",
       "      <td>13</td>\n",
       "      <td>United-States</td>\n",
       "      <td>&lt;=50K</td>\n",
       "    </tr>\n",
       "    <tr>\n",
       "      <th>2</th>\n",
       "      <td>38</td>\n",
       "      <td>Private</td>\n",
       "      <td>HS-grad</td>\n",
       "      <td>9</td>\n",
       "      <td>Divorced</td>\n",
       "      <td>Handlers-cleaners</td>\n",
       "      <td>Not-in-family</td>\n",
       "      <td>White</td>\n",
       "      <td>Male</td>\n",
       "      <td>0</td>\n",
       "      <td>0</td>\n",
       "      <td>40</td>\n",
       "      <td>United-States</td>\n",
       "      <td>&lt;=50K</td>\n",
       "    </tr>\n",
       "    <tr>\n",
       "      <th>3</th>\n",
       "      <td>53</td>\n",
       "      <td>Private</td>\n",
       "      <td>11th</td>\n",
       "      <td>7</td>\n",
       "      <td>Married-civ-spouse</td>\n",
       "      <td>Handlers-cleaners</td>\n",
       "      <td>Husband</td>\n",
       "      <td>Black</td>\n",
       "      <td>Male</td>\n",
       "      <td>0</td>\n",
       "      <td>0</td>\n",
       "      <td>40</td>\n",
       "      <td>United-States</td>\n",
       "      <td>&lt;=50K</td>\n",
       "    </tr>\n",
       "    <tr>\n",
       "      <th>4</th>\n",
       "      <td>28</td>\n",
       "      <td>Private</td>\n",
       "      <td>Bachelors</td>\n",
       "      <td>13</td>\n",
       "      <td>Married-civ-spouse</td>\n",
       "      <td>Prof-specialty</td>\n",
       "      <td>Wife</td>\n",
       "      <td>Black</td>\n",
       "      <td>Female</td>\n",
       "      <td>0</td>\n",
       "      <td>0</td>\n",
       "      <td>40</td>\n",
       "      <td>Cuba</td>\n",
       "      <td>&lt;=50K</td>\n",
       "    </tr>\n",
       "  </tbody>\n",
       "</table>\n",
       "</div>"
      ],
      "text/plain": [
       "   age          workclass   education  education_num       marital_status  \\\n",
       "0   39          State-gov   Bachelors             13        Never-married   \n",
       "1   50   Self-emp-not-inc   Bachelors             13   Married-civ-spouse   \n",
       "2   38            Private     HS-grad              9             Divorced   \n",
       "3   53            Private        11th              7   Married-civ-spouse   \n",
       "4   28            Private   Bachelors             13   Married-civ-spouse   \n",
       "\n",
       "           occupation    relationship    race   gender  capital_gain  \\\n",
       "0        Adm-clerical   Not-in-family   White     Male          2174   \n",
       "1     Exec-managerial         Husband   White     Male             0   \n",
       "2   Handlers-cleaners   Not-in-family   White     Male             0   \n",
       "3   Handlers-cleaners         Husband   Black     Male             0   \n",
       "4      Prof-specialty            Wife   Black   Female             0   \n",
       "\n",
       "   capital_loss  hours_per_week  native_country income_bracket  \n",
       "0             0              40   United-States          <=50K  \n",
       "1             0              13   United-States          <=50K  \n",
       "2             0              40   United-States          <=50K  \n",
       "3             0              40   United-States          <=50K  \n",
       "4             0              40            Cuba          <=50K  "
      ]
     },
     "execution_count": 47,
     "metadata": {},
     "output_type": "execute_result"
    }
   ],
   "source": [
    "df.head()"
   ]
  },
  {
   "cell_type": "markdown",
   "metadata": {},
   "source": [
    "** TensorFlow won't be able to understand strings as labels, you'll need to use pandas .apply() method to apply a custom function that converts them to 0s and 1s. This might be hard if you aren't very familiar with pandas, so feel free to take a peek at the solutions for this part.**\n",
    "\n",
    "** Convert the Label column to 0s and 1s instead of strings.**"
   ]
  },
  {
   "cell_type": "code",
   "execution_count": 48,
   "metadata": {},
   "outputs": [
    {
     "data": {
      "text/plain": [
       "array([' <=50K', ' >50K'], dtype=object)"
      ]
     },
     "execution_count": 48,
     "metadata": {},
     "output_type": "execute_result"
    }
   ],
   "source": [
    "df['income_bracket'].unique()"
   ]
  },
  {
   "cell_type": "code",
   "execution_count": 49,
   "metadata": {
    "collapsed": true
   },
   "outputs": [],
   "source": [
    "df['income_bracket'] = np.array(df['income_bracket']==' >50K').astype(int)"
   ]
  },
  {
   "cell_type": "code",
   "execution_count": 50,
   "metadata": {},
   "outputs": [
    {
     "data": {
      "text/html": [
       "<div>\n",
       "<style scoped>\n",
       "    .dataframe tbody tr th:only-of-type {\n",
       "        vertical-align: middle;\n",
       "    }\n",
       "\n",
       "    .dataframe tbody tr th {\n",
       "        vertical-align: top;\n",
       "    }\n",
       "\n",
       "    .dataframe thead th {\n",
       "        text-align: right;\n",
       "    }\n",
       "</style>\n",
       "<table border=\"1\" class=\"dataframe\">\n",
       "  <thead>\n",
       "    <tr style=\"text-align: right;\">\n",
       "      <th></th>\n",
       "      <th>age</th>\n",
       "      <th>workclass</th>\n",
       "      <th>education</th>\n",
       "      <th>education_num</th>\n",
       "      <th>marital_status</th>\n",
       "      <th>occupation</th>\n",
       "      <th>relationship</th>\n",
       "      <th>race</th>\n",
       "      <th>gender</th>\n",
       "      <th>capital_gain</th>\n",
       "      <th>capital_loss</th>\n",
       "      <th>hours_per_week</th>\n",
       "      <th>native_country</th>\n",
       "      <th>income_bracket</th>\n",
       "    </tr>\n",
       "  </thead>\n",
       "  <tbody>\n",
       "    <tr>\n",
       "      <th>0</th>\n",
       "      <td>39</td>\n",
       "      <td>State-gov</td>\n",
       "      <td>Bachelors</td>\n",
       "      <td>13</td>\n",
       "      <td>Never-married</td>\n",
       "      <td>Adm-clerical</td>\n",
       "      <td>Not-in-family</td>\n",
       "      <td>White</td>\n",
       "      <td>Male</td>\n",
       "      <td>2174</td>\n",
       "      <td>0</td>\n",
       "      <td>40</td>\n",
       "      <td>United-States</td>\n",
       "      <td>0</td>\n",
       "    </tr>\n",
       "    <tr>\n",
       "      <th>1</th>\n",
       "      <td>50</td>\n",
       "      <td>Self-emp-not-inc</td>\n",
       "      <td>Bachelors</td>\n",
       "      <td>13</td>\n",
       "      <td>Married-civ-spouse</td>\n",
       "      <td>Exec-managerial</td>\n",
       "      <td>Husband</td>\n",
       "      <td>White</td>\n",
       "      <td>Male</td>\n",
       "      <td>0</td>\n",
       "      <td>0</td>\n",
       "      <td>13</td>\n",
       "      <td>United-States</td>\n",
       "      <td>0</td>\n",
       "    </tr>\n",
       "    <tr>\n",
       "      <th>2</th>\n",
       "      <td>38</td>\n",
       "      <td>Private</td>\n",
       "      <td>HS-grad</td>\n",
       "      <td>9</td>\n",
       "      <td>Divorced</td>\n",
       "      <td>Handlers-cleaners</td>\n",
       "      <td>Not-in-family</td>\n",
       "      <td>White</td>\n",
       "      <td>Male</td>\n",
       "      <td>0</td>\n",
       "      <td>0</td>\n",
       "      <td>40</td>\n",
       "      <td>United-States</td>\n",
       "      <td>0</td>\n",
       "    </tr>\n",
       "    <tr>\n",
       "      <th>3</th>\n",
       "      <td>53</td>\n",
       "      <td>Private</td>\n",
       "      <td>11th</td>\n",
       "      <td>7</td>\n",
       "      <td>Married-civ-spouse</td>\n",
       "      <td>Handlers-cleaners</td>\n",
       "      <td>Husband</td>\n",
       "      <td>Black</td>\n",
       "      <td>Male</td>\n",
       "      <td>0</td>\n",
       "      <td>0</td>\n",
       "      <td>40</td>\n",
       "      <td>United-States</td>\n",
       "      <td>0</td>\n",
       "    </tr>\n",
       "    <tr>\n",
       "      <th>4</th>\n",
       "      <td>28</td>\n",
       "      <td>Private</td>\n",
       "      <td>Bachelors</td>\n",
       "      <td>13</td>\n",
       "      <td>Married-civ-spouse</td>\n",
       "      <td>Prof-specialty</td>\n",
       "      <td>Wife</td>\n",
       "      <td>Black</td>\n",
       "      <td>Female</td>\n",
       "      <td>0</td>\n",
       "      <td>0</td>\n",
       "      <td>40</td>\n",
       "      <td>Cuba</td>\n",
       "      <td>0</td>\n",
       "    </tr>\n",
       "  </tbody>\n",
       "</table>\n",
       "</div>"
      ],
      "text/plain": [
       "   age          workclass   education  education_num       marital_status  \\\n",
       "0   39          State-gov   Bachelors             13        Never-married   \n",
       "1   50   Self-emp-not-inc   Bachelors             13   Married-civ-spouse   \n",
       "2   38            Private     HS-grad              9             Divorced   \n",
       "3   53            Private        11th              7   Married-civ-spouse   \n",
       "4   28            Private   Bachelors             13   Married-civ-spouse   \n",
       "\n",
       "           occupation    relationship    race   gender  capital_gain  \\\n",
       "0        Adm-clerical   Not-in-family   White     Male          2174   \n",
       "1     Exec-managerial         Husband   White     Male             0   \n",
       "2   Handlers-cleaners   Not-in-family   White     Male             0   \n",
       "3   Handlers-cleaners         Husband   Black     Male             0   \n",
       "4      Prof-specialty            Wife   Black   Female             0   \n",
       "\n",
       "   capital_loss  hours_per_week  native_country  income_bracket  \n",
       "0             0              40   United-States               0  \n",
       "1             0              13   United-States               0  \n",
       "2             0              40   United-States               0  \n",
       "3             0              40   United-States               0  \n",
       "4             0              40            Cuba               0  "
      ]
     },
     "execution_count": 50,
     "metadata": {},
     "output_type": "execute_result"
    }
   ],
   "source": [
    "df.head()"
   ]
  },
  {
   "cell_type": "code",
   "execution_count": 51,
   "metadata": {},
   "outputs": [
    {
     "data": {
      "text/html": [
       "<div>\n",
       "<style scoped>\n",
       "    .dataframe tbody tr th:only-of-type {\n",
       "        vertical-align: middle;\n",
       "    }\n",
       "\n",
       "    .dataframe tbody tr th {\n",
       "        vertical-align: top;\n",
       "    }\n",
       "\n",
       "    .dataframe thead th {\n",
       "        text-align: right;\n",
       "    }\n",
       "</style>\n",
       "<table border=\"1\" class=\"dataframe\">\n",
       "  <thead>\n",
       "    <tr style=\"text-align: right;\">\n",
       "      <th></th>\n",
       "      <th>age</th>\n",
       "      <th>education_num</th>\n",
       "      <th>capital_gain</th>\n",
       "      <th>capital_loss</th>\n",
       "      <th>hours_per_week</th>\n",
       "      <th>income_bracket</th>\n",
       "    </tr>\n",
       "  </thead>\n",
       "  <tbody>\n",
       "    <tr>\n",
       "      <th>count</th>\n",
       "      <td>32561.000000</td>\n",
       "      <td>32561.000000</td>\n",
       "      <td>32561.000000</td>\n",
       "      <td>32561.000000</td>\n",
       "      <td>32561.000000</td>\n",
       "      <td>32561.000000</td>\n",
       "    </tr>\n",
       "    <tr>\n",
       "      <th>mean</th>\n",
       "      <td>38.581647</td>\n",
       "      <td>10.080679</td>\n",
       "      <td>1077.648844</td>\n",
       "      <td>87.303830</td>\n",
       "      <td>40.437456</td>\n",
       "      <td>0.240810</td>\n",
       "    </tr>\n",
       "    <tr>\n",
       "      <th>std</th>\n",
       "      <td>13.640433</td>\n",
       "      <td>2.572720</td>\n",
       "      <td>7385.292085</td>\n",
       "      <td>402.960219</td>\n",
       "      <td>12.347429</td>\n",
       "      <td>0.427581</td>\n",
       "    </tr>\n",
       "    <tr>\n",
       "      <th>min</th>\n",
       "      <td>17.000000</td>\n",
       "      <td>1.000000</td>\n",
       "      <td>0.000000</td>\n",
       "      <td>0.000000</td>\n",
       "      <td>1.000000</td>\n",
       "      <td>0.000000</td>\n",
       "    </tr>\n",
       "    <tr>\n",
       "      <th>25%</th>\n",
       "      <td>28.000000</td>\n",
       "      <td>9.000000</td>\n",
       "      <td>0.000000</td>\n",
       "      <td>0.000000</td>\n",
       "      <td>40.000000</td>\n",
       "      <td>0.000000</td>\n",
       "    </tr>\n",
       "    <tr>\n",
       "      <th>50%</th>\n",
       "      <td>37.000000</td>\n",
       "      <td>10.000000</td>\n",
       "      <td>0.000000</td>\n",
       "      <td>0.000000</td>\n",
       "      <td>40.000000</td>\n",
       "      <td>0.000000</td>\n",
       "    </tr>\n",
       "    <tr>\n",
       "      <th>75%</th>\n",
       "      <td>48.000000</td>\n",
       "      <td>12.000000</td>\n",
       "      <td>0.000000</td>\n",
       "      <td>0.000000</td>\n",
       "      <td>45.000000</td>\n",
       "      <td>0.000000</td>\n",
       "    </tr>\n",
       "    <tr>\n",
       "      <th>max</th>\n",
       "      <td>90.000000</td>\n",
       "      <td>16.000000</td>\n",
       "      <td>99999.000000</td>\n",
       "      <td>4356.000000</td>\n",
       "      <td>99.000000</td>\n",
       "      <td>1.000000</td>\n",
       "    </tr>\n",
       "  </tbody>\n",
       "</table>\n",
       "</div>"
      ],
      "text/plain": [
       "                age  education_num  capital_gain  capital_loss  \\\n",
       "count  32561.000000   32561.000000  32561.000000  32561.000000   \n",
       "mean      38.581647      10.080679   1077.648844     87.303830   \n",
       "std       13.640433       2.572720   7385.292085    402.960219   \n",
       "min       17.000000       1.000000      0.000000      0.000000   \n",
       "25%       28.000000       9.000000      0.000000      0.000000   \n",
       "50%       37.000000      10.000000      0.000000      0.000000   \n",
       "75%       48.000000      12.000000      0.000000      0.000000   \n",
       "max       90.000000      16.000000  99999.000000   4356.000000   \n",
       "\n",
       "       hours_per_week  income_bracket  \n",
       "count    32561.000000    32561.000000  \n",
       "mean        40.437456        0.240810  \n",
       "std         12.347429        0.427581  \n",
       "min          1.000000        0.000000  \n",
       "25%         40.000000        0.000000  \n",
       "50%         40.000000        0.000000  \n",
       "75%         45.000000        0.000000  \n",
       "max         99.000000        1.000000  "
      ]
     },
     "execution_count": 51,
     "metadata": {},
     "output_type": "execute_result"
    }
   ],
   "source": [
    "df.describe()"
   ]
  },
  {
   "cell_type": "markdown",
   "metadata": {},
   "source": [
    "### Perform a Train Test Split on the Data"
   ]
  },
  {
   "cell_type": "code",
   "execution_count": 52,
   "metadata": {
    "collapsed": true
   },
   "outputs": [],
   "source": [
    "from sklearn import model_selection\n",
    "from sklearn.model_selection import train_test_split"
   ]
  },
  {
   "cell_type": "code",
   "execution_count": 53,
   "metadata": {
    "collapsed": true
   },
   "outputs": [],
   "source": [
    "X = df.drop('income_bracket',axis=1)\n",
    "y = df['income_bracket']"
   ]
  },
  {
   "cell_type": "code",
   "execution_count": 54,
   "metadata": {
    "collapsed": true
   },
   "outputs": [],
   "source": [
    "X_train, X_test, y_train, y_test = model_selection.train_test_split(X, y, test_size=0.3, random_state=101)"
   ]
  },
  {
   "cell_type": "code",
   "execution_count": 55,
   "metadata": {},
   "outputs": [
    {
     "name": "stdout",
     "output_type": "stream",
     "text": [
      "(22792, 13)\n",
      "(9769, 13)\n"
     ]
    }
   ],
   "source": [
    "print(X_train.shape)\n",
    "print(X_test.shape)"
   ]
  },
  {
   "cell_type": "markdown",
   "metadata": {},
   "source": [
    "### Create the Feature Columns for tf.esitmator\n",
    "\n",
    "** Take note of categorical vs continuous values! **"
   ]
  },
  {
   "cell_type": "code",
   "execution_count": 56,
   "metadata": {},
   "outputs": [
    {
     "data": {
      "text/plain": [
       "Index(['age', 'workclass', 'education', 'education_num', 'marital_status',\n",
       "       'occupation', 'relationship', 'race', 'gender', 'capital_gain',\n",
       "       'capital_loss', 'hours_per_week', 'native_country', 'income_bracket'],\n",
       "      dtype='object')"
      ]
     },
     "execution_count": 56,
     "metadata": {},
     "output_type": "execute_result"
    }
   ],
   "source": [
    "df.columns"
   ]
  },
  {
   "cell_type": "code",
   "execution_count": 57,
   "metadata": {},
   "outputs": [
    {
     "data": {
      "text/html": [
       "<div>\n",
       "<style scoped>\n",
       "    .dataframe tbody tr th:only-of-type {\n",
       "        vertical-align: middle;\n",
       "    }\n",
       "\n",
       "    .dataframe tbody tr th {\n",
       "        vertical-align: top;\n",
       "    }\n",
       "\n",
       "    .dataframe thead th {\n",
       "        text-align: right;\n",
       "    }\n",
       "</style>\n",
       "<table border=\"1\" class=\"dataframe\">\n",
       "  <thead>\n",
       "    <tr style=\"text-align: right;\">\n",
       "      <th></th>\n",
       "      <th>count</th>\n",
       "      <th>unique</th>\n",
       "      <th>top</th>\n",
       "      <th>freq</th>\n",
       "    </tr>\n",
       "  </thead>\n",
       "  <tbody>\n",
       "    <tr>\n",
       "      <th>age</th>\n",
       "      <td>32561</td>\n",
       "      <td>73</td>\n",
       "      <td>36</td>\n",
       "      <td>898</td>\n",
       "    </tr>\n",
       "    <tr>\n",
       "      <th>workclass</th>\n",
       "      <td>32561</td>\n",
       "      <td>9</td>\n",
       "      <td>Private</td>\n",
       "      <td>22696</td>\n",
       "    </tr>\n",
       "    <tr>\n",
       "      <th>education</th>\n",
       "      <td>32561</td>\n",
       "      <td>16</td>\n",
       "      <td>HS-grad</td>\n",
       "      <td>10501</td>\n",
       "    </tr>\n",
       "    <tr>\n",
       "      <th>education_num</th>\n",
       "      <td>32561</td>\n",
       "      <td>16</td>\n",
       "      <td>9</td>\n",
       "      <td>10501</td>\n",
       "    </tr>\n",
       "    <tr>\n",
       "      <th>marital_status</th>\n",
       "      <td>32561</td>\n",
       "      <td>7</td>\n",
       "      <td>Married-civ-spouse</td>\n",
       "      <td>14976</td>\n",
       "    </tr>\n",
       "    <tr>\n",
       "      <th>occupation</th>\n",
       "      <td>32561</td>\n",
       "      <td>15</td>\n",
       "      <td>Prof-specialty</td>\n",
       "      <td>4140</td>\n",
       "    </tr>\n",
       "    <tr>\n",
       "      <th>relationship</th>\n",
       "      <td>32561</td>\n",
       "      <td>6</td>\n",
       "      <td>Husband</td>\n",
       "      <td>13193</td>\n",
       "    </tr>\n",
       "    <tr>\n",
       "      <th>race</th>\n",
       "      <td>32561</td>\n",
       "      <td>5</td>\n",
       "      <td>White</td>\n",
       "      <td>27816</td>\n",
       "    </tr>\n",
       "    <tr>\n",
       "      <th>gender</th>\n",
       "      <td>32561</td>\n",
       "      <td>2</td>\n",
       "      <td>Male</td>\n",
       "      <td>21790</td>\n",
       "    </tr>\n",
       "    <tr>\n",
       "      <th>capital_gain</th>\n",
       "      <td>32561</td>\n",
       "      <td>119</td>\n",
       "      <td>0</td>\n",
       "      <td>29849</td>\n",
       "    </tr>\n",
       "    <tr>\n",
       "      <th>capital_loss</th>\n",
       "      <td>32561</td>\n",
       "      <td>92</td>\n",
       "      <td>0</td>\n",
       "      <td>31042</td>\n",
       "    </tr>\n",
       "    <tr>\n",
       "      <th>hours_per_week</th>\n",
       "      <td>32561</td>\n",
       "      <td>94</td>\n",
       "      <td>40</td>\n",
       "      <td>15217</td>\n",
       "    </tr>\n",
       "    <tr>\n",
       "      <th>native_country</th>\n",
       "      <td>32561</td>\n",
       "      <td>42</td>\n",
       "      <td>United-States</td>\n",
       "      <td>29170</td>\n",
       "    </tr>\n",
       "    <tr>\n",
       "      <th>income_bracket</th>\n",
       "      <td>32561</td>\n",
       "      <td>2</td>\n",
       "      <td>0</td>\n",
       "      <td>24720</td>\n",
       "    </tr>\n",
       "  </tbody>\n",
       "</table>\n",
       "</div>"
      ],
      "text/plain": [
       "                count unique                  top   freq\n",
       "age             32561     73                   36    898\n",
       "workclass       32561      9              Private  22696\n",
       "education       32561     16              HS-grad  10501\n",
       "education_num   32561     16                    9  10501\n",
       "marital_status  32561      7   Married-civ-spouse  14976\n",
       "occupation      32561     15       Prof-specialty   4140\n",
       "relationship    32561      6              Husband  13193\n",
       "race            32561      5                White  27816\n",
       "gender          32561      2                 Male  21790\n",
       "capital_gain    32561    119                    0  29849\n",
       "capital_loss    32561     92                    0  31042\n",
       "hours_per_week  32561     94                   40  15217\n",
       "native_country  32561     42        United-States  29170\n",
       "income_bracket  32561      2                    0  24720"
      ]
     },
     "execution_count": 57,
     "metadata": {},
     "output_type": "execute_result"
    }
   ],
   "source": [
    "df.astype('object').describe().transpose()"
   ]
  },
  {
   "cell_type": "markdown",
   "metadata": {},
   "source": [
    "** Import Tensorflow **"
   ]
  },
  {
   "cell_type": "code",
   "execution_count": 58,
   "metadata": {},
   "outputs": [],
   "source": [
    "import tensorflow as tf"
   ]
  },
  {
   "cell_type": "markdown",
   "metadata": {
    "collapsed": true
   },
   "source": [
    "** Create the tf.feature_columns for the categorical values. Use vocabulary lists or just use hash buckets. **"
   ]
  },
  {
   "cell_type": "code",
   "execution_count": 59,
   "metadata": {},
   "outputs": [],
   "source": [
    "cat_cols =[]\n",
    "for col in ['workclass', 'education', 'marital_status', 'occupation', 'relationship', 'race', 'gender', 'native_country']:\n",
    "    cat_cols.append(tf.feature_column.categorical_column_with_hash_bucket(col, hash_bucket_size=df[col].unique().size))"
   ]
  },
  {
   "cell_type": "code",
   "execution_count": 60,
   "metadata": {},
   "outputs": [
    {
     "data": {
      "text/plain": [
       "[_HashedCategoricalColumn(key='workclass', hash_bucket_size=9, dtype=tf.string),\n",
       " _HashedCategoricalColumn(key='education', hash_bucket_size=16, dtype=tf.string),\n",
       " _HashedCategoricalColumn(key='marital_status', hash_bucket_size=7, dtype=tf.string),\n",
       " _HashedCategoricalColumn(key='occupation', hash_bucket_size=15, dtype=tf.string),\n",
       " _HashedCategoricalColumn(key='relationship', hash_bucket_size=6, dtype=tf.string),\n",
       " _HashedCategoricalColumn(key='race', hash_bucket_size=5, dtype=tf.string),\n",
       " _HashedCategoricalColumn(key='gender', hash_bucket_size=2, dtype=tf.string),\n",
       " _HashedCategoricalColumn(key='native_country', hash_bucket_size=42, dtype=tf.string)]"
      ]
     },
     "execution_count": 60,
     "metadata": {},
     "output_type": "execute_result"
    }
   ],
   "source": [
    "cat_cols"
   ]
  },
  {
   "cell_type": "markdown",
   "metadata": {},
   "source": [
    "** Create the continuous feature_columns for the continuous values using numeric_column **"
   ]
  },
  {
   "cell_type": "code",
   "execution_count": 61,
   "metadata": {
    "collapsed": true
   },
   "outputs": [],
   "source": [
    "num_cols = []\n",
    "for col in ['age', 'education_num', 'capital_gain', 'capital_loss', 'hours_per_week']:\n",
    "    num_cols.append(tf.feature_column.numeric_column(col))"
   ]
  },
  {
   "cell_type": "markdown",
   "metadata": {},
   "source": [
    "** Put all these variables into a single list with the variable name feat_cols **"
   ]
  },
  {
   "cell_type": "code",
   "execution_count": 62,
   "metadata": {},
   "outputs": [
    {
     "data": {
      "text/plain": [
       "[_HashedCategoricalColumn(key='workclass', hash_bucket_size=9, dtype=tf.string),\n",
       " _HashedCategoricalColumn(key='education', hash_bucket_size=16, dtype=tf.string),\n",
       " _HashedCategoricalColumn(key='marital_status', hash_bucket_size=7, dtype=tf.string),\n",
       " _HashedCategoricalColumn(key='occupation', hash_bucket_size=15, dtype=tf.string),\n",
       " _HashedCategoricalColumn(key='relationship', hash_bucket_size=6, dtype=tf.string),\n",
       " _HashedCategoricalColumn(key='race', hash_bucket_size=5, dtype=tf.string),\n",
       " _HashedCategoricalColumn(key='gender', hash_bucket_size=2, dtype=tf.string),\n",
       " _HashedCategoricalColumn(key='native_country', hash_bucket_size=42, dtype=tf.string),\n",
       " _NumericColumn(key='age', shape=(1,), default_value=None, dtype=tf.float32, normalizer_fn=None),\n",
       " _NumericColumn(key='education_num', shape=(1,), default_value=None, dtype=tf.float32, normalizer_fn=None),\n",
       " _NumericColumn(key='capital_gain', shape=(1,), default_value=None, dtype=tf.float32, normalizer_fn=None),\n",
       " _NumericColumn(key='capital_loss', shape=(1,), default_value=None, dtype=tf.float32, normalizer_fn=None),\n",
       " _NumericColumn(key='hours_per_week', shape=(1,), default_value=None, dtype=tf.float32, normalizer_fn=None)]"
      ]
     },
     "execution_count": 62,
     "metadata": {},
     "output_type": "execute_result"
    }
   ],
   "source": [
    "feat_cols=cat_cols+num_cols\n",
    "feat_cols"
   ]
  },
  {
   "cell_type": "markdown",
   "metadata": {},
   "source": [
    "### Create Input Function\n",
    "\n",
    "** Batch_size is up to you. But do make sure to shuffle!**"
   ]
  },
  {
   "cell_type": "code",
   "execution_count": 97,
   "metadata": {
    "collapsed": true
   },
   "outputs": [],
   "source": [
    "input_func = tf.estimator.inputs.pandas_input_fn(x=X_train, y=y_train, batch_size=10, num_epochs=1000, shuffle=True)"
   ]
  },
  {
   "cell_type": "markdown",
   "metadata": {},
   "source": [
    "#### Create your model with tf.estimator\n",
    "\n",
    "**Create a LinearClassifier.(If you want to use a DNNClassifier, keep in mind you'll need to create embedded columns out of the cateogrical feature that use strings, check out the previous lecture on this for more info.)**"
   ]
  },
  {
   "cell_type": "code",
   "execution_count": 98,
   "metadata": {},
   "outputs": [
    {
     "name": "stdout",
     "output_type": "stream",
     "text": [
      "INFO:tensorflow:Using default config.\n",
      "WARNING:tensorflow:Using temporary folder as model directory: C:\\Users\\ALEKSA~1\\AppData\\Local\\Temp\\tmp1b18pz5j\n",
      "INFO:tensorflow:Using config: {'_model_dir': 'C:\\\\Users\\\\ALEKSA~1\\\\AppData\\\\Local\\\\Temp\\\\tmp1b18pz5j', '_tf_random_seed': None, '_save_summary_steps': 100, '_save_checkpoints_steps': None, '_save_checkpoints_secs': 600, '_session_config': None, '_keep_checkpoint_max': 5, '_keep_checkpoint_every_n_hours': 10000, '_log_step_count_steps': 100, '_train_distribute': None, '_device_fn': None, '_service': None, '_cluster_spec': <tensorflow.python.training.server_lib.ClusterSpec object at 0x000002AC010C1FD0>, '_task_type': 'worker', '_task_id': 0, '_global_id_in_cluster': 0, '_master': '', '_evaluation_master': '', '_is_chief': True, '_num_ps_replicas': 0, '_num_worker_replicas': 1}\n"
     ]
    }
   ],
   "source": [
    "model = tf.estimator.LinearClassifier(feature_columns=feat_cols,n_classes=2)"
   ]
  },
  {
   "cell_type": "markdown",
   "metadata": {},
   "source": [
    "** Train your model on the data, for at least 5000 steps. **"
   ]
  },
  {
   "cell_type": "code",
   "execution_count": 99,
   "metadata": {},
   "outputs": [
    {
     "name": "stdout",
     "output_type": "stream",
     "text": [
      "INFO:tensorflow:Calling model_fn.\n",
      "INFO:tensorflow:Done calling model_fn.\n",
      "INFO:tensorflow:Create CheckpointSaverHook.\n",
      "INFO:tensorflow:Graph was finalized.\n",
      "INFO:tensorflow:Running local_init_op.\n",
      "INFO:tensorflow:Done running local_init_op.\n",
      "INFO:tensorflow:Saving checkpoints for 0 into C:\\Users\\ALEKSA~1\\AppData\\Local\\Temp\\tmp1b18pz5j\\model.ckpt.\n",
      "INFO:tensorflow:loss = 69.31474, step = 1\n",
      "INFO:tensorflow:global_step/sec: 19.9103\n",
      "INFO:tensorflow:loss = 309.55603, step = 101 (5.035 sec)\n",
      "INFO:tensorflow:global_step/sec: 78.9334\n",
      "INFO:tensorflow:loss = 404.75266, step = 201 (1.271 sec)\n",
      "INFO:tensorflow:global_step/sec: 76.2429\n",
      "INFO:tensorflow:loss = 189.32968, step = 301 (1.300 sec)\n",
      "INFO:tensorflow:global_step/sec: 74.5692\n",
      "INFO:tensorflow:loss = 246.84416, step = 401 (1.352 sec)\n",
      "INFO:tensorflow:global_step/sec: 78.5654\n",
      "INFO:tensorflow:loss = 83.79556, step = 501 (1.273 sec)\n",
      "INFO:tensorflow:global_step/sec: 84.3568\n",
      "INFO:tensorflow:loss = 109.5923, step = 601 (1.185 sec)\n",
      "INFO:tensorflow:global_step/sec: 75.7879\n",
      "INFO:tensorflow:loss = 254.61186, step = 701 (1.304 sec)\n",
      "INFO:tensorflow:global_step/sec: 80.8331\n",
      "INFO:tensorflow:loss = 144.37521, step = 801 (1.253 sec)\n",
      "INFO:tensorflow:global_step/sec: 67.1009\n",
      "INFO:tensorflow:loss = 156.81256, step = 901 (1.491 sec)\n",
      "INFO:tensorflow:global_step/sec: 81.1791\n",
      "INFO:tensorflow:loss = 430.19403, step = 1001 (1.233 sec)\n",
      "INFO:tensorflow:global_step/sec: 84.2493\n",
      "INFO:tensorflow:loss = 71.19081, step = 1101 (1.182 sec)\n",
      "INFO:tensorflow:global_step/sec: 81.5792\n",
      "INFO:tensorflow:loss = 36.266674, step = 1201 (1.214 sec)\n",
      "INFO:tensorflow:global_step/sec: 81.3362\n",
      "INFO:tensorflow:loss = 266.75635, step = 1301 (1.245 sec)\n",
      "INFO:tensorflow:global_step/sec: 81.0147\n",
      "INFO:tensorflow:loss = 146.41429, step = 1401 (1.231 sec)\n",
      "INFO:tensorflow:global_step/sec: 83.7424\n",
      "INFO:tensorflow:loss = 132.62476, step = 1501 (1.194 sec)\n",
      "INFO:tensorflow:global_step/sec: 84.3581\n",
      "INFO:tensorflow:loss = 75.60249, step = 1601 (1.173 sec)\n",
      "INFO:tensorflow:global_step/sec: 84.0164\n",
      "INFO:tensorflow:loss = 51.648293, step = 1701 (1.190 sec)\n",
      "INFO:tensorflow:global_step/sec: 80.9995\n",
      "INFO:tensorflow:loss = 128.45392, step = 1801 (1.235 sec)\n",
      "INFO:tensorflow:global_step/sec: 83.873\n",
      "INFO:tensorflow:loss = 41.603096, step = 1901 (1.200 sec)\n",
      "INFO:tensorflow:global_step/sec: 86.3509\n",
      "INFO:tensorflow:loss = 208.57956, step = 2001 (1.150 sec)\n",
      "INFO:tensorflow:global_step/sec: 85.1798\n",
      "INFO:tensorflow:loss = 82.53531, step = 2101 (1.185 sec)\n",
      "INFO:tensorflow:global_step/sec: 85.2885\n",
      "INFO:tensorflow:loss = 50.659866, step = 2201 (1.177 sec)\n",
      "INFO:tensorflow:global_step/sec: 83.8139\n",
      "INFO:tensorflow:loss = 39.421608, step = 2301 (1.193 sec)\n",
      "INFO:tensorflow:global_step/sec: 85.3511\n",
      "INFO:tensorflow:loss = 41.98546, step = 2401 (1.178 sec)\n",
      "INFO:tensorflow:global_step/sec: 84.7271\n",
      "INFO:tensorflow:loss = 59.18377, step = 2501 (1.174 sec)\n",
      "INFO:tensorflow:global_step/sec: 85.2441\n",
      "INFO:tensorflow:loss = 41.08426, step = 2601 (1.173 sec)\n",
      "INFO:tensorflow:global_step/sec: 83.8434\n",
      "INFO:tensorflow:loss = 67.00731, step = 2701 (1.193 sec)\n",
      "INFO:tensorflow:global_step/sec: 85.1655\n",
      "INFO:tensorflow:loss = 49.981956, step = 2801 (1.174 sec)\n",
      "INFO:tensorflow:global_step/sec: 84.4515\n",
      "INFO:tensorflow:loss = 281.14706, step = 2901 (1.181 sec)\n",
      "INFO:tensorflow:global_step/sec: 84.6718\n",
      "INFO:tensorflow:loss = 87.02666, step = 3001 (1.185 sec)\n",
      "INFO:tensorflow:global_step/sec: 84.4946\n",
      "INFO:tensorflow:loss = 75.67049, step = 3101 (1.168 sec)\n",
      "INFO:tensorflow:global_step/sec: 84.9594\n",
      "INFO:tensorflow:loss = 108.138245, step = 3201 (1.177 sec)\n",
      "INFO:tensorflow:global_step/sec: 84.6471\n",
      "INFO:tensorflow:loss = 71.018616, step = 3301 (1.181 sec)\n",
      "INFO:tensorflow:global_step/sec: 83.5306\n",
      "INFO:tensorflow:loss = 82.98517, step = 3401 (1.197 sec)\n",
      "INFO:tensorflow:global_step/sec: 85.6743\n",
      "INFO:tensorflow:loss = 45.938904, step = 3501 (1.189 sec)\n",
      "INFO:tensorflow:global_step/sec: 83.0605\n",
      "INFO:tensorflow:loss = 46.829346, step = 3601 (1.182 sec)\n",
      "INFO:tensorflow:global_step/sec: 85.9275\n",
      "INFO:tensorflow:loss = 252.45897, step = 3701 (1.179 sec)\n",
      "INFO:tensorflow:global_step/sec: 84.128\n",
      "INFO:tensorflow:loss = 46.391937, step = 3801 (1.185 sec)\n",
      "INFO:tensorflow:global_step/sec: 84.3935\n",
      "INFO:tensorflow:loss = 53.528893, step = 3901 (1.189 sec)\n",
      "INFO:tensorflow:global_step/sec: 81.993\n",
      "INFO:tensorflow:loss = 46.797012, step = 4001 (1.204 sec)\n",
      "INFO:tensorflow:global_step/sec: 82.3589\n",
      "INFO:tensorflow:loss = 34.337734, step = 4101 (1.222 sec)\n",
      "INFO:tensorflow:global_step/sec: 83.2652\n",
      "INFO:tensorflow:loss = 117.66582, step = 4201 (1.193 sec)\n",
      "INFO:tensorflow:global_step/sec: 86.0686\n",
      "INFO:tensorflow:loss = 48.0736, step = 4301 (1.162 sec)\n",
      "INFO:tensorflow:global_step/sec: 84.8941\n",
      "INFO:tensorflow:loss = 156.98325, step = 4401 (1.194 sec)\n",
      "INFO:tensorflow:global_step/sec: 83.6162\n",
      "INFO:tensorflow:loss = 40.83383, step = 4501 (1.193 sec)\n",
      "INFO:tensorflow:global_step/sec: 76.1002\n",
      "INFO:tensorflow:loss = 57.68206, step = 4601 (1.306 sec)\n",
      "INFO:tensorflow:global_step/sec: 68.8822\n",
      "INFO:tensorflow:loss = 53.42836, step = 4701 (1.460 sec)\n",
      "INFO:tensorflow:global_step/sec: 70.6479\n",
      "INFO:tensorflow:loss = 138.03282, step = 4801 (1.407 sec)\n",
      "INFO:tensorflow:global_step/sec: 80.5029\n",
      "INFO:tensorflow:loss = 54.66584, step = 4901 (1.250 sec)\n",
      "INFO:tensorflow:global_step/sec: 75.9877\n",
      "INFO:tensorflow:loss = 45.43621, step = 5001 (1.320 sec)\n",
      "INFO:tensorflow:global_step/sec: 73.9512\n",
      "INFO:tensorflow:loss = 129.59515, step = 5101 (1.350 sec)\n",
      "INFO:tensorflow:global_step/sec: 67.6875\n",
      "INFO:tensorflow:loss = 40.73063, step = 5201 (1.476 sec)\n",
      "INFO:tensorflow:global_step/sec: 75.2626\n",
      "INFO:tensorflow:loss = 31.86922, step = 5301 (1.341 sec)\n",
      "INFO:tensorflow:global_step/sec: 84.6309\n",
      "INFO:tensorflow:loss = 31.29255, step = 5401 (1.178 sec)\n",
      "INFO:tensorflow:global_step/sec: 84.8714\n",
      "INFO:tensorflow:loss = 36.397186, step = 5501 (1.159 sec)\n",
      "INFO:tensorflow:global_step/sec: 87.2013\n",
      "INFO:tensorflow:loss = 51.451347, step = 5601 (1.161 sec)\n",
      "INFO:tensorflow:global_step/sec: 86.9864\n",
      "INFO:tensorflow:loss = 58.054504, step = 5701 (1.150 sec)\n",
      "INFO:tensorflow:global_step/sec: 85.4472\n",
      "INFO:tensorflow:loss = 160.9123, step = 5801 (1.170 sec)\n",
      "INFO:tensorflow:global_step/sec: 86.097\n",
      "INFO:tensorflow:loss = 30.195747, step = 5901 (1.161 sec)\n",
      "INFO:tensorflow:global_step/sec: 84.0268\n",
      "INFO:tensorflow:loss = 68.333694, step = 6001 (1.186 sec)\n",
      "INFO:tensorflow:global_step/sec: 84.1303\n",
      "INFO:tensorflow:loss = 75.081154, step = 6101 (1.177 sec)\n",
      "INFO:tensorflow:global_step/sec: 86.0166\n",
      "INFO:tensorflow:loss = 40.108086, step = 6201 (1.175 sec)\n",
      "INFO:tensorflow:global_step/sec: 85.2238\n",
      "INFO:tensorflow:loss = 37.012085, step = 6301 (1.177 sec)\n",
      "INFO:tensorflow:global_step/sec: 85.7531\n",
      "INFO:tensorflow:loss = 57.009567, step = 6401 (1.151 sec)\n",
      "INFO:tensorflow:global_step/sec: 85.0201\n",
      "INFO:tensorflow:loss = 37.205997, step = 6501 (1.192 sec)\n",
      "INFO:tensorflow:global_step/sec: 79.9515\n",
      "INFO:tensorflow:loss = 42.93683, step = 6601 (1.247 sec)\n",
      "INFO:tensorflow:global_step/sec: 86.856\n",
      "INFO:tensorflow:loss = 62.79872, step = 6701 (1.155 sec)\n",
      "INFO:tensorflow:global_step/sec: 84.7047\n",
      "INFO:tensorflow:loss = 108.83984, step = 6801 (1.165 sec)\n",
      "INFO:tensorflow:global_step/sec: 85.6057\n",
      "INFO:tensorflow:loss = 55.859093, step = 6901 (1.168 sec)\n",
      "INFO:tensorflow:global_step/sec: 86.6777\n",
      "INFO:tensorflow:loss = 34.71499, step = 7001 (1.169 sec)\n",
      "INFO:tensorflow:global_step/sec: 84.4951\n",
      "INFO:tensorflow:loss = 59.646393, step = 7101 (1.184 sec)\n",
      "INFO:tensorflow:global_step/sec: 82.3729\n",
      "INFO:tensorflow:loss = 109.28624, step = 7201 (1.207 sec)\n",
      "INFO:tensorflow:global_step/sec: 85.6569\n",
      "INFO:tensorflow:loss = 117.949265, step = 7301 (1.159 sec)\n",
      "INFO:tensorflow:global_step/sec: 86.6894\n",
      "INFO:tensorflow:loss = 32.863644, step = 7401 (1.169 sec)\n",
      "INFO:tensorflow:global_step/sec: 84.4238\n",
      "INFO:tensorflow:loss = 35.25114, step = 7501 (1.185 sec)\n",
      "INFO:tensorflow:global_step/sec: 85.3928\n",
      "INFO:tensorflow:loss = 208.23837, step = 7601 (1.155 sec)\n",
      "INFO:tensorflow:global_step/sec: 85.9037\n",
      "INFO:tensorflow:loss = 95.77032, step = 7701 (1.181 sec)\n",
      "INFO:tensorflow:global_step/sec: 85.3831\n",
      "INFO:tensorflow:loss = 80.21125, step = 7801 (1.170 sec)\n",
      "INFO:tensorflow:global_step/sec: 84.1196\n",
      "INFO:tensorflow:loss = 24.911554, step = 7901 (1.202 sec)\n",
      "INFO:tensorflow:global_step/sec: 81.9399\n"
     ]
    },
    {
     "name": "stdout",
     "output_type": "stream",
     "text": [
      "INFO:tensorflow:loss = 45.514153, step = 8001 (1.191 sec)\n",
      "INFO:tensorflow:global_step/sec: 87.8994\n",
      "INFO:tensorflow:loss = 40.223293, step = 8101 (1.153 sec)\n",
      "INFO:tensorflow:global_step/sec: 85.7639\n",
      "INFO:tensorflow:loss = 46.98035, step = 8201 (1.150 sec)\n",
      "INFO:tensorflow:global_step/sec: 85.0616\n",
      "INFO:tensorflow:loss = 35.902657, step = 8301 (1.188 sec)\n",
      "INFO:tensorflow:global_step/sec: 86.634\n",
      "INFO:tensorflow:loss = 31.94468, step = 8401 (1.158 sec)\n",
      "INFO:tensorflow:global_step/sec: 85.216\n",
      "INFO:tensorflow:loss = 46.28562, step = 8501 (1.166 sec)\n",
      "INFO:tensorflow:global_step/sec: 85.7613\n",
      "INFO:tensorflow:loss = 37.31654, step = 8601 (1.158 sec)\n",
      "INFO:tensorflow:global_step/sec: 84.0169\n",
      "INFO:tensorflow:loss = 33.45915, step = 8701 (1.190 sec)\n",
      "INFO:tensorflow:global_step/sec: 85.7498\n",
      "INFO:tensorflow:loss = 55.189056, step = 8801 (1.182 sec)\n",
      "INFO:tensorflow:global_step/sec: 82.0943\n",
      "INFO:tensorflow:loss = 32.67404, step = 8901 (1.214 sec)\n",
      "INFO:tensorflow:global_step/sec: 86.6556\n",
      "INFO:tensorflow:loss = 30.164492, step = 9001 (1.158 sec)\n",
      "INFO:tensorflow:global_step/sec: 84.3765\n",
      "INFO:tensorflow:loss = 36.89067, step = 9101 (1.185 sec)\n",
      "INFO:tensorflow:global_step/sec: 85.0466\n",
      "INFO:tensorflow:loss = 69.01964, step = 9201 (1.160 sec)\n",
      "INFO:tensorflow:global_step/sec: 85.8747\n",
      "INFO:tensorflow:loss = 100.41496, step = 9301 (1.164 sec)\n",
      "INFO:tensorflow:global_step/sec: 86.5515\n",
      "INFO:tensorflow:loss = 33.708473, step = 9401 (1.171 sec)\n",
      "INFO:tensorflow:global_step/sec: 86.7723\n",
      "INFO:tensorflow:loss = 43.70665, step = 9501 (1.152 sec)\n",
      "INFO:tensorflow:global_step/sec: 84.8657\n",
      "INFO:tensorflow:loss = 45.649914, step = 9601 (1.163 sec)\n",
      "INFO:tensorflow:global_step/sec: 86.1885\n",
      "INFO:tensorflow:loss = 59.367485, step = 9701 (1.176 sec)\n",
      "INFO:tensorflow:global_step/sec: 86.4433\n",
      "INFO:tensorflow:loss = 47.29969, step = 9801 (1.157 sec)\n",
      "INFO:tensorflow:global_step/sec: 82.7532\n",
      "INFO:tensorflow:loss = 33.366943, step = 9901 (1.193 sec)\n",
      "INFO:tensorflow:Saving checkpoints for 10000 into C:\\Users\\ALEKSA~1\\AppData\\Local\\Temp\\tmp1b18pz5j\\model.ckpt.\n",
      "INFO:tensorflow:Loss for final step: 81.06357.\n"
     ]
    },
    {
     "data": {
      "text/plain": [
       "<tensorflow.python.estimator.canned.linear.LinearClassifier at 0x2ac011fff60>"
      ]
     },
     "execution_count": 99,
     "metadata": {},
     "output_type": "execute_result"
    }
   ],
   "source": [
    "model.train(input_fn=input_func,steps=10000)"
   ]
  },
  {
   "cell_type": "markdown",
   "metadata": {},
   "source": [
    "### Evaluation\n",
    "\n",
    "** Create a prediction input function. Remember to only supprt X_test data and keep shuffle=False. **"
   ]
  },
  {
   "cell_type": "code",
   "execution_count": 100,
   "metadata": {
    "collapsed": true
   },
   "outputs": [],
   "source": [
    "eval_input_func = tf.estimator.inputs.pandas_input_fn(x=X_test, y=y_test, batch_size=10, num_epochs=1,shuffle=False)"
   ]
  },
  {
   "cell_type": "markdown",
   "metadata": {},
   "source": [
    "** Use model.predict() and pass in your input function. This will produce a generator of predictions, which you can then transform into a list, with list() **"
   ]
  },
  {
   "cell_type": "code",
   "execution_count": 101,
   "metadata": {},
   "outputs": [
    {
     "name": "stdout",
     "output_type": "stream",
     "text": [
      "INFO:tensorflow:Calling model_fn.\n",
      "INFO:tensorflow:Done calling model_fn.\n",
      "INFO:tensorflow:Graph was finalized.\n",
      "INFO:tensorflow:Restoring parameters from C:\\Users\\ALEKSA~1\\AppData\\Local\\Temp\\tmp1b18pz5j\\model.ckpt-10000\n",
      "INFO:tensorflow:Running local_init_op.\n",
      "INFO:tensorflow:Done running local_init_op.\n"
     ]
    }
   ],
   "source": [
    "results = model.predict(eval_input_func)\n",
    "results = list(results)"
   ]
  },
  {
   "cell_type": "markdown",
   "metadata": {},
   "source": [
    "** Each item in your list will look like this: **"
   ]
  },
  {
   "cell_type": "code",
   "execution_count": 102,
   "metadata": {},
   "outputs": [
    {
     "name": "stdout",
     "output_type": "stream",
     "text": [
      "{'logits': array([-0.94040906], dtype=float32), 'logistic': array([0.28081772], dtype=float32), 'probabilities': array([0.71918225, 0.2808177 ], dtype=float32), 'class_ids': array([0], dtype=int64), 'classes': array([b'0'], dtype=object)}\n"
     ]
    }
   ],
   "source": [
    "print(results[0])"
   ]
  },
  {
   "cell_type": "markdown",
   "metadata": {},
   "source": [
    "** Create a list of only the class_ids key values from the prediction list of dictionaries, these are the predictions you will use to compare against the real y_test values. **"
   ]
  },
  {
   "cell_type": "code",
   "execution_count": 103,
   "metadata": {},
   "outputs": [],
   "source": [
    "class_ids= [r['class_ids'][0] for r in results]"
   ]
  },
  {
   "cell_type": "code",
   "execution_count": 104,
   "metadata": {},
   "outputs": [
    {
     "data": {
      "text/plain": [
       "[0, 0, 0, 0, 1, 0, 0, 0, 0, 0, 0, 1, 0, 0, 0]"
      ]
     },
     "execution_count": 104,
     "metadata": {},
     "output_type": "execute_result"
    }
   ],
   "source": [
    "class_ids[:15]"
   ]
  },
  {
   "cell_type": "markdown",
   "metadata": {},
   "source": [
    "** Import classification_report from sklearn.metrics and then see if you can figure out how to use it to easily get a full report of your model's performance on the test data. **"
   ]
  },
  {
   "cell_type": "code",
   "execution_count": 105,
   "metadata": {
    "collapsed": true
   },
   "outputs": [],
   "source": [
    "from sklearn import metrics"
   ]
  },
  {
   "cell_type": "code",
   "execution_count": 106,
   "metadata": {},
   "outputs": [
    {
     "name": "stdout",
     "output_type": "stream",
     "text": [
      "             precision    recall  f1-score   support\n",
      "\n",
      "          0       0.85      0.90      0.88      7436\n",
      "          1       0.62      0.50      0.56      2333\n",
      "\n",
      "avg / total       0.80      0.81      0.80      9769\n",
      "\n"
     ]
    }
   ],
   "source": [
    "print(metrics.classification_report(y_test, class_ids))"
   ]
  },
  {
   "cell_type": "markdown",
   "metadata": {
    "collapsed": true
   },
   "source": [
    "# Great Job!"
   ]
  }
 ],
 "metadata": {
  "kernelspec": {
   "display_name": "Python 3",
   "language": "python",
   "name": "python3"
  },
  "language_info": {
   "codemirror_mode": {
    "name": "ipython",
    "version": 3
   },
   "file_extension": ".py",
   "mimetype": "text/x-python",
   "name": "python",
   "nbconvert_exporter": "python",
   "pygments_lexer": "ipython3",
   "version": "3.6.3"
  }
 },
 "nbformat": 4,
 "nbformat_minor": 2
}
