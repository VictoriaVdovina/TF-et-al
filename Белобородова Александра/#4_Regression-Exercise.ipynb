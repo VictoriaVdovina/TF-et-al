{
 "cells": [
  {
   "cell_type": "markdown",
   "metadata": {},
   "source": [
    "# Regression Exercise \n",
    "\n",
    "California Housing Data\n",
    "\n",
    "This data set contains information about all the block groups in California from the 1990 Census. In this sample a block group on average includes 1425.5 individuals living in a geographically compact area. \n",
    "\n",
    "The task is to aproximate the median house value of each block from the values of the rest of the variables. \n",
    "\n",
    " It has been obtained from the LIACC repository. The original page where the data set can be found is: http://www.liaad.up.pt/~ltorgo/Regression/DataSets.html.\n",
    " "
   ]
  },
  {
   "cell_type": "markdown",
   "metadata": {
    "collapsed": true
   },
   "source": [
    "The Features:\n",
    " \n",
    "* housingMedianAge: continuous. \n",
    "* totalRooms: continuous. \n",
    "* totalBedrooms: continuous. \n",
    "* population: continuous. \n",
    "* households: continuous. \n",
    "* medianIncome: continuous. \n",
    "* medianHouseValue: continuous. "
   ]
  },
  {
   "cell_type": "markdown",
   "metadata": {},
   "source": [
    "## The Data"
   ]
  },
  {
   "cell_type": "markdown",
   "metadata": {},
   "source": [
    "** Import the cal_housing_clean.csv file with pandas. Separate it into a training (70%) and testing set(30%).**"
   ]
  },
  {
   "cell_type": "code",
   "execution_count": 1,
   "metadata": {
    "collapsed": true
   },
   "outputs": [],
   "source": [
    "import pandas as pd"
   ]
  },
  {
   "cell_type": "code",
   "execution_count": 2,
   "metadata": {
    "collapsed": true
   },
   "outputs": [],
   "source": [
    "data = pd.read_csv('California Housing data.csv')"
   ]
  },
  {
   "cell_type": "code",
   "execution_count": 3,
   "metadata": {},
   "outputs": [
    {
     "data": {
      "text/html": [
       "<div>\n",
       "<style scoped>\n",
       "    .dataframe tbody tr th:only-of-type {\n",
       "        vertical-align: middle;\n",
       "    }\n",
       "\n",
       "    .dataframe tbody tr th {\n",
       "        vertical-align: top;\n",
       "    }\n",
       "\n",
       "    .dataframe thead th {\n",
       "        text-align: right;\n",
       "    }\n",
       "</style>\n",
       "<table border=\"1\" class=\"dataframe\">\n",
       "  <thead>\n",
       "    <tr style=\"text-align: right;\">\n",
       "      <th></th>\n",
       "      <th>Unnamed: 0</th>\n",
       "      <th>HouseAge</th>\n",
       "      <th>AveRooms</th>\n",
       "      <th>AveBedrms</th>\n",
       "      <th>Population</th>\n",
       "      <th>AveOccup</th>\n",
       "      <th>MedInc</th>\n",
       "      <th>Latitude</th>\n",
       "      <th>Longitude</th>\n",
       "      <th>medianHouseValue</th>\n",
       "    </tr>\n",
       "  </thead>\n",
       "  <tbody>\n",
       "    <tr>\n",
       "      <th>0</th>\n",
       "      <td>0</td>\n",
       "      <td>41.0</td>\n",
       "      <td>6.984127</td>\n",
       "      <td>1.023810</td>\n",
       "      <td>322.0</td>\n",
       "      <td>2.555556</td>\n",
       "      <td>8.3252</td>\n",
       "      <td>37.88</td>\n",
       "      <td>-122.23</td>\n",
       "      <td>4.526</td>\n",
       "    </tr>\n",
       "    <tr>\n",
       "      <th>1</th>\n",
       "      <td>1</td>\n",
       "      <td>21.0</td>\n",
       "      <td>6.238137</td>\n",
       "      <td>0.971880</td>\n",
       "      <td>2401.0</td>\n",
       "      <td>2.109842</td>\n",
       "      <td>8.3014</td>\n",
       "      <td>37.86</td>\n",
       "      <td>-122.22</td>\n",
       "      <td>3.585</td>\n",
       "    </tr>\n",
       "    <tr>\n",
       "      <th>2</th>\n",
       "      <td>2</td>\n",
       "      <td>52.0</td>\n",
       "      <td>8.288136</td>\n",
       "      <td>1.073446</td>\n",
       "      <td>496.0</td>\n",
       "      <td>2.802260</td>\n",
       "      <td>7.2574</td>\n",
       "      <td>37.85</td>\n",
       "      <td>-122.24</td>\n",
       "      <td>3.521</td>\n",
       "    </tr>\n",
       "    <tr>\n",
       "      <th>3</th>\n",
       "      <td>3</td>\n",
       "      <td>52.0</td>\n",
       "      <td>5.817352</td>\n",
       "      <td>1.073059</td>\n",
       "      <td>558.0</td>\n",
       "      <td>2.547945</td>\n",
       "      <td>5.6431</td>\n",
       "      <td>37.85</td>\n",
       "      <td>-122.25</td>\n",
       "      <td>3.413</td>\n",
       "    </tr>\n",
       "    <tr>\n",
       "      <th>4</th>\n",
       "      <td>4</td>\n",
       "      <td>52.0</td>\n",
       "      <td>6.281853</td>\n",
       "      <td>1.081081</td>\n",
       "      <td>565.0</td>\n",
       "      <td>2.181467</td>\n",
       "      <td>3.8462</td>\n",
       "      <td>37.85</td>\n",
       "      <td>-122.25</td>\n",
       "      <td>3.422</td>\n",
       "    </tr>\n",
       "  </tbody>\n",
       "</table>\n",
       "</div>"
      ],
      "text/plain": [
       "   Unnamed: 0  HouseAge  AveRooms  AveBedrms  Population  AveOccup  MedInc  \\\n",
       "0           0      41.0  6.984127   1.023810       322.0  2.555556  8.3252   \n",
       "1           1      21.0  6.238137   0.971880      2401.0  2.109842  8.3014   \n",
       "2           2      52.0  8.288136   1.073446       496.0  2.802260  7.2574   \n",
       "3           3      52.0  5.817352   1.073059       558.0  2.547945  5.6431   \n",
       "4           4      52.0  6.281853   1.081081       565.0  2.181467  3.8462   \n",
       "\n",
       "   Latitude  Longitude  medianHouseValue  \n",
       "0     37.88    -122.23             4.526  \n",
       "1     37.86    -122.22             3.585  \n",
       "2     37.85    -122.24             3.521  \n",
       "3     37.85    -122.25             3.413  \n",
       "4     37.85    -122.25             3.422  "
      ]
     },
     "execution_count": 3,
     "metadata": {},
     "output_type": "execute_result"
    }
   ],
   "source": [
    "data.head()"
   ]
  },
  {
   "cell_type": "code",
   "execution_count": 4,
   "metadata": {},
   "outputs": [
    {
     "data": {
      "text/html": [
       "<div>\n",
       "<style scoped>\n",
       "    .dataframe tbody tr th:only-of-type {\n",
       "        vertical-align: middle;\n",
       "    }\n",
       "\n",
       "    .dataframe tbody tr th {\n",
       "        vertical-align: top;\n",
       "    }\n",
       "\n",
       "    .dataframe thead th {\n",
       "        text-align: right;\n",
       "    }\n",
       "</style>\n",
       "<table border=\"1\" class=\"dataframe\">\n",
       "  <thead>\n",
       "    <tr style=\"text-align: right;\">\n",
       "      <th></th>\n",
       "      <th>Unnamed: 0</th>\n",
       "      <th>HouseAge</th>\n",
       "      <th>AveRooms</th>\n",
       "      <th>AveBedrms</th>\n",
       "      <th>Population</th>\n",
       "      <th>AveOccup</th>\n",
       "      <th>MedInc</th>\n",
       "      <th>Latitude</th>\n",
       "      <th>Longitude</th>\n",
       "      <th>medianHouseValue</th>\n",
       "    </tr>\n",
       "  </thead>\n",
       "  <tbody>\n",
       "    <tr>\n",
       "      <th>count</th>\n",
       "      <td>20640.000000</td>\n",
       "      <td>20640.000000</td>\n",
       "      <td>20640.000000</td>\n",
       "      <td>20640.000000</td>\n",
       "      <td>20640.000000</td>\n",
       "      <td>20640.000000</td>\n",
       "      <td>20640.000000</td>\n",
       "      <td>20640.000000</td>\n",
       "      <td>20640.000000</td>\n",
       "      <td>20640.000000</td>\n",
       "    </tr>\n",
       "    <tr>\n",
       "      <th>mean</th>\n",
       "      <td>10319.500000</td>\n",
       "      <td>28.639486</td>\n",
       "      <td>5.429000</td>\n",
       "      <td>1.096675</td>\n",
       "      <td>1425.476744</td>\n",
       "      <td>3.070655</td>\n",
       "      <td>3.870671</td>\n",
       "      <td>35.631861</td>\n",
       "      <td>-119.569704</td>\n",
       "      <td>2.068558</td>\n",
       "    </tr>\n",
       "    <tr>\n",
       "      <th>std</th>\n",
       "      <td>5958.399114</td>\n",
       "      <td>12.585558</td>\n",
       "      <td>2.474173</td>\n",
       "      <td>0.473911</td>\n",
       "      <td>1132.462122</td>\n",
       "      <td>10.386050</td>\n",
       "      <td>1.899822</td>\n",
       "      <td>2.135952</td>\n",
       "      <td>2.003532</td>\n",
       "      <td>1.153956</td>\n",
       "    </tr>\n",
       "    <tr>\n",
       "      <th>min</th>\n",
       "      <td>0.000000</td>\n",
       "      <td>1.000000</td>\n",
       "      <td>0.846154</td>\n",
       "      <td>0.333333</td>\n",
       "      <td>3.000000</td>\n",
       "      <td>0.692308</td>\n",
       "      <td>0.499900</td>\n",
       "      <td>32.540000</td>\n",
       "      <td>-124.350000</td>\n",
       "      <td>0.149990</td>\n",
       "    </tr>\n",
       "    <tr>\n",
       "      <th>25%</th>\n",
       "      <td>5159.750000</td>\n",
       "      <td>18.000000</td>\n",
       "      <td>4.440716</td>\n",
       "      <td>1.006079</td>\n",
       "      <td>787.000000</td>\n",
       "      <td>2.429741</td>\n",
       "      <td>2.563400</td>\n",
       "      <td>33.930000</td>\n",
       "      <td>-121.800000</td>\n",
       "      <td>1.196000</td>\n",
       "    </tr>\n",
       "    <tr>\n",
       "      <th>50%</th>\n",
       "      <td>10319.500000</td>\n",
       "      <td>29.000000</td>\n",
       "      <td>5.229129</td>\n",
       "      <td>1.048780</td>\n",
       "      <td>1166.000000</td>\n",
       "      <td>2.818116</td>\n",
       "      <td>3.534800</td>\n",
       "      <td>34.260000</td>\n",
       "      <td>-118.490000</td>\n",
       "      <td>1.797000</td>\n",
       "    </tr>\n",
       "    <tr>\n",
       "      <th>75%</th>\n",
       "      <td>15479.250000</td>\n",
       "      <td>37.000000</td>\n",
       "      <td>6.052381</td>\n",
       "      <td>1.099526</td>\n",
       "      <td>1725.000000</td>\n",
       "      <td>3.282261</td>\n",
       "      <td>4.743250</td>\n",
       "      <td>37.710000</td>\n",
       "      <td>-118.010000</td>\n",
       "      <td>2.647250</td>\n",
       "    </tr>\n",
       "    <tr>\n",
       "      <th>max</th>\n",
       "      <td>20639.000000</td>\n",
       "      <td>52.000000</td>\n",
       "      <td>141.909091</td>\n",
       "      <td>34.066667</td>\n",
       "      <td>35682.000000</td>\n",
       "      <td>1243.333333</td>\n",
       "      <td>15.000100</td>\n",
       "      <td>41.950000</td>\n",
       "      <td>-114.310000</td>\n",
       "      <td>5.000010</td>\n",
       "    </tr>\n",
       "  </tbody>\n",
       "</table>\n",
       "</div>"
      ],
      "text/plain": [
       "         Unnamed: 0      HouseAge      AveRooms     AveBedrms    Population  \\\n",
       "count  20640.000000  20640.000000  20640.000000  20640.000000  20640.000000   \n",
       "mean   10319.500000     28.639486      5.429000      1.096675   1425.476744   \n",
       "std     5958.399114     12.585558      2.474173      0.473911   1132.462122   \n",
       "min        0.000000      1.000000      0.846154      0.333333      3.000000   \n",
       "25%     5159.750000     18.000000      4.440716      1.006079    787.000000   \n",
       "50%    10319.500000     29.000000      5.229129      1.048780   1166.000000   \n",
       "75%    15479.250000     37.000000      6.052381      1.099526   1725.000000   \n",
       "max    20639.000000     52.000000    141.909091     34.066667  35682.000000   \n",
       "\n",
       "           AveOccup        MedInc      Latitude     Longitude  \\\n",
       "count  20640.000000  20640.000000  20640.000000  20640.000000   \n",
       "mean       3.070655      3.870671     35.631861   -119.569704   \n",
       "std       10.386050      1.899822      2.135952      2.003532   \n",
       "min        0.692308      0.499900     32.540000   -124.350000   \n",
       "25%        2.429741      2.563400     33.930000   -121.800000   \n",
       "50%        2.818116      3.534800     34.260000   -118.490000   \n",
       "75%        3.282261      4.743250     37.710000   -118.010000   \n",
       "max     1243.333333     15.000100     41.950000   -114.310000   \n",
       "\n",
       "       medianHouseValue  \n",
       "count      20640.000000  \n",
       "mean           2.068558  \n",
       "std            1.153956  \n",
       "min            0.149990  \n",
       "25%            1.196000  \n",
       "50%            1.797000  \n",
       "75%            2.647250  \n",
       "max            5.000010  "
      ]
     },
     "execution_count": 4,
     "metadata": {},
     "output_type": "execute_result"
    }
   ],
   "source": [
    "data.describe()"
   ]
  },
  {
   "cell_type": "code",
   "execution_count": 5,
   "metadata": {
    "collapsed": true,
    "scrolled": true
   },
   "outputs": [],
   "source": [
    "data = data.drop('Unnamed: 0', axis=1)"
   ]
  },
  {
   "cell_type": "code",
   "execution_count": 6,
   "metadata": {},
   "outputs": [
    {
     "data": {
      "text/html": [
       "<div>\n",
       "<style scoped>\n",
       "    .dataframe tbody tr th:only-of-type {\n",
       "        vertical-align: middle;\n",
       "    }\n",
       "\n",
       "    .dataframe tbody tr th {\n",
       "        vertical-align: top;\n",
       "    }\n",
       "\n",
       "    .dataframe thead th {\n",
       "        text-align: right;\n",
       "    }\n",
       "</style>\n",
       "<table border=\"1\" class=\"dataframe\">\n",
       "  <thead>\n",
       "    <tr style=\"text-align: right;\">\n",
       "      <th></th>\n",
       "      <th>HouseAge</th>\n",
       "      <th>AveRooms</th>\n",
       "      <th>AveBedrms</th>\n",
       "      <th>Population</th>\n",
       "      <th>AveOccup</th>\n",
       "      <th>MedInc</th>\n",
       "      <th>Latitude</th>\n",
       "      <th>Longitude</th>\n",
       "      <th>medianHouseValue</th>\n",
       "    </tr>\n",
       "  </thead>\n",
       "  <tbody>\n",
       "    <tr>\n",
       "      <th>0</th>\n",
       "      <td>41.0</td>\n",
       "      <td>6.984127</td>\n",
       "      <td>1.023810</td>\n",
       "      <td>322.0</td>\n",
       "      <td>2.555556</td>\n",
       "      <td>8.3252</td>\n",
       "      <td>37.88</td>\n",
       "      <td>-122.23</td>\n",
       "      <td>4.526</td>\n",
       "    </tr>\n",
       "    <tr>\n",
       "      <th>1</th>\n",
       "      <td>21.0</td>\n",
       "      <td>6.238137</td>\n",
       "      <td>0.971880</td>\n",
       "      <td>2401.0</td>\n",
       "      <td>2.109842</td>\n",
       "      <td>8.3014</td>\n",
       "      <td>37.86</td>\n",
       "      <td>-122.22</td>\n",
       "      <td>3.585</td>\n",
       "    </tr>\n",
       "    <tr>\n",
       "      <th>2</th>\n",
       "      <td>52.0</td>\n",
       "      <td>8.288136</td>\n",
       "      <td>1.073446</td>\n",
       "      <td>496.0</td>\n",
       "      <td>2.802260</td>\n",
       "      <td>7.2574</td>\n",
       "      <td>37.85</td>\n",
       "      <td>-122.24</td>\n",
       "      <td>3.521</td>\n",
       "    </tr>\n",
       "    <tr>\n",
       "      <th>3</th>\n",
       "      <td>52.0</td>\n",
       "      <td>5.817352</td>\n",
       "      <td>1.073059</td>\n",
       "      <td>558.0</td>\n",
       "      <td>2.547945</td>\n",
       "      <td>5.6431</td>\n",
       "      <td>37.85</td>\n",
       "      <td>-122.25</td>\n",
       "      <td>3.413</td>\n",
       "    </tr>\n",
       "    <tr>\n",
       "      <th>4</th>\n",
       "      <td>52.0</td>\n",
       "      <td>6.281853</td>\n",
       "      <td>1.081081</td>\n",
       "      <td>565.0</td>\n",
       "      <td>2.181467</td>\n",
       "      <td>3.8462</td>\n",
       "      <td>37.85</td>\n",
       "      <td>-122.25</td>\n",
       "      <td>3.422</td>\n",
       "    </tr>\n",
       "  </tbody>\n",
       "</table>\n",
       "</div>"
      ],
      "text/plain": [
       "   HouseAge  AveRooms  AveBedrms  Population  AveOccup  MedInc  Latitude  \\\n",
       "0      41.0  6.984127   1.023810       322.0  2.555556  8.3252     37.88   \n",
       "1      21.0  6.238137   0.971880      2401.0  2.109842  8.3014     37.86   \n",
       "2      52.0  8.288136   1.073446       496.0  2.802260  7.2574     37.85   \n",
       "3      52.0  5.817352   1.073059       558.0  2.547945  5.6431     37.85   \n",
       "4      52.0  6.281853   1.081081       565.0  2.181467  3.8462     37.85   \n",
       "\n",
       "   Longitude  medianHouseValue  \n",
       "0    -122.23             4.526  \n",
       "1    -122.22             3.585  \n",
       "2    -122.24             3.521  \n",
       "3    -122.25             3.413  \n",
       "4    -122.25             3.422  "
      ]
     },
     "execution_count": 6,
     "metadata": {},
     "output_type": "execute_result"
    }
   ],
   "source": [
    "data.head()"
   ]
  },
  {
   "cell_type": "code",
   "execution_count": 7,
   "metadata": {
    "collapsed": true
   },
   "outputs": [],
   "source": [
    "y = data['medianHouseValue']\n",
    "x = data.drop('medianHouseValue', axis = 1)"
   ]
  },
  {
   "cell_type": "code",
   "execution_count": 8,
   "metadata": {
    "collapsed": true
   },
   "outputs": [],
   "source": [
    "from sklearn.model_selection import train_test_split\n",
    "X_train, X_test, y_train, y_test = train_test_split(x, y, test_size=0.3, random_state=1)"
   ]
  },
  {
   "cell_type": "code",
   "execution_count": 9,
   "metadata": {},
   "outputs": [
    {
     "data": {
      "text/plain": [
       "((14448, 8), (14448,), (6192, 8), (6192,))"
      ]
     },
     "execution_count": 9,
     "metadata": {},
     "output_type": "execute_result"
    }
   ],
   "source": [
    "X_train.shape, y_train.shape, X_test.shape, y_test.shape"
   ]
  },
  {
   "cell_type": "code",
   "execution_count": 10,
   "metadata": {},
   "outputs": [
    {
     "data": {
      "text/html": [
       "<div>\n",
       "<style scoped>\n",
       "    .dataframe tbody tr th:only-of-type {\n",
       "        vertical-align: middle;\n",
       "    }\n",
       "\n",
       "    .dataframe tbody tr th {\n",
       "        vertical-align: top;\n",
       "    }\n",
       "\n",
       "    .dataframe thead th {\n",
       "        text-align: right;\n",
       "    }\n",
       "</style>\n",
       "<table border=\"1\" class=\"dataframe\">\n",
       "  <thead>\n",
       "    <tr style=\"text-align: right;\">\n",
       "      <th></th>\n",
       "      <th>HouseAge</th>\n",
       "      <th>AveRooms</th>\n",
       "      <th>AveBedrms</th>\n",
       "      <th>Population</th>\n",
       "      <th>AveOccup</th>\n",
       "      <th>MedInc</th>\n",
       "      <th>Latitude</th>\n",
       "      <th>Longitude</th>\n",
       "    </tr>\n",
       "  </thead>\n",
       "  <tbody>\n",
       "    <tr>\n",
       "      <th>5748</th>\n",
       "      <td>15.0</td>\n",
       "      <td>4.285957</td>\n",
       "      <td>1.105532</td>\n",
       "      <td>3164.0</td>\n",
       "      <td>2.692766</td>\n",
       "      <td>2.9148</td>\n",
       "      <td>34.16</td>\n",
       "      <td>-118.27</td>\n",
       "    </tr>\n",
       "    <tr>\n",
       "      <th>5592</th>\n",
       "      <td>41.0</td>\n",
       "      <td>4.394737</td>\n",
       "      <td>1.054825</td>\n",
       "      <td>1658.0</td>\n",
       "      <td>3.635965</td>\n",
       "      <td>3.1779</td>\n",
       "      <td>33.80</td>\n",
       "      <td>-118.26</td>\n",
       "    </tr>\n",
       "    <tr>\n",
       "      <th>2110</th>\n",
       "      <td>49.0</td>\n",
       "      <td>4.886792</td>\n",
       "      <td>0.964361</td>\n",
       "      <td>1290.0</td>\n",
       "      <td>2.704403</td>\n",
       "      <td>2.5111</td>\n",
       "      <td>36.75</td>\n",
       "      <td>-119.75</td>\n",
       "    </tr>\n",
       "    <tr>\n",
       "      <th>13901</th>\n",
       "      <td>15.0</td>\n",
       "      <td>6.444651</td>\n",
       "      <td>1.422326</td>\n",
       "      <td>2568.0</td>\n",
       "      <td>2.388837</td>\n",
       "      <td>2.5405</td>\n",
       "      <td>34.06</td>\n",
       "      <td>-116.56</td>\n",
       "    </tr>\n",
       "    <tr>\n",
       "      <th>18425</th>\n",
       "      <td>7.0</td>\n",
       "      <td>5.291789</td>\n",
       "      <td>1.101173</td>\n",
       "      <td>1739.0</td>\n",
       "      <td>2.549853</td>\n",
       "      <td>4.5033</td>\n",
       "      <td>37.26</td>\n",
       "      <td>-121.83</td>\n",
       "    </tr>\n",
       "  </tbody>\n",
       "</table>\n",
       "</div>"
      ],
      "text/plain": [
       "       HouseAge  AveRooms  AveBedrms  Population  AveOccup  MedInc  Latitude  \\\n",
       "5748       15.0  4.285957   1.105532      3164.0  2.692766  2.9148     34.16   \n",
       "5592       41.0  4.394737   1.054825      1658.0  3.635965  3.1779     33.80   \n",
       "2110       49.0  4.886792   0.964361      1290.0  2.704403  2.5111     36.75   \n",
       "13901      15.0  6.444651   1.422326      2568.0  2.388837  2.5405     34.06   \n",
       "18425       7.0  5.291789   1.101173      1739.0  2.549853  4.5033     37.26   \n",
       "\n",
       "       Longitude  \n",
       "5748     -118.27  \n",
       "5592     -118.26  \n",
       "2110     -119.75  \n",
       "13901    -116.56  \n",
       "18425    -121.83  "
      ]
     },
     "execution_count": 10,
     "metadata": {},
     "output_type": "execute_result"
    }
   ],
   "source": [
    "X_train.head()"
   ]
  },
  {
   "cell_type": "code",
   "execution_count": 11,
   "metadata": {},
   "outputs": [
    {
     "data": {
      "text/plain": [
       "5748     2.387\n",
       "5592     1.711\n",
       "2110     0.554\n",
       "13901    0.696\n",
       "18425    2.131\n",
       "Name: medianHouseValue, dtype: float64"
      ]
     },
     "execution_count": 11,
     "metadata": {},
     "output_type": "execute_result"
    }
   ],
   "source": [
    "y_train.head()"
   ]
  },
  {
   "cell_type": "code",
   "execution_count": 12,
   "metadata": {},
   "outputs": [
    {
     "data": {
      "text/html": [
       "<div>\n",
       "<style scoped>\n",
       "    .dataframe tbody tr th:only-of-type {\n",
       "        vertical-align: middle;\n",
       "    }\n",
       "\n",
       "    .dataframe tbody tr th {\n",
       "        vertical-align: top;\n",
       "    }\n",
       "\n",
       "    .dataframe thead th {\n",
       "        text-align: right;\n",
       "    }\n",
       "</style>\n",
       "<table border=\"1\" class=\"dataframe\">\n",
       "  <thead>\n",
       "    <tr style=\"text-align: right;\">\n",
       "      <th></th>\n",
       "      <th>HouseAge</th>\n",
       "      <th>AveRooms</th>\n",
       "      <th>AveBedrms</th>\n",
       "      <th>Population</th>\n",
       "      <th>AveOccup</th>\n",
       "      <th>MedInc</th>\n",
       "      <th>Latitude</th>\n",
       "      <th>Longitude</th>\n",
       "    </tr>\n",
       "  </thead>\n",
       "  <tbody>\n",
       "    <tr>\n",
       "      <th>4712</th>\n",
       "      <td>39.0</td>\n",
       "      <td>4.503205</td>\n",
       "      <td>1.073718</td>\n",
       "      <td>1109.0</td>\n",
       "      <td>1.777244</td>\n",
       "      <td>3.2500</td>\n",
       "      <td>34.06</td>\n",
       "      <td>-118.36</td>\n",
       "    </tr>\n",
       "    <tr>\n",
       "      <th>2151</th>\n",
       "      <td>37.0</td>\n",
       "      <td>4.988584</td>\n",
       "      <td>1.038813</td>\n",
       "      <td>1143.0</td>\n",
       "      <td>2.609589</td>\n",
       "      <td>1.9784</td>\n",
       "      <td>36.78</td>\n",
       "      <td>-119.78</td>\n",
       "    </tr>\n",
       "    <tr>\n",
       "      <th>15927</th>\n",
       "      <td>46.0</td>\n",
       "      <td>4.480296</td>\n",
       "      <td>1.012315</td>\n",
       "      <td>1534.0</td>\n",
       "      <td>3.778325</td>\n",
       "      <td>4.0132</td>\n",
       "      <td>37.73</td>\n",
       "      <td>-122.42</td>\n",
       "    </tr>\n",
       "    <tr>\n",
       "      <th>82</th>\n",
       "      <td>52.0</td>\n",
       "      <td>3.908046</td>\n",
       "      <td>1.114943</td>\n",
       "      <td>200.0</td>\n",
       "      <td>2.298851</td>\n",
       "      <td>1.5208</td>\n",
       "      <td>37.81</td>\n",
       "      <td>-122.28</td>\n",
       "    </tr>\n",
       "    <tr>\n",
       "      <th>8161</th>\n",
       "      <td>37.0</td>\n",
       "      <td>5.406360</td>\n",
       "      <td>1.024735</td>\n",
       "      <td>711.0</td>\n",
       "      <td>2.512367</td>\n",
       "      <td>5.1795</td>\n",
       "      <td>33.82</td>\n",
       "      <td>-118.13</td>\n",
       "    </tr>\n",
       "  </tbody>\n",
       "</table>\n",
       "</div>"
      ],
      "text/plain": [
       "       HouseAge  AveRooms  AveBedrms  Population  AveOccup  MedInc  Latitude  \\\n",
       "4712       39.0  4.503205   1.073718      1109.0  1.777244  3.2500     34.06   \n",
       "2151       37.0  4.988584   1.038813      1143.0  2.609589  1.9784     36.78   \n",
       "15927      46.0  4.480296   1.012315      1534.0  3.778325  4.0132     37.73   \n",
       "82         52.0  3.908046   1.114943       200.0  2.298851  1.5208     37.81   \n",
       "8161       37.0  5.406360   1.024735       711.0  2.512367  5.1795     33.82   \n",
       "\n",
       "       Longitude  \n",
       "4712     -118.36  \n",
       "2151     -119.78  \n",
       "15927    -122.42  \n",
       "82       -122.28  \n",
       "8161     -118.13  "
      ]
     },
     "execution_count": 12,
     "metadata": {},
     "output_type": "execute_result"
    }
   ],
   "source": [
    "X_test.head()"
   ]
  },
  {
   "cell_type": "code",
   "execution_count": 13,
   "metadata": {},
   "outputs": [
    {
     "data": {
      "text/plain": [
       "4712     3.550\n",
       "2151     0.707\n",
       "15927    2.294\n",
       "82       1.125\n",
       "8161     2.254\n",
       "Name: medianHouseValue, dtype: float64"
      ]
     },
     "execution_count": 13,
     "metadata": {},
     "output_type": "execute_result"
    }
   ],
   "source": [
    "y_test.head()"
   ]
  },
  {
   "cell_type": "markdown",
   "metadata": {},
   "source": [
    "### Scale the Feature Data\n",
    "\n",
    "** Use sklearn preprocessing to create a MinMaxScaler for the feature data. Fit this scaler only to the training data. Then use it to transform X_test and X_train. Then use the scaled X_test and X_train along with pd.Dataframe to re-create two dataframes of scaled data.**"
   ]
  },
  {
   "cell_type": "code",
   "execution_count": 14,
   "metadata": {
    "collapsed": true
   },
   "outputs": [],
   "source": [
    "from sklearn.preprocessing import MinMaxScaler\n",
    "scaler = MinMaxScaler()"
   ]
  },
  {
   "cell_type": "code",
   "execution_count": 15,
   "metadata": {},
   "outputs": [
    {
     "data": {
      "text/plain": [
       "MinMaxScaler(copy=True, feature_range=(0, 1))"
      ]
     },
     "execution_count": 15,
     "metadata": {},
     "output_type": "execute_result"
    }
   ],
   "source": [
    "scaler.fit(X_train)"
   ]
  },
  {
   "cell_type": "code",
   "execution_count": 16,
   "metadata": {
    "collapsed": true
   },
   "outputs": [],
   "source": [
    "X_train_scaled  = scaler.transform(X_train)\n",
    "X_test_scaled = scaler.transform(X_test)"
   ]
  },
  {
   "cell_type": "code",
   "execution_count": 17,
   "metadata": {},
   "outputs": [
    {
     "data": {
      "text/plain": [
       "Index(['HouseAge', 'AveRooms', 'AveBedrms', 'Population', 'AveOccup', 'MedInc',\n",
       "       'Latitude', 'Longitude'],\n",
       "      dtype='object')"
      ]
     },
     "execution_count": 17,
     "metadata": {},
     "output_type": "execute_result"
    }
   ],
   "source": [
    "cols= X_train.columns\n",
    "cols"
   ]
  },
  {
   "cell_type": "code",
   "execution_count": 18,
   "metadata": {},
   "outputs": [
    {
     "data": {
      "text/html": [
       "<div>\n",
       "<style scoped>\n",
       "    .dataframe tbody tr th:only-of-type {\n",
       "        vertical-align: middle;\n",
       "    }\n",
       "\n",
       "    .dataframe tbody tr th {\n",
       "        vertical-align: top;\n",
       "    }\n",
       "\n",
       "    .dataframe thead th {\n",
       "        text-align: right;\n",
       "    }\n",
       "</style>\n",
       "<table border=\"1\" class=\"dataframe\">\n",
       "  <thead>\n",
       "    <tr style=\"text-align: right;\">\n",
       "      <th></th>\n",
       "      <th>HouseAge</th>\n",
       "      <th>AveRooms</th>\n",
       "      <th>AveBedrms</th>\n",
       "      <th>Population</th>\n",
       "      <th>AveOccup</th>\n",
       "      <th>MedInc</th>\n",
       "      <th>Latitude</th>\n",
       "      <th>Longitude</th>\n",
       "    </tr>\n",
       "  </thead>\n",
       "  <tbody>\n",
       "    <tr>\n",
       "      <th>5748</th>\n",
       "      <td>0.274510</td>\n",
       "      <td>0.024385</td>\n",
       "      <td>0.022891</td>\n",
       "      <td>0.088596</td>\n",
       "      <td>0.001563</td>\n",
       "      <td>0.166543</td>\n",
       "      <td>0.172157</td>\n",
       "      <td>0.603604</td>\n",
       "    </tr>\n",
       "    <tr>\n",
       "      <th>5592</th>\n",
       "      <td>0.784314</td>\n",
       "      <td>0.025156</td>\n",
       "      <td>0.021388</td>\n",
       "      <td>0.046386</td>\n",
       "      <td>0.002323</td>\n",
       "      <td>0.184687</td>\n",
       "      <td>0.133900</td>\n",
       "      <td>0.604605</td>\n",
       "    </tr>\n",
       "    <tr>\n",
       "      <th>2110</th>\n",
       "      <td>0.941176</td>\n",
       "      <td>0.028644</td>\n",
       "      <td>0.018706</td>\n",
       "      <td>0.036072</td>\n",
       "      <td>0.001573</td>\n",
       "      <td>0.138702</td>\n",
       "      <td>0.447396</td>\n",
       "      <td>0.455455</td>\n",
       "    </tr>\n",
       "    <tr>\n",
       "      <th>13901</th>\n",
       "      <td>0.274510</td>\n",
       "      <td>0.039688</td>\n",
       "      <td>0.032282</td>\n",
       "      <td>0.071891</td>\n",
       "      <td>0.001319</td>\n",
       "      <td>0.140729</td>\n",
       "      <td>0.161530</td>\n",
       "      <td>0.774775</td>\n",
       "    </tr>\n",
       "    <tr>\n",
       "      <th>18425</th>\n",
       "      <td>0.117647</td>\n",
       "      <td>0.031515</td>\n",
       "      <td>0.022762</td>\n",
       "      <td>0.048656</td>\n",
       "      <td>0.001448</td>\n",
       "      <td>0.276093</td>\n",
       "      <td>0.501594</td>\n",
       "      <td>0.247247</td>\n",
       "    </tr>\n",
       "  </tbody>\n",
       "</table>\n",
       "</div>"
      ],
      "text/plain": [
       "       HouseAge  AveRooms  AveBedrms  Population  AveOccup    MedInc  \\\n",
       "5748   0.274510  0.024385   0.022891    0.088596  0.001563  0.166543   \n",
       "5592   0.784314  0.025156   0.021388    0.046386  0.002323  0.184687   \n",
       "2110   0.941176  0.028644   0.018706    0.036072  0.001573  0.138702   \n",
       "13901  0.274510  0.039688   0.032282    0.071891  0.001319  0.140729   \n",
       "18425  0.117647  0.031515   0.022762    0.048656  0.001448  0.276093   \n",
       "\n",
       "       Latitude  Longitude  \n",
       "5748   0.172157   0.603604  \n",
       "5592   0.133900   0.604605  \n",
       "2110   0.447396   0.455455  \n",
       "13901  0.161530   0.774775  \n",
       "18425  0.501594   0.247247  "
      ]
     },
     "execution_count": 18,
     "metadata": {},
     "output_type": "execute_result"
    }
   ],
   "source": [
    "X_train = pd.DataFrame(data=X_train_scaled, columns=X_train.columns, index =X_train.index)\n",
    "X_train.head()"
   ]
  },
  {
   "cell_type": "code",
   "execution_count": 19,
   "metadata": {},
   "outputs": [
    {
     "data": {
      "text/html": [
       "<div>\n",
       "<style scoped>\n",
       "    .dataframe tbody tr th:only-of-type {\n",
       "        vertical-align: middle;\n",
       "    }\n",
       "\n",
       "    .dataframe tbody tr th {\n",
       "        vertical-align: top;\n",
       "    }\n",
       "\n",
       "    .dataframe thead th {\n",
       "        text-align: right;\n",
       "    }\n",
       "</style>\n",
       "<table border=\"1\" class=\"dataframe\">\n",
       "  <thead>\n",
       "    <tr style=\"text-align: right;\">\n",
       "      <th></th>\n",
       "      <th>HouseAge</th>\n",
       "      <th>AveRooms</th>\n",
       "      <th>AveBedrms</th>\n",
       "      <th>Population</th>\n",
       "      <th>AveOccup</th>\n",
       "      <th>MedInc</th>\n",
       "      <th>Latitude</th>\n",
       "      <th>Longitude</th>\n",
       "    </tr>\n",
       "  </thead>\n",
       "  <tbody>\n",
       "    <tr>\n",
       "      <th>4712</th>\n",
       "      <td>0.745098</td>\n",
       "      <td>0.025925</td>\n",
       "      <td>0.021948</td>\n",
       "      <td>0.030999</td>\n",
       "      <td>0.000827</td>\n",
       "      <td>0.189659</td>\n",
       "      <td>0.161530</td>\n",
       "      <td>0.594595</td>\n",
       "    </tr>\n",
       "    <tr>\n",
       "      <th>2151</th>\n",
       "      <td>0.705882</td>\n",
       "      <td>0.029366</td>\n",
       "      <td>0.020913</td>\n",
       "      <td>0.031952</td>\n",
       "      <td>0.001497</td>\n",
       "      <td>0.101964</td>\n",
       "      <td>0.450584</td>\n",
       "      <td>0.452452</td>\n",
       "    </tr>\n",
       "    <tr>\n",
       "      <th>15927</th>\n",
       "      <td>0.882353</td>\n",
       "      <td>0.025763</td>\n",
       "      <td>0.020128</td>\n",
       "      <td>0.042910</td>\n",
       "      <td>0.002437</td>\n",
       "      <td>0.242293</td>\n",
       "      <td>0.551541</td>\n",
       "      <td>0.188188</td>\n",
       "    </tr>\n",
       "    <tr>\n",
       "      <th>82</th>\n",
       "      <td>1.000000</td>\n",
       "      <td>0.021706</td>\n",
       "      <td>0.023170</td>\n",
       "      <td>0.005521</td>\n",
       "      <td>0.001246</td>\n",
       "      <td>0.070406</td>\n",
       "      <td>0.560043</td>\n",
       "      <td>0.202202</td>\n",
       "    </tr>\n",
       "    <tr>\n",
       "      <th>8161</th>\n",
       "      <td>0.705882</td>\n",
       "      <td>0.032327</td>\n",
       "      <td>0.020496</td>\n",
       "      <td>0.019844</td>\n",
       "      <td>0.001418</td>\n",
       "      <td>0.322727</td>\n",
       "      <td>0.136026</td>\n",
       "      <td>0.617618</td>\n",
       "    </tr>\n",
       "  </tbody>\n",
       "</table>\n",
       "</div>"
      ],
      "text/plain": [
       "       HouseAge  AveRooms  AveBedrms  Population  AveOccup    MedInc  \\\n",
       "4712   0.745098  0.025925   0.021948    0.030999  0.000827  0.189659   \n",
       "2151   0.705882  0.029366   0.020913    0.031952  0.001497  0.101964   \n",
       "15927  0.882353  0.025763   0.020128    0.042910  0.002437  0.242293   \n",
       "82     1.000000  0.021706   0.023170    0.005521  0.001246  0.070406   \n",
       "8161   0.705882  0.032327   0.020496    0.019844  0.001418  0.322727   \n",
       "\n",
       "       Latitude  Longitude  \n",
       "4712   0.161530   0.594595  \n",
       "2151   0.450584   0.452452  \n",
       "15927  0.551541   0.188188  \n",
       "82     0.560043   0.202202  \n",
       "8161   0.136026   0.617618  "
      ]
     },
     "execution_count": 19,
     "metadata": {},
     "output_type": "execute_result"
    }
   ],
   "source": [
    "X_test = pd.DataFrame(data= X_test_scaled, columns=cols, index=X_test.index)\n",
    "X_test.head()"
   ]
  },
  {
   "cell_type": "markdown",
   "metadata": {},
   "source": [
    "### Create Feature Columns\n",
    "\n",
    "** Create the necessary tf.feature_column objects for the estimator. They should all be trated as continuous numeric_columns. **"
   ]
  },
  {
   "cell_type": "code",
   "execution_count": 21,
   "metadata": {},
   "outputs": [
    {
     "name": "stderr",
     "output_type": "stream",
     "text": [
      "C:\\ProgramData\\Anaconda3\\lib\\site-packages\\h5py\\__init__.py:34: FutureWarning: Conversion of the second argument of issubdtype from `float` to `np.floating` is deprecated. In future, it will be treated as `np.float64 == np.dtype(float).type`.\n",
      "  from ._conv import register_converters as _register_converters\n"
     ]
    }
   ],
   "source": [
    "import tensorflow as tf"
   ]
  },
  {
   "cell_type": "code",
   "execution_count": 22,
   "metadata": {},
   "outputs": [
    {
     "data": {
      "text/plain": [
       "[_NumericColumn(key='HouseAge', shape=(1,), default_value=None, dtype=tf.float32, normalizer_fn=None),\n",
       " _NumericColumn(key='AveRooms', shape=(1,), default_value=None, dtype=tf.float32, normalizer_fn=None),\n",
       " _NumericColumn(key='AveBedrms', shape=(1,), default_value=None, dtype=tf.float32, normalizer_fn=None),\n",
       " _NumericColumn(key='Population', shape=(1,), default_value=None, dtype=tf.float32, normalizer_fn=None),\n",
       " _NumericColumn(key='AveOccup', shape=(1,), default_value=None, dtype=tf.float32, normalizer_fn=None),\n",
       " _NumericColumn(key='MedInc', shape=(1,), default_value=None, dtype=tf.float32, normalizer_fn=None),\n",
       " _NumericColumn(key='Latitude', shape=(1,), default_value=None, dtype=tf.float32, normalizer_fn=None),\n",
       " _NumericColumn(key='Longitude', shape=(1,), default_value=None, dtype=tf.float32, normalizer_fn=None)]"
      ]
     },
     "execution_count": 22,
     "metadata": {},
     "output_type": "execute_result"
    }
   ],
   "source": [
    "features = [tf.feature_column.numeric_column(key=col) for col in X_train.columns]\n",
    "features"
   ]
  },
  {
   "cell_type": "markdown",
   "metadata": {},
   "source": [
    "** Create the input function for the estimator object. (play around with batch_size and num_epochs)**"
   ]
  },
  {
   "cell_type": "code",
   "execution_count": 23,
   "metadata": {},
   "outputs": [],
   "source": [
    "#на 1й ошибка меньше\n",
    "input_func1 = tf.estimator.inputs.pandas_input_fn(x = X_train, y = y_train, batch_size=5, num_epochs=500, shuffle=True) \n",
    "input_func2 = tf.estimator.inputs.pandas_input_fn(x=X_train, y=y_train, batch_size=10,num_epochs=1000,shuffle=True)\n",
    "input_func3 = tf.estimator.inputs.pandas_input_fn(x=X_train, y=y_train, batch_size=100,num_epochs=500,shuffle=True)"
   ]
  },
  {
   "cell_type": "markdown",
   "metadata": {},
   "source": [
    "** Create the estimator model. Use a DNNRegressor. Play around with the hidden units! **"
   ]
  },
  {
   "cell_type": "code",
   "execution_count": 24,
   "metadata": {},
   "outputs": [
    {
     "name": "stdout",
     "output_type": "stream",
     "text": [
      "INFO:tensorflow:Using default config.\n",
      "WARNING:tensorflow:Using temporary folder as model directory: C:\\Users\\ALEKSA~1\\AppData\\Local\\Temp\\tmpeeudf31x\n",
      "INFO:tensorflow:Using config: {'_model_dir': 'C:\\\\Users\\\\ALEKSA~1\\\\AppData\\\\Local\\\\Temp\\\\tmpeeudf31x', '_tf_random_seed': None, '_save_summary_steps': 100, '_save_checkpoints_steps': None, '_save_checkpoints_secs': 600, '_session_config': None, '_keep_checkpoint_max': 5, '_keep_checkpoint_every_n_hours': 10000, '_log_step_count_steps': 100, '_train_distribute': None, '_device_fn': None, '_service': None, '_cluster_spec': <tensorflow.python.training.server_lib.ClusterSpec object at 0x00000287FE0A9358>, '_task_type': 'worker', '_task_id': 0, '_global_id_in_cluster': 0, '_master': '', '_evaluation_master': '', '_is_chief': True, '_num_ps_replicas': 0, '_num_worker_replicas': 1}\n",
      "INFO:tensorflow:Using default config.\n",
      "WARNING:tensorflow:Using temporary folder as model directory: C:\\Users\\ALEKSA~1\\AppData\\Local\\Temp\\tmpdkfl2pzq\n",
      "INFO:tensorflow:Using config: {'_model_dir': 'C:\\\\Users\\\\ALEKSA~1\\\\AppData\\\\Local\\\\Temp\\\\tmpdkfl2pzq', '_tf_random_seed': None, '_save_summary_steps': 100, '_save_checkpoints_steps': None, '_save_checkpoints_secs': 600, '_session_config': None, '_keep_checkpoint_max': 5, '_keep_checkpoint_every_n_hours': 10000, '_log_step_count_steps': 100, '_train_distribute': None, '_device_fn': None, '_service': None, '_cluster_spec': <tensorflow.python.training.server_lib.ClusterSpec object at 0x00000287811D75F8>, '_task_type': 'worker', '_task_id': 0, '_global_id_in_cluster': 0, '_master': '', '_evaluation_master': '', '_is_chief': True, '_num_ps_replicas': 0, '_num_worker_replicas': 1}\n",
      "INFO:tensorflow:Using default config.\n",
      "WARNING:tensorflow:Using temporary folder as model directory: C:\\Users\\ALEKSA~1\\AppData\\Local\\Temp\\tmpbkee4_s7\n",
      "INFO:tensorflow:Using config: {'_model_dir': 'C:\\\\Users\\\\ALEKSA~1\\\\AppData\\\\Local\\\\Temp\\\\tmpbkee4_s7', '_tf_random_seed': None, '_save_summary_steps': 100, '_save_checkpoints_steps': None, '_save_checkpoints_secs': 600, '_session_config': None, '_keep_checkpoint_max': 5, '_keep_checkpoint_every_n_hours': 10000, '_log_step_count_steps': 100, '_train_distribute': None, '_device_fn': None, '_service': None, '_cluster_spec': <tensorflow.python.training.server_lib.ClusterSpec object at 0x00000287811D7908>, '_task_type': 'worker', '_task_id': 0, '_global_id_in_cluster': 0, '_master': '', '_evaluation_master': '', '_is_chief': True, '_num_ps_replicas': 0, '_num_worker_replicas': 1}\n"
     ]
    }
   ],
   "source": [
    "model1 = tf.estimator.DNNRegressor(hidden_units=[10, 20, 10, 30, 10], feature_columns=features)\n",
    "model2 = tf.estimator.DNNRegressor(hidden_units=[8, 10, 15, 10, 8], feature_columns=features) \n",
    "model3 = tf.estimator.DNNRegressor(hidden_units=[6, 8, 10, 8, 6], feature_columns=features)"
   ]
  },
  {
   "cell_type": "markdown",
   "metadata": {},
   "source": [
    "##### ** Train the model for ~1,000 steps. (Later come back to this and train it for more and check for improvement) **"
   ]
  },
  {
   "cell_type": "code",
   "execution_count": 25,
   "metadata": {},
   "outputs": [
    {
     "name": "stdout",
     "output_type": "stream",
     "text": [
      "INFO:tensorflow:Calling model_fn.\n",
      "INFO:tensorflow:Done calling model_fn.\n",
      "INFO:tensorflow:Create CheckpointSaverHook.\n",
      "INFO:tensorflow:Graph was finalized.\n",
      "INFO:tensorflow:Running local_init_op.\n",
      "INFO:tensorflow:Done running local_init_op.\n",
      "INFO:tensorflow:Saving checkpoints for 0 into C:\\Users\\ALEKSA~1\\AppData\\Local\\Temp\\tmpeeudf31x\\model.ckpt.\n",
      "INFO:tensorflow:loss = 508.32724, step = 1\n",
      "INFO:tensorflow:global_step/sec: 49.2592\n",
      "INFO:tensorflow:loss = 65.39612, step = 101 (2.033 sec)\n",
      "INFO:tensorflow:global_step/sec: 97.4802\n",
      "INFO:tensorflow:loss = 63.684517, step = 201 (1.023 sec)\n",
      "INFO:tensorflow:global_step/sec: 96.6178\n",
      "INFO:tensorflow:loss = 47.048973, step = 301 (1.039 sec)\n",
      "INFO:tensorflow:global_step/sec: 93.9295\n",
      "INFO:tensorflow:loss = 58.837875, step = 401 (1.076 sec)\n",
      "INFO:tensorflow:global_step/sec: 97.024\n",
      "INFO:tensorflow:loss = 45.18285, step = 501 (1.023 sec)\n",
      "INFO:tensorflow:global_step/sec: 88.0187\n",
      "INFO:tensorflow:loss = 48.63078, step = 601 (1.132 sec)\n",
      "INFO:tensorflow:global_step/sec: 94.3718\n",
      "INFO:tensorflow:loss = 40.884995, step = 701 (1.056 sec)\n",
      "INFO:tensorflow:global_step/sec: 93.9117\n",
      "INFO:tensorflow:loss = 57.37623, step = 801 (1.065 sec)\n",
      "INFO:tensorflow:global_step/sec: 101.38\n",
      "INFO:tensorflow:loss = 65.02914, step = 901 (1.002 sec)\n",
      "INFO:tensorflow:Saving checkpoints for 1000 into C:\\Users\\ALEKSA~1\\AppData\\Local\\Temp\\tmpeeudf31x\\model.ckpt.\n",
      "INFO:tensorflow:Loss for final step: 42.77321.\n"
     ]
    },
    {
     "data": {
      "text/plain": [
       "<tensorflow.python.estimator.canned.dnn.DNNRegressor at 0x287811d7518>"
      ]
     },
     "execution_count": 25,
     "metadata": {},
     "output_type": "execute_result"
    }
   ],
   "source": [
    "model1.train(input_fn=input_func3, steps=1000)"
   ]
  },
  {
   "cell_type": "code",
   "execution_count": 26,
   "metadata": {},
   "outputs": [
    {
     "name": "stdout",
     "output_type": "stream",
     "text": [
      "INFO:tensorflow:Calling model_fn.\n",
      "INFO:tensorflow:Done calling model_fn.\n",
      "INFO:tensorflow:Create CheckpointSaverHook.\n",
      "INFO:tensorflow:Graph was finalized.\n",
      "INFO:tensorflow:Running local_init_op.\n",
      "INFO:tensorflow:Done running local_init_op.\n",
      "INFO:tensorflow:Saving checkpoints for 0 into C:\\Users\\ALEKSA~1\\AppData\\Local\\Temp\\tmpdkfl2pzq\\model.ckpt.\n",
      "INFO:tensorflow:loss = 561.5715, step = 1\n",
      "INFO:tensorflow:global_step/sec: 53.7343\n",
      "INFO:tensorflow:loss = 72.141754, step = 101 (1.877 sec)\n",
      "INFO:tensorflow:global_step/sec: 97.8275\n",
      "INFO:tensorflow:loss = 74.962265, step = 201 (1.022 sec)\n",
      "INFO:tensorflow:global_step/sec: 95.6217\n",
      "INFO:tensorflow:loss = 40.420197, step = 301 (1.046 sec)\n",
      "INFO:tensorflow:global_step/sec: 95.3319\n",
      "INFO:tensorflow:loss = 62.478832, step = 401 (1.033 sec)\n",
      "INFO:tensorflow:global_step/sec: 90.5739\n",
      "INFO:tensorflow:loss = 53.330948, step = 501 (1.104 sec)\n",
      "INFO:tensorflow:global_step/sec: 101.857\n",
      "INFO:tensorflow:loss = 51.744583, step = 601 (0.995 sec)\n",
      "INFO:tensorflow:global_step/sec: 99.3294\n",
      "INFO:tensorflow:loss = 58.782814, step = 701 (0.993 sec)\n",
      "INFO:tensorflow:global_step/sec: 101.522\n",
      "INFO:tensorflow:loss = 43.58141, step = 801 (1.001 sec)\n",
      "INFO:tensorflow:global_step/sec: 97.7896\n",
      "INFO:tensorflow:loss = 55.078026, step = 901 (1.007 sec)\n",
      "INFO:tensorflow:Saving checkpoints for 1000 into C:\\Users\\ALEKSA~1\\AppData\\Local\\Temp\\tmpdkfl2pzq\\model.ckpt.\n",
      "INFO:tensorflow:Loss for final step: 72.88109.\n"
     ]
    },
    {
     "data": {
      "text/plain": [
       "<tensorflow.python.estimator.canned.dnn.DNNRegressor at 0x287f3776588>"
      ]
     },
     "execution_count": 26,
     "metadata": {},
     "output_type": "execute_result"
    }
   ],
   "source": [
    "model2.train(input_fn=input_func3, steps=1000)"
   ]
  },
  {
   "cell_type": "code",
   "execution_count": 27,
   "metadata": {},
   "outputs": [
    {
     "name": "stdout",
     "output_type": "stream",
     "text": [
      "INFO:tensorflow:Calling model_fn.\n",
      "INFO:tensorflow:Done calling model_fn.\n",
      "INFO:tensorflow:Create CheckpointSaverHook.\n",
      "INFO:tensorflow:Graph was finalized.\n",
      "INFO:tensorflow:Running local_init_op.\n",
      "INFO:tensorflow:Done running local_init_op.\n",
      "INFO:tensorflow:Saving checkpoints for 0 into C:\\Users\\ALEKSA~1\\AppData\\Local\\Temp\\tmpbkee4_s7\\model.ckpt.\n",
      "INFO:tensorflow:loss = 577.3456, step = 1\n",
      "INFO:tensorflow:global_step/sec: 52.809\n",
      "INFO:tensorflow:loss = 54.582726, step = 101 (1.909 sec)\n",
      "INFO:tensorflow:global_step/sec: 101.49\n",
      "INFO:tensorflow:loss = 74.568, step = 201 (0.970 sec)\n",
      "INFO:tensorflow:global_step/sec: 100.453\n",
      "INFO:tensorflow:loss = 54.233475, step = 301 (0.995 sec)\n",
      "INFO:tensorflow:global_step/sec: 101.167\n",
      "INFO:tensorflow:loss = 50.986954, step = 401 (0.988 sec)\n",
      "INFO:tensorflow:global_step/sec: 99.5324\n",
      "INFO:tensorflow:loss = 49.6856, step = 501 (1.005 sec)\n",
      "INFO:tensorflow:global_step/sec: 101.232\n",
      "INFO:tensorflow:loss = 49.902443, step = 601 (0.988 sec)\n",
      "INFO:tensorflow:global_step/sec: 101.645\n",
      "INFO:tensorflow:loss = 35.64913, step = 701 (0.984 sec)\n",
      "INFO:tensorflow:global_step/sec: 99.7116\n",
      "INFO:tensorflow:loss = 22.388783, step = 801 (1.003 sec)\n",
      "INFO:tensorflow:global_step/sec: 98.7393\n",
      "INFO:tensorflow:loss = 43.376724, step = 901 (1.013 sec)\n",
      "INFO:tensorflow:Saving checkpoints for 1000 into C:\\Users\\ALEKSA~1\\AppData\\Local\\Temp\\tmpbkee4_s7\\model.ckpt.\n",
      "INFO:tensorflow:Loss for final step: 71.859085.\n"
     ]
    },
    {
     "data": {
      "text/plain": [
       "<tensorflow.python.estimator.canned.dnn.DNNRegressor at 0x287f3776160>"
      ]
     },
     "execution_count": 27,
     "metadata": {},
     "output_type": "execute_result"
    }
   ],
   "source": [
    "model3.train(input_fn=input_func3, steps=1000)"
   ]
  },
  {
   "cell_type": "markdown",
   "metadata": {},
   "source": [
    "**с 3 тысячами шагами:**"
   ]
  },
  {
   "cell_type": "code",
   "execution_count": 28,
   "metadata": {},
   "outputs": [
    {
     "name": "stdout",
     "output_type": "stream",
     "text": [
      "INFO:tensorflow:Calling model_fn.\n",
      "INFO:tensorflow:Done calling model_fn.\n",
      "INFO:tensorflow:Create CheckpointSaverHook.\n",
      "INFO:tensorflow:Graph was finalized.\n",
      "INFO:tensorflow:Restoring parameters from C:\\Users\\ALEKSA~1\\AppData\\Local\\Temp\\tmpeeudf31x\\model.ckpt-1000\n",
      "INFO:tensorflow:Running local_init_op.\n",
      "INFO:tensorflow:Done running local_init_op.\n",
      "INFO:tensorflow:Saving checkpoints for 1000 into C:\\Users\\ALEKSA~1\\AppData\\Local\\Temp\\tmpeeudf31x\\model.ckpt.\n",
      "INFO:tensorflow:loss = 52.67546, step = 1001\n",
      "INFO:tensorflow:global_step/sec: 53.2483\n",
      "INFO:tensorflow:loss = 50.37603, step = 1101 (1.878 sec)\n",
      "INFO:tensorflow:global_step/sec: 100.497\n",
      "INFO:tensorflow:loss = 54.383465, step = 1201 (1.011 sec)\n",
      "INFO:tensorflow:global_step/sec: 100.147\n",
      "INFO:tensorflow:loss = 35.53106, step = 1301 (0.983 sec)\n",
      "INFO:tensorflow:global_step/sec: 99.9696\n",
      "INFO:tensorflow:loss = 46.299854, step = 1401 (1.016 sec)\n",
      "INFO:tensorflow:global_step/sec: 96.9593\n",
      "INFO:tensorflow:loss = 54.978725, step = 1501 (1.031 sec)\n",
      "INFO:tensorflow:global_step/sec: 98.8493\n",
      "INFO:tensorflow:loss = 49.82315, step = 1601 (0.996 sec)\n",
      "INFO:tensorflow:global_step/sec: 100.21\n",
      "INFO:tensorflow:loss = 48.701603, step = 1701 (0.998 sec)\n",
      "INFO:tensorflow:global_step/sec: 101.481\n",
      "INFO:tensorflow:loss = 54.211853, step = 1801 (1.001 sec)\n",
      "INFO:tensorflow:global_step/sec: 98.0122\n",
      "INFO:tensorflow:loss = 67.99196, step = 1901 (1.005 sec)\n",
      "INFO:tensorflow:global_step/sec: 99.6068\n",
      "INFO:tensorflow:loss = 48.88318, step = 2001 (1.004 sec)\n",
      "INFO:tensorflow:global_step/sec: 101.266\n",
      "INFO:tensorflow:loss = 59.302353, step = 2101 (1.003 sec)\n",
      "INFO:tensorflow:global_step/sec: 98.4949\n",
      "INFO:tensorflow:loss = 48.97122, step = 2201 (1.000 sec)\n",
      "INFO:tensorflow:global_step/sec: 102.302\n",
      "INFO:tensorflow:loss = 45.435448, step = 2301 (0.977 sec)\n",
      "INFO:tensorflow:global_step/sec: 99.5532\n",
      "INFO:tensorflow:loss = 44.02008, step = 2401 (1.020 sec)\n",
      "INFO:tensorflow:global_step/sec: 99.0101\n",
      "INFO:tensorflow:loss = 38.845818, step = 2501 (0.994 sec)\n",
      "INFO:tensorflow:global_step/sec: 103.376\n",
      "INFO:tensorflow:loss = 33.410152, step = 2601 (0.983 sec)\n",
      "INFO:tensorflow:global_step/sec: 99.8401\n",
      "INFO:tensorflow:loss = 67.30178, step = 2701 (1.002 sec)\n",
      "INFO:tensorflow:global_step/sec: 99.1872\n",
      "INFO:tensorflow:loss = 35.71276, step = 2801 (0.993 sec)\n",
      "INFO:tensorflow:global_step/sec: 100.475\n",
      "INFO:tensorflow:loss = 44.83497, step = 2901 (0.995 sec)\n",
      "INFO:tensorflow:global_step/sec: 98.4234\n",
      "INFO:tensorflow:loss = 40.66523, step = 3001 (1.032 sec)\n",
      "INFO:tensorflow:global_step/sec: 102.906\n",
      "INFO:tensorflow:loss = 44.532017, step = 3101 (0.972 sec)\n",
      "INFO:tensorflow:global_step/sec: 100.027\n",
      "INFO:tensorflow:loss = 40.950096, step = 3201 (0.984 sec)\n",
      "INFO:tensorflow:global_step/sec: 100.873\n",
      "INFO:tensorflow:loss = 42.236153, step = 3301 (0.991 sec)\n",
      "INFO:tensorflow:global_step/sec: 101.101\n",
      "INFO:tensorflow:loss = 57.624565, step = 3401 (0.989 sec)\n",
      "INFO:tensorflow:global_step/sec: 99.5003\n",
      "INFO:tensorflow:loss = 53.93315, step = 3501 (1.021 sec)\n",
      "INFO:tensorflow:global_step/sec: 101.714\n",
      "INFO:tensorflow:loss = 51.78793, step = 3601 (0.983 sec)\n",
      "INFO:tensorflow:global_step/sec: 101.238\n",
      "INFO:tensorflow:loss = 36.771545, step = 3701 (0.972 sec)\n",
      "INFO:tensorflow:global_step/sec: 100.14\n",
      "INFO:tensorflow:loss = 33.679596, step = 3801 (1.014 sec)\n",
      "INFO:tensorflow:global_step/sec: 99.1289\n",
      "INFO:tensorflow:loss = 47.79811, step = 3901 (1.009 sec)\n",
      "INFO:tensorflow:global_step/sec: 101.352\n",
      "INFO:tensorflow:loss = 38.207825, step = 4001 (0.987 sec)\n",
      "INFO:tensorflow:global_step/sec: 98.1056\n",
      "INFO:tensorflow:loss = 50.109474, step = 4101 (1.019 sec)\n",
      "INFO:tensorflow:global_step/sec: 99.2762\n",
      "INFO:tensorflow:loss = 65.84997, step = 4201 (0.992 sec)\n",
      "INFO:tensorflow:global_step/sec: 103.978\n",
      "INFO:tensorflow:loss = 28.771107, step = 4301 (0.977 sec)\n",
      "INFO:tensorflow:global_step/sec: 99.8971\n",
      "INFO:tensorflow:loss = 68.14691, step = 4401 (0.985 sec)\n",
      "INFO:tensorflow:global_step/sec: 101.551\n",
      "INFO:tensorflow:loss = 56.04214, step = 4501 (0.985 sec)\n",
      "INFO:tensorflow:global_step/sec: 100.128\n",
      "INFO:tensorflow:loss = 46.530617, step = 4601 (1.014 sec)\n",
      "INFO:tensorflow:global_step/sec: 99.1278\n",
      "INFO:tensorflow:loss = 32.796204, step = 4701 (0.993 sec)\n",
      "INFO:tensorflow:global_step/sec: 99.9913\n",
      "INFO:tensorflow:loss = 41.87778, step = 4801 (1.000 sec)\n",
      "INFO:tensorflow:global_step/sec: 106.055\n",
      "INFO:tensorflow:loss = 48.819393, step = 4901 (0.959 sec)\n",
      "INFO:tensorflow:global_step/sec: 99.8297\n",
      "INFO:tensorflow:loss = 47.225452, step = 5001 (0.986 sec)\n",
      "INFO:tensorflow:global_step/sec: 101.315\n",
      "INFO:tensorflow:loss = 41.234943, step = 5101 (0.987 sec)\n",
      "INFO:tensorflow:global_step/sec: 100.817\n",
      "INFO:tensorflow:loss = 62.242958, step = 5201 (1.008 sec)\n",
      "INFO:tensorflow:global_step/sec: 99.2082\n",
      "INFO:tensorflow:loss = 55.75073, step = 5301 (0.992 sec)\n",
      "INFO:tensorflow:global_step/sec: 101.066\n",
      "INFO:tensorflow:loss = 38.58183, step = 5401 (1.005 sec)\n",
      "INFO:tensorflow:global_step/sec: 98.7305\n",
      "INFO:tensorflow:loss = 59.695732, step = 5501 (0.997 sec)\n",
      "INFO:tensorflow:global_step/sec: 102.243\n",
      "INFO:tensorflow:loss = 41.674595, step = 5601 (0.978 sec)\n",
      "INFO:tensorflow:global_step/sec: 101.844\n",
      "INFO:tensorflow:loss = 46.18409, step = 5701 (0.982 sec)\n",
      "INFO:tensorflow:global_step/sec: 98.9279\n",
      "INFO:tensorflow:loss = 54.611862, step = 5801 (1.011 sec)\n",
      "INFO:tensorflow:global_step/sec: 97.3753\n",
      "INFO:tensorflow:loss = 30.441229, step = 5901 (1.027 sec)\n",
      "INFO:tensorflow:Saving checkpoints for 6000 into C:\\Users\\ALEKSA~1\\AppData\\Local\\Temp\\tmpeeudf31x\\model.ckpt.\n",
      "INFO:tensorflow:Loss for final step: 41.694687.\n"
     ]
    },
    {
     "data": {
      "text/plain": [
       "<tensorflow.python.estimator.canned.dnn.DNNRegressor at 0x287811d7518>"
      ]
     },
     "execution_count": 28,
     "metadata": {},
     "output_type": "execute_result"
    }
   ],
   "source": [
    "model1.train(input_fn=input_func3, steps=5000)"
   ]
  },
  {
   "cell_type": "markdown",
   "metadata": {},
   "source": [
    "** Create a prediction input function and then use the .predict method off your estimator model to create a list or predictions on your test data. **"
   ]
  },
  {
   "cell_type": "code",
   "execution_count": 29,
   "metadata": {
    "collapsed": true
   },
   "outputs": [],
   "source": [
    "#predict_input_func = tf.estimator.inputs.pandas_input_fn(x = X_test, batch_size=10, num_epochs=1, shuffle=True)\n",
    "predict_input_func = tf.estimator.inputs.pandas_input_fn(x = X_test, batch_size=20, num_epochs=1, shuffle=False)"
   ]
  },
  {
   "cell_type": "code",
   "execution_count": 30,
   "metadata": {},
   "outputs": [
    {
     "name": "stdout",
     "output_type": "stream",
     "text": [
      "INFO:tensorflow:Calling model_fn.\n",
      "INFO:tensorflow:Done calling model_fn.\n",
      "INFO:tensorflow:Graph was finalized.\n",
      "INFO:tensorflow:Restoring parameters from C:\\Users\\ALEKSA~1\\AppData\\Local\\Temp\\tmpeeudf31x\\model.ckpt-6000\n",
      "INFO:tensorflow:Running local_init_op.\n",
      "INFO:tensorflow:Done running local_init_op.\n"
     ]
    }
   ],
   "source": [
    "prediction1 = list(model1.predict(predict_input_func))"
   ]
  },
  {
   "cell_type": "code",
   "execution_count": 31,
   "metadata": {},
   "outputs": [
    {
     "name": "stdout",
     "output_type": "stream",
     "text": [
      "INFO:tensorflow:Calling model_fn.\n",
      "INFO:tensorflow:Done calling model_fn.\n",
      "INFO:tensorflow:Graph was finalized.\n",
      "INFO:tensorflow:Restoring parameters from C:\\Users\\ALEKSA~1\\AppData\\Local\\Temp\\tmpdkfl2pzq\\model.ckpt-1000\n",
      "INFO:tensorflow:Running local_init_op.\n",
      "INFO:tensorflow:Done running local_init_op.\n"
     ]
    }
   ],
   "source": [
    "prediction2 = list(model2.predict(predict_input_func))"
   ]
  },
  {
   "cell_type": "code",
   "execution_count": 32,
   "metadata": {},
   "outputs": [
    {
     "name": "stdout",
     "output_type": "stream",
     "text": [
      "INFO:tensorflow:Calling model_fn.\n",
      "INFO:tensorflow:Done calling model_fn.\n",
      "INFO:tensorflow:Graph was finalized.\n",
      "INFO:tensorflow:Restoring parameters from C:\\Users\\ALEKSA~1\\AppData\\Local\\Temp\\tmpbkee4_s7\\model.ckpt-1000\n",
      "INFO:tensorflow:Running local_init_op.\n",
      "INFO:tensorflow:Done running local_init_op.\n"
     ]
    }
   ],
   "source": [
    "prediction3 = list(model3.predict(predict_input_func))"
   ]
  },
  {
   "cell_type": "code",
   "execution_count": 33,
   "metadata": {},
   "outputs": [],
   "source": [
    "final_prediction1=[prediction1[i]['predictions'] for i in range(len(prediction1))]"
   ]
  },
  {
   "cell_type": "code",
   "execution_count": 34,
   "metadata": {},
   "outputs": [],
   "source": [
    "final_prediction2=[prediction2[i]['predictions'] for i in range(len(prediction2))]"
   ]
  },
  {
   "cell_type": "code",
   "execution_count": 35,
   "metadata": {
    "collapsed": true
   },
   "outputs": [],
   "source": [
    "final_prediction3=[prediction3[i]['predictions'] for i in range(len(prediction3))]"
   ]
  },
  {
   "cell_type": "markdown",
   "metadata": {},
   "source": [
    "** Calculate the RMSE. You should be able to get around 100,000 RMSE (remember that this is in the same units as the label.) Do this manually or use [sklearn.metrics](http://scikit-learn.org/stable/modules/generated/sklearn.metrics.mean_squared_error.html) **"
   ]
  },
  {
   "cell_type": "code",
   "execution_count": 36,
   "metadata": {
    "collapsed": true
   },
   "outputs": [],
   "source": [
    "from sklearn.metrics import mean_squared_error"
   ]
  },
  {
   "cell_type": "code",
   "execution_count": 37,
   "metadata": {},
   "outputs": [
    {
     "data": {
      "text/plain": [
       "0.6422617954764254"
      ]
     },
     "execution_count": 37,
     "metadata": {},
     "output_type": "execute_result"
    }
   ],
   "source": [
    "rmse1 = mean_squared_error(y_test, final_prediction1)**0.5\n",
    "rmse1"
   ]
  },
  {
   "cell_type": "code",
   "execution_count": 38,
   "metadata": {},
   "outputs": [
    {
     "data": {
      "text/plain": [
       "0.7206682633069067"
      ]
     },
     "execution_count": 38,
     "metadata": {},
     "output_type": "execute_result"
    }
   ],
   "source": [
    "rmse2 = mean_squared_error(y_test, final_prediction2)**0.5\n",
    "rmse2"
   ]
  },
  {
   "cell_type": "code",
   "execution_count": 39,
   "metadata": {},
   "outputs": [
    {
     "data": {
      "text/plain": [
       "0.7279061575345299"
      ]
     },
     "execution_count": 39,
     "metadata": {},
     "output_type": "execute_result"
    }
   ],
   "source": [
    "rmse3 = mean_squared_error(y_test, final_prediction3)**0.5\n",
    "rmse3"
   ]
  },
  {
   "cell_type": "markdown",
   "metadata": {},
   "source": [
    "# Great Job!"
   ]
  }
 ],
 "metadata": {
  "kernelspec": {
   "display_name": "Python 3",
   "language": "python",
   "name": "python3"
  },
  "language_info": {
   "codemirror_mode": {
    "name": "ipython",
    "version": 3
   },
   "file_extension": ".py",
   "mimetype": "text/x-python",
   "name": "python",
   "nbconvert_exporter": "python",
   "pygments_lexer": "ipython3",
   "version": "3.6.3"
  }
 },
 "nbformat": 4,
 "nbformat_minor": 2
}
