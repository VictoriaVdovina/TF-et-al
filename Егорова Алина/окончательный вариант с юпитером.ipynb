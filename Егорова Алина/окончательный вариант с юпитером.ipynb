{
 "cells": [
  {
   "cell_type": "markdown",
   "metadata": {},
   "source": [
    "10.Заданы координаты прямоугольников на плоскости (не более 10). Определить координаты минимального по размерам прямоугольника, охватывающего заданные. Обеспечить поиск прямоугольников, охватывающих точку с заданными координатами."
   ]
  },
  {
   "cell_type": "code",
   "execution_count": null,
   "metadata": {},
   "outputs": [],
   "source": [
    "Задаем класс Point, чтобы были точки, из которых состоит прямоугольник"
   ]
  },
  {
   "cell_type": "code",
   "execution_count": 22,
   "metadata": {},
   "outputs": [
    {
     "name": "stdout",
     "output_type": "stream",
     "text": [
      "(1, 2)\n"
     ]
    }
   ],
   "source": [
    "class Point:\n",
    "    def __init__(self, x, y):\n",
    "        self.x = x\n",
    "        self.y = y\n",
    "\n",
    "    def __str__(self):        #чтобы принтом печатать экземпляры класса \n",
    "        return self.getString()\n",
    "\n",
    "    def getString(self):\n",
    "        return '({}, {})'.format(self.x, self.y)\n",
    "    \n",
    "p = Point(1, 2)\n",
    "print(p)"
   ]
  },
  {
   "cell_type": "markdown",
   "metadata": {},
   "source": [
    "Класс Rectangle с атрибутами - координатами вершин"
   ]
  },
  {
   "cell_type": "code",
   "execution_count": 26,
   "metadata": {},
   "outputs": [],
   "source": [
    "class Rectangle:\n",
    "    def __init__(self, LB, LT, RT, RB):\n",
    "        self.LB = LB\n",
    "        self.LT = LT\n",
    "        self.RT = RT\n",
    "        self.RB = RB\n",
    "        \n",
    "#для красивых строчек с ровным количеством пробелов:\n",
    "        \n",
    "    def __str__(self):\n",
    "        top = '{:-<10}{:->10}\\n'.format(self.LT.getString(), self.RT.getString()) \n",
    "        sides = '{:<10}{:>10}\\n'.format('|', '|') * 3\n",
    "        bottom = '{:-<10}{:->10}\\n'.format(self.LB.getString(), self.RB.getString())\n",
    "        return top + sides + bottom\n",
    "    \n",
    "    #Проверяет наличие точки в прямоугольнике\n",
    "\n",
    "    def contain(self, point):\n",
    "        x = point.x\n",
    "        y = point.y\n",
    "\n",
    "        LB = self.LB\n",
    "        LT = self.LT\n",
    "        RT = self.RT\n",
    "\n",
    "        if y <= LT.y and y >= LB.y and x >= LT.x and x <= RT.x:\n",
    "            return True\n",
    "        else:\n",
    "            return False"
   ]
  },
  {
   "cell_type": "code",
   "execution_count": null,
   "metadata": {},
   "outputs": [],
   "source": [
    "Задаем координаты некоторого прямоугольника"
   ]
  },
  {
   "cell_type": "raw",
   "metadata": {},
   "source": [
    "LB1 = Point(1, 1)\n",
    "LT1 = Point(1, 4)\n",
    "RT1 = Point(4, 4)\n",
    "RB1 = Point(4, 1)\n",
    "rec1 = Rectangle(LB1, LT1, RT1, RB1)\n",
    "\n",
    "print(rec1)"
   ]
  },
  {
   "cell_type": "markdown",
   "metadata": {},
   "source": [
    "Задаем координаты другого прямоугольника"
   ]
  },
  {
   "cell_type": "code",
   "execution_count": 28,
   "metadata": {},
   "outputs": [
    {
     "name": "stdout",
     "output_type": "stream",
     "text": [
      "(6, 9)--------(9, 9)\n",
      "|                  |\n",
      "|                  |\n",
      "|                  |\n",
      "(6, 6)--------(6, 9)\n",
      "\n"
     ]
    }
   ],
   "source": [
    "LB2 = Point(6, 6)\n",
    "LT2 = Point(6, 9)\n",
    "RT2 = Point(9, 9)\n",
    "RB2 = Point(6, 9)\n",
    "rec2 = Rectangle(LB2, LT2, RT2, RB2)\n",
    "\n",
    "print(rec2)"
   ]
  },
  {
   "cell_type": "markdown",
   "metadata": {},
   "source": [
    "Функция, которая ищет самые крайние точки среди прямоугольников"
   ]
  },
  {
   "cell_type": "code",
   "execution_count": null,
   "metadata": {},
   "outputs": [],
   "source": [
    "def find_outermost_points(rectangles):\n",
    "    firstRectangle = rectangles[0]\n",
    "    outermostBottom = firstRectangle.LB.y\n",
    "    outermostLeft = firstRectangle.LB.x\n",
    "    outermostTop = firstRectangle.RT.y\n",
    "    outermostRight = firstRectangle.RT.x\n",
    "\n",
    "    for rectangle in rectangles:\n",
    "        bottom = rectangle.LB.y\n",
    "        left = rectangle.LB.x\n",
    "        top = rectangle.RT.y\n",
    "        right = rectangle.RT.x\n",
    "\n",
    "        if outermostBottom > bottom:                   \n",
    "            outermostBottom = bottom\n",
    "        if outermostLeft > left:\n",
    "            outermostLeft = left\n",
    "        if outermostTop < top:\n",
    "            outermostTop = top\n",
    "        if outermostRight < right:\n",
    "            outermostRight = right\n",
    "\n",
    " #словарь для удобства\n",
    "    return {\n",
    "        'outermostBottom': outermostBottom,\n",
    "        'outermostLeft': outermostLeft,\n",
    "        'outermostTop': outermostTop,\n",
    "        'outermostRight': outermostRight\n",
    "    }"
   ]
  },
  {
   "cell_type": "markdown",
   "metadata": {},
   "source": [
    "Функция принимает точки и возвращает прямоугольник"
   ]
  },
  {
   "cell_type": "code",
   "execution_count": 18,
   "metadata": {},
   "outputs": [],
   "source": [
    "def build_rectangle_by_points(points):\n",
    "    outermostBottom = points['outermostBottom']\n",
    "    outermostLeft = points['outermostLeft']\n",
    "    outermostTop = points['outermostTop']\n",
    "    outermostRight = points['outermostRight']\n",
    "\n",
    "    LB = Point(outermostLeft, outermostBottom)\n",
    "    LT = Point(outermostLeft, outermostTop)\n",
    "    RT = Point(outermostRight, outermostTop)\n",
    "    RB = Point(outermostRight, outermostBottom)\n",
    "\n",
    "    return Rectangle(LB, LT, RT, RB)"
   ]
  },
  {
   "cell_type": "markdown",
   "metadata": {},
   "source": [
    "Определить координаты минимального по размерам прямоугольника, охватывающего заданные."
   ]
  },
  {
   "cell_type": "code",
   "execution_count": 29,
   "metadata": {},
   "outputs": [
    {
     "name": "stdout",
     "output_type": "stream",
     "text": [
      "(1, 9)--------(9, 9)\n",
      "|                  |\n",
      "|                  |\n",
      "|                  |\n",
      "(1, 1)--------(9, 1)\n",
      "\n"
     ]
    }
   ],
   "source": [
    "# First Task\n",
    "def find_the_rectangle(rectangles):\n",
    "    points = find_outermost_points(rectangles)\n",
    "    return build_rectangle_by_points(points)\n",
    "\n",
    "\n",
    "result1 = find_the_rectangle([rec1, rec2])\n",
    "print(result1)"
   ]
  },
  {
   "cell_type": "markdown",
   "metadata": {},
   "source": [
    "Jбеспечить поиск прямоугольников, охватывающих точку с заданными координатами."
   ]
  },
  {
   "cell_type": "code",
   "execution_count": 30,
   "metadata": {},
   "outputs": [
    {
     "name": "stdout",
     "output_type": "stream",
     "text": [
      "(1, 4)--------(4, 4)\n",
      "|                  |\n",
      "|                  |\n",
      "|                  |\n",
      "(1, 1)--------(4, 1)\n",
      "\n"
     ]
    }
   ],
   "source": [
    "# Second Task\n",
    "def find_rectangles_containing_the_point(rectangles, point):\n",
    "    res = []\n",
    "    for rectangle in rectangles:\n",
    "        if rectangle.contain(point):\n",
    "            res.append(rectangle) #добавляем в конец списка\n",
    "\n",
    "    return res\n",
    "\n",
    "\n",
    "result2 = find_rectangles_containing_the_point([rec1, rec2], Point(2, 2))\n",
    "for rectangle in result2:\n",
    "    print(rectangle)\n",
    "\n"
   ]
  }
 ],
 "metadata": {
  "kernelspec": {
   "display_name": "Python 3",
   "language": "python",
   "name": "python3"
  },
  "language_info": {
   "codemirror_mode": {
    "name": "ipython",
    "version": 3
   },
   "file_extension": ".py",
   "mimetype": "text/x-python",
   "name": "python",
   "nbconvert_exporter": "python",
   "pygments_lexer": "ipython3",
   "version": "3.6.5"
  }
 },
 "nbformat": 4,
 "nbformat_minor": 2
}
