{
 "cells": [
  {
   "cell_type": "code",
   "execution_count": 22,
   "metadata": {},
   "outputs": [],
   "source": [
    "#x^2+5x-4-x^3-5x^2+4x-13\n",
    "class Operation():                  \n",
    "    \n",
    "    def __init__(self, input_nodes = []):\n",
    "        self.input_nodes = input_nodes \n",
    "        self.output_nodes = []\n",
    "        for node in input_nodes:\n",
    "            node.output_nodes.append(self)\n",
    "            \n",
    "        _default_graph.operations.append(self)\n",
    "        \n",
    "    def compute(self):\n",
    "        pass"
   ]
  },
  {
   "cell_type": "code",
   "execution_count": 23,
   "metadata": {},
   "outputs": [],
   "source": [
    "class add(Operation):\n",
    "    \n",
    "    def __init__(self, x, y):\n",
    "         \n",
    "        super().__init__([x, y])\n",
    "\n",
    "    def compute(self, x_var, y_var):\n",
    "         \n",
    "        self.inputs = [x_var, y_var]\n",
    "        return x_var + y_var\n",
    "    \n",
    "class multiply(Operation):\n",
    "     \n",
    "    def __init__(self, a, b):\n",
    "        \n",
    "        super().__init__([a, b])\n",
    "    \n",
    "    def compute(self, a_var, b_var):\n",
    "         \n",
    "        self.inputs = [a_var, b_var]\n",
    "        return a_var * b_var\n",
    "    \n",
    "class Placeholder():\n",
    "    \n",
    "    def __init__(self):\n",
    "        \n",
    "        self.output_nodes = []\n",
    "        \n",
    "        _default_graph.placeholders.append(self)\n",
    "        \n",
    "class Variable():\n",
    "    \n",
    "    def __init__(self, initial_value = None):\n",
    "        \n",
    "        self.value = initial_value\n",
    "        self.output_nodes = []\n",
    "        \n",
    "         \n",
    "        _default_graph.variables.append(self)"
   ]
  },
  {
   "cell_type": "code",
   "execution_count": 24,
   "metadata": {},
   "outputs": [],
   "source": [
    "class Graph():\n",
    "    \n",
    "    \n",
    "    def __init__(self):\n",
    "        \n",
    "        self.operations = []\n",
    "        self.placeholders = []\n",
    "        self.variables = []\n",
    "        \n",
    "    def set_as_default(self):\n",
    "        global _default_graph\n",
    "        _default_graph = self"
   ]
  },
  {
   "cell_type": "code",
   "execution_count": 28,
   "metadata": {},
   "outputs": [],
   "source": [
    "g = Graph()\n",
    "g.set_as_default()"
   ]
  },
  {
   "cell_type": "code",
   "execution_count": 29,
   "metadata": {},
   "outputs": [],
   "source": [
    "x = Placeholder()"
   ]
  },
  {
   "cell_type": "code",
   "execution_count": 30,
   "metadata": {},
   "outputs": [],
   "source": [
    "a = Variable(5)\n",
    "b = Variable(-4)\n",
    "c = Variable(-5)\n",
    "d = Variable(4)\n",
    "e = Variable(-13)\n",
    "m = Variable(-1)"
   ]
  },
  {
   "cell_type": "code",
   "execution_count": 31,
   "metadata": {},
   "outputs": [],
   "source": [
    "f = multiply(x,x) #x^2\n",
    "g = multiply(c,f) #-5x^2\n",
    "h = multiply(f,x) #x^3\n",
    "z = multiply(h,m) #-x^3\n",
    "i = multiply(b,x) #4x\n",
    "j = multiply(a,x) #5x\n",
    "\n",
    "k = add(f,j) # x^2+5x\n",
    "l = add(k,b) # x^2+5x-4\n",
    "s = add(l,z) # x^2+5x-4-x^3\n",
    "n = add(s,g) # x^2+5x-4-x^3-5x^2\n",
    "o = add(n,i) # x^2+5x-4-x^3-5x^2+4x\n",
    "p = add(o,e) # x^2+5x-4-x^3-5x^2+4x-13\n"
   ]
  },
  {
   "cell_type": "code",
   "execution_count": 32,
   "metadata": {},
   "outputs": [],
   "source": [
    "import numpy as np\n",
    "\n",
    "def traverse_postorder(operation):\n",
    "    nodes_postorder = []\n",
    "    def recurse(node):\n",
    "        if isinstance(node, Operation):\n",
    "            for input_node in node.input_nodes:\n",
    "                recurse(input_node)\n",
    "        nodes_postorder.append(node)\n",
    "\n",
    "    recurse(operation)\n",
    "    return nodes_postorder"
   ]
  },
  {
   "cell_type": "code",
   "execution_count": 33,
   "metadata": {},
   "outputs": [],
   "source": [
    "class Session:\n",
    "    \n",
    "    def run(self, operation, feed_dict = {}):\n",
    "        nodes_postorder = traverse_postorder(operation)\n",
    "        \n",
    "        for node in nodes_postorder:\n",
    "            if type(node) == Placeholder:\n",
    "                \n",
    "                node.output = feed_dict[node]\n",
    "                \n",
    "            elif type(node) == Variable:\n",
    "                node.output = node.value\n",
    "                \n",
    "            else:                \n",
    "                node.inputs = [input_node.output for input_node in node.input_nodes]\n",
    "                 \n",
    "                node.output = node.compute(*node.inputs)\n",
    "                \n",
    "            if type(node.output) == list:\n",
    "                node.output = np.array(node.output)\n",
    "        \n",
    "        return operation.output"
   ]
  },
  {
   "cell_type": "code",
   "execution_count": 34,
   "metadata": {},
   "outputs": [],
   "source": [
    "sess = Session()"
   ]
  },
  {
   "cell_type": "code",
   "execution_count": 35,
   "metadata": {},
   "outputs": [],
   "source": [
    "res = sess.run(operation=p, feed_dict = {x:[7, 2, 10]})"
   ]
  },
  {
   "cell_type": "code",
   "execution_count": 36,
   "metadata": {},
   "outputs": [
    {
     "data": {
      "text/plain": [
       "array([ -549,   -39, -1407])"
      ]
     },
     "execution_count": 36,
     "metadata": {},
     "output_type": "execute_result"
    }
   ],
   "source": [
    "res\n"
   ]
  },
  {
   "cell_type": "code",
   "execution_count": null,
   "metadata": {},
   "outputs": [],
   "source": [
    "z"
   ]
  }
 ],
 "metadata": {
  "kernelspec": {
   "display_name": "Python 3",
   "language": "python",
   "name": "python3"
  },
  "language_info": {
   "codemirror_mode": {
    "name": "ipython",
    "version": 3
   },
   "file_extension": ".py",
   "mimetype": "text/x-python",
   "name": "python",
   "nbconvert_exporter": "python",
   "pygments_lexer": "ipython3",
   "version": "3.6.4"
  }
 },
 "nbformat": 4,
 "nbformat_minor": 2
}
